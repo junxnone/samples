{
  "nbformat": 4,
  "nbformat_minor": 0,
  "metadata": {
    "colab": {
      "name": "faiss_basic.ipynb",
      "provenance": [],
      "include_colab_link": true
    },
    "kernelspec": {
      "name": "python3",
      "display_name": "Python 3"
    },
    "accelerator": "GPU"
  },
  "cells": [
    {
      "cell_type": "markdown",
      "metadata": {
        "id": "view-in-github",
        "colab_type": "text"
      },
      "source": [
        "<a href=\"https://colab.research.google.com/github/junxnone/examples/blob/master/algo/faiss_basic.ipynb\" target=\"_parent\"><img src=\"https://colab.research.google.com/assets/colab-badge.svg\" alt=\"Open In Colab\"/></a>"
      ]
    },
    {
      "cell_type": "code",
      "metadata": {
        "id": "BSIHxaKUsDBY",
        "colab_type": "code",
        "outputId": "62bac4ee-8fde-408e-aa3d-139ccc2b9683",
        "colab": {
          "base_uri": "https://localhost:8080/",
          "height": 52
        }
      },
      "source": [
        "!pip3 install faiss faiss-gpu numpy"
      ],
      "execution_count": 1,
      "outputs": [
        {
          "output_type": "stream",
          "text": [
            "Requirement already satisfied: faiss-gpu in /usr/local/lib/python3.6/dist-packages (1.6.0)\n",
            "Requirement already satisfied: numpy in /usr/local/lib/python3.6/dist-packages (1.17.3)\n"
          ],
          "name": "stdout"
        }
      ]
    },
    {
      "cell_type": "code",
      "metadata": {
        "id": "_mAyUVN1s-sQ",
        "colab_type": "code",
        "outputId": "c9364fbb-d17e-4448-82c9-8b5c60605ac1",
        "colab": {
          "base_uri": "https://localhost:8080/",
          "height": 105
        }
      },
      "source": [
        "!apt install libomp-dev"
      ],
      "execution_count": 2,
      "outputs": [
        {
          "output_type": "stream",
          "text": [
            "Reading package lists... Done\n",
            "Building dependency tree       \n",
            "Reading state information... Done\n",
            "libomp-dev is already the newest version (5.0.1-1).\n",
            "0 upgraded, 0 newly installed, 0 to remove and 28 not upgraded.\n"
          ],
          "name": "stdout"
        }
      ]
    },
    {
      "cell_type": "code",
      "metadata": {
        "id": "0POFmIxcrvtS",
        "colab_type": "code",
        "colab": {
          "base_uri": "https://localhost:8080/",
          "height": 52
        },
        "outputId": "8bbaf186-f1c6-4cb5-8de5-68bcbbdbed0c"
      },
      "source": [
        "import faiss\n",
        "import numpy as np"
      ],
      "execution_count": 3,
      "outputs": [
        {
          "output_type": "stream",
          "text": [
            "Loading faiss with AVX2 support.\n",
            "Loading faiss.\n"
          ],
          "name": "stderr"
        }
      ]
    },
    {
      "cell_type": "code",
      "metadata": {
        "id": "hD3ANoGBr541",
        "colab_type": "code",
        "outputId": "e67c82dc-d4a1-44f4-9d9c-92246e763a76",
        "colab": {
          "base_uri": "https://localhost:8080/",
          "height": 34
        }
      },
      "source": [
        "d = 1024                           # dimension\n",
        "nb = 64                      # database size\n",
        "np.random.seed(1234)             # make reproducible\n",
        "xb = np.random.random((nb, d)).astype('float32')\n",
        "# xb[:, 0] += np.arange(nb) / 1000.\n",
        "print(xb.shape)"
      ],
      "execution_count": 4,
      "outputs": [
        {
          "output_type": "stream",
          "text": [
            "(64, 1024)\n"
          ],
          "name": "stdout"
        }
      ]
    },
    {
      "cell_type": "markdown",
      "metadata": {
        "id": "RqRVJWVtup4a",
        "colab_type": "text"
      },
      "source": [
        "# FlatL2"
      ]
    },
    {
      "cell_type": "code",
      "metadata": {
        "id": "yXuX0LEquKeD",
        "colab_type": "code",
        "outputId": "b1b2101a-846e-4f23-a7e1-bf3ef548f617",
        "colab": {
          "base_uri": "https://localhost:8080/",
          "height": 34
        }
      },
      "source": [
        "index = faiss.IndexFlatL2(d)   # build the index\n",
        "index.add(xb)                  # add vectors to the index\n",
        "print(index.ntotal)"
      ],
      "execution_count": 5,
      "outputs": [
        {
          "output_type": "stream",
          "text": [
            "64\n"
          ],
          "name": "stdout"
        }
      ]
    },
    {
      "cell_type": "code",
      "metadata": {
        "id": "OU4lhTE9uMhq",
        "colab_type": "code",
        "outputId": "b1eb4e20-8ddc-4f8b-cd3a-9ca1d3cee257",
        "colab": {
          "base_uri": "https://localhost:8080/",
          "height": 70
        }
      },
      "source": [
        "t1=np.random.random((1, d)).astype('float32')\n",
        "print(t1.shape)\n",
        "D, I = index.search(t1, 5)     # actual search\n",
        "print(I)\n",
        "print(D)"
      ],
      "execution_count": 6,
      "outputs": [
        {
          "output_type": "stream",
          "text": [
            "(1, 1024)\n",
            "[[48 40 29 55 54]]\n",
            "[[157.486   159.61536 159.80894 163.25558 164.56345]]\n"
          ],
          "name": "stdout"
        }
      ]
    },
    {
      "cell_type": "markdown",
      "metadata": {
        "id": "WHZK_q2dtlWF",
        "colab_type": "text"
      },
      "source": [
        "#FlatIP"
      ]
    },
    {
      "cell_type": "code",
      "metadata": {
        "id": "56cMYq7ttoIS",
        "colab_type": "code",
        "outputId": "9d040116-94c9-44ac-c6d7-048981300ff2",
        "colab": {
          "base_uri": "https://localhost:8080/",
          "height": 87
        }
      },
      "source": [
        "index_ip = faiss.IndexFlatIP(d)   # build the index\n",
        "index_ip.add(xb)                  # add vectors to the index\n",
        "print(index_ip.ntotal)\n",
        "\n",
        "print(t1.shape)\n",
        "D, I = index_ip.search(t1, 5)     # actual search\n",
        "print(I)\n",
        "print(D)"
      ],
      "execution_count": 7,
      "outputs": [
        {
          "output_type": "stream",
          "text": [
            "64\n",
            "(1, 1024)\n",
            "[[40 53 54 51 29]]\n",
            "[[274.67383 274.55933 273.45782 272.37405 271.29324]]\n"
          ],
          "name": "stdout"
        }
      ]
    },
    {
      "cell_type": "markdown",
      "metadata": {
        "id": "ko7pxhW9u0yt",
        "colab_type": "text"
      },
      "source": [
        "# IndexIVFFlat\n"
      ]
    },
    {
      "cell_type": "code",
      "metadata": {
        "id": "zLDPLJQUu2h7",
        "colab_type": "code",
        "outputId": "8a41c208-d89f-4348-9cce-3a866b9048c2",
        "colab": {
          "base_uri": "https://localhost:8080/",
          "height": 87
        }
      },
      "source": [
        "nlist = 50\n",
        "k = 5\n",
        "quantizer = faiss.IndexFlatL2(d)  # the other index\n",
        "index_ivf = faiss.IndexIVFFlat(quantizer, d, nlist)\n",
        "assert not index_ivf.is_trained\n",
        "index_ivf.train(xb)\n",
        "assert index_ivf.is_trained\n",
        "\n",
        "index_ivf.add(xb)                  # add may be a bit slower as well\n",
        "D, I = index_ivf.search(t1, k)     # actual search\n",
        "print(I)                            # neighbors of the 5 last queries\n",
        "\n",
        "for npb in [5,10,20]:\n",
        "  index_ivf.nprobe = npb              # default nprobe is 1, try a few more\n",
        "  D, I = index_ivf.search(t1, k)\n",
        "  print(\"nprobe = {}：   I ： {}\".format(npb,I))   # neighbors of the 5 last queries\n"
      ],
      "execution_count": 8,
      "outputs": [
        {
          "output_type": "stream",
          "text": [
            "[[48 59 24 -1 -1]]\n",
            "nprobe = 5：   I ： [[48 29 54 38 27]]\n",
            "nprobe = 10：   I ： [[48 40 29 54 38]]\n",
            "nprobe = 20：   I ： [[48 40 29 55 54]]\n"
          ],
          "name": "stdout"
        }
      ]
    },
    {
      "cell_type": "markdown",
      "metadata": {
        "id": "5e7atcc01Sp1",
        "colab_type": "text"
      },
      "source": [
        "> default nprobe = 1，只有第一个是相同的  \n",
        "> nprobe = 10 ， 则和FlatL2 完全相同\n",
        "·"
      ]
    },
    {
      "cell_type": "markdown",
      "metadata": {
        "id": "tVWKJdRGutyf",
        "colab_type": "text"
      },
      "source": [
        "# Kmeans"
      ]
    },
    {
      "cell_type": "code",
      "metadata": {
        "id": "goWbHbzbuNpe",
        "colab_type": "code",
        "outputId": "90915a7b-f582-44ef-ed5f-01bb162cf223",
        "colab": {
          "base_uri": "https://localhost:8080/",
          "height": 34
        }
      },
      "source": [
        "ncentroids = 7\n",
        "niter = 200\n",
        "verbose = True\n",
        "d = xb.shape[1]\n",
        "kmeans = faiss.Kmeans(d, ncentroids, niter=niter, verbose=verbose)\n",
        "kmeans.train(xb)"
      ],
      "execution_count": 9,
      "outputs": [
        {
          "output_type": "execute_result",
          "data": {
            "text/plain": [
              "4813.1514"
            ]
          },
          "metadata": {
            "tags": []
          },
          "execution_count": 9
        }
      ]
    },
    {
      "cell_type": "code",
      "metadata": {
        "id": "U3EZldU-uwis",
        "colab_type": "code",
        "outputId": "0edda214-d36f-4a93-ce80-ddaf9dd955e9",
        "colab": {
          "base_uri": "https://localhost:8080/",
          "height": 230
        }
      },
      "source": [
        "D, I = kmeans.index.search(xb, 1)\n",
        "print(I.T)\n",
        "print(D.T)"
      ],
      "execution_count": 10,
      "outputs": [
        {
          "output_type": "stream",
          "text": [
            "[[1 3 5 4 3 5 6 4 2 2 6 0 3 3 6 4 6 4 6 2 4 0 6 6 6 3 4 3 2 6 2 3 6 6 5 3\n",
            "  4 4 3 6 6 4 3 5 4 3 2 2 1 2 6 5 6 6 3 2 2 4 2 3 4 2 5 3]]\n",
            "[[39.16693  81.2424   71.83093  74.82599  80.40521  66.74335  77.26056\n",
            "  78.24255  79.058105 76.43671  79.79187  39.23761  82.380615 80.03906\n",
            "  78.1051   72.03485  78.605774 75.52911  87.35712  77.765625 79.619385\n",
            "  39.237732 80.89673  78.6095   77.430176 73.90021  73.64612  83.806885\n",
            "  80.81793  76.93744  71.69946  76.954956 82.90747  74.43231  71.99042\n",
            "  80.73645  81.57654  75.703735 72.405396 81.13452  79.72034  74.12305\n",
            "  81.19641  68.994995 82.51819  81.76337  78.07623  76.30298  39.166687\n",
            "  79.2229   77.87836  69.59039  77.61139  79.16815  80.833496 77.67084\n",
            "  76.64105  76.6427   79.579834 74.54474  80.09155  79.50922  72.045715\n",
            "  79.75543 ]]\n"
          ],
          "name": "stdout"
        }
      ]
    },
    {
      "cell_type": "code",
      "metadata": {
        "id": "nQ5SFO-yuymL",
        "colab_type": "code",
        "outputId": "1ae10a1f-66c1-439d-fa0c-83fa3ec3c4dc",
        "colab": {
          "base_uri": "https://localhost:8080/",
          "height": 158
        }
      },
      "source": [
        "index = faiss.IndexFlatL2(d)\n",
        "index.add(xb)\n",
        "D, I = index.search (kmeans.centroids, 1)\n",
        "print(kmeans.centroids.shape)\n",
        "print(I)"
      ],
      "execution_count": 11,
      "outputs": [
        {
          "output_type": "stream",
          "text": [
            "(7, 1024)\n",
            "[[11]\n",
            " [ 0]\n",
            " [30]\n",
            " [38]\n",
            " [15]\n",
            " [ 5]\n",
            " [33]]\n"
          ],
          "name": "stdout"
        }
      ]
    },
    {
      "cell_type": "markdown",
      "metadata": {
        "id": "5zSqL9DhM7j8",
        "colab_type": "text"
      },
      "source": [
        "# PCA"
      ]
    },
    {
      "cell_type": "code",
      "metadata": {
        "id": "ljLvKe9Cuz7q",
        "colab_type": "code",
        "outputId": "84ef2ba3-08e0-4ff2-831a-79068f8a5a6e",
        "colab": {
          "base_uri": "https://localhost:8080/",
          "height": 87
        }
      },
      "source": [
        "mt = np.random.rand(1000, 40).astype('float32')\n",
        "mat = faiss.PCAMatrix (40, 10)\n",
        "mat.train(mt)\n",
        "assert mat.is_trained\n",
        "tr = mat.apply_py(mt)\n",
        "# print this to show that the magnitude of tr's columns is decreasing\n",
        "print(mt.shape)\n",
        "print(tr.shape)\n",
        "print((tr ** 2).sum(0))"
      ],
      "execution_count": 12,
      "outputs": [
        {
          "output_type": "stream",
          "text": [
            "(1000, 40)\n",
            "(1000, 10)\n",
            "[117.16509  112.90977  112.0525   107.98953  105.371925 103.848915\n",
            " 100.88083   98.76982   97.85616   96.17181 ]\n"
          ],
          "name": "stdout"
        }
      ]
    },
    {
      "cell_type": "markdown",
      "metadata": {
        "id": "6JciTxSqOCn1",
        "colab_type": "text"
      },
      "source": [
        "# PQ encoding / decoding\n",
        "## 1 ProductQuantizer "
      ]
    },
    {
      "cell_type": "code",
      "metadata": {
        "id": "ADWmBPfzN_fR",
        "colab_type": "code",
        "outputId": "2221c8e3-1a39-4b1a-e1ad-dd3ebe520a89",
        "colab": {
          "base_uri": "https://localhost:8080/",
          "height": 141
        }
      },
      "source": [
        "d = 32  # data dimension\n",
        "cs = 4  # code size (bytes)\n",
        "\n",
        "# train set \n",
        "nt = 10000\n",
        "xt = np.random.rand(nt, d).astype('float32')\n",
        "\n",
        "# dataset to encode (could be same as train)\n",
        "n = 20000\n",
        "x = np.random.rand(n, d).astype('float32')\n",
        "\n",
        "pq = faiss.ProductQuantizer(d, cs, 8)\n",
        "pq.train(xt)\n",
        "\n",
        "# encode \n",
        "codes = pq.compute_codes(x)\n",
        "\n",
        "# decode\n",
        "x2 = pq.decode(codes)\n",
        "\n",
        "# compute reconstruction error\n",
        "avg_relative_error = ((x - x2)**2).sum() / (x ** 2).sum()\n",
        "print(x.shape)\n",
        "print(codes.shape)\n",
        "print(x2.shape)\n",
        "print(type(x[0][0]))\n",
        "print(type(codes[0][0]))\n",
        "print(type(x2[0][0]))\n",
        "print(avg_relative_error)"
      ],
      "execution_count": 13,
      "outputs": [
        {
          "output_type": "stream",
          "text": [
            "(20000, 32)\n",
            "(20000, 4)\n",
            "(20000, 32)\n",
            "<class 'numpy.float32'>\n",
            "<class 'numpy.uint8'>\n",
            "<class 'numpy.float32'>\n",
            "0.06624736\n"
          ],
          "name": "stdout"
        }
      ]
    },
    {
      "cell_type": "markdown",
      "metadata": {
        "id": "BCkVS6Z9O85A",
        "colab_type": "text"
      },
      "source": [
        "# 2 ScalarQuantizer"
      ]
    },
    {
      "cell_type": "code",
      "metadata": {
        "id": "jjFPoDV_O-Lx",
        "colab_type": "code",
        "outputId": "03a07201-1bee-41a2-cdcf-8db845cd7c7b",
        "colab": {
          "base_uri": "https://localhost:8080/",
          "height": 141
        }
      },
      "source": [
        "d = 32  # data dimension\n",
        "\n",
        "# train set \n",
        "nt = 10000\n",
        "xt = np.random.rand(nt, d).astype('float32')\n",
        "\n",
        "# dataset to encode (could be same as train)\n",
        "n = 20000\n",
        "x = np.random.rand(n, d).astype('float32')\n",
        "\n",
        "# QT_8bit allocates 8 bits per dimension (QT_4bit also works)\n",
        "sq = faiss.ScalarQuantizer(d, faiss.ScalarQuantizer.QT_8bit)\n",
        "sq.train(xt)\n",
        "\n",
        "# encode \n",
        "codes = sq.compute_codes(x)\n",
        "\n",
        "# decode\n",
        "x2 = sq.decode(codes)\n",
        "\n",
        "# compute reconstruction error\n",
        "avg_relative_error = ((x - x2)**2).sum() / (x ** 2).sum()\n",
        "\n",
        "print(x.shape)\n",
        "print(codes.shape)\n",
        "print(x2.shape)\n",
        "print(type(x[0][0]))\n",
        "print(type(codes[0][0]))\n",
        "print(type(x2[0][0]))\n",
        "print(avg_relative_error)\n"
      ],
      "execution_count": 14,
      "outputs": [
        {
          "output_type": "stream",
          "text": [
            "(20000, 32)\n",
            "(20000, 32)\n",
            "(20000, 32)\n",
            "<class 'numpy.float32'>\n",
            "<class 'numpy.uint8'>\n",
            "<class 'numpy.float32'>\n",
            "3.8406424e-06\n"
          ],
          "name": "stdout"
        }
      ]
    },
    {
      "cell_type": "markdown",
      "metadata": {
        "id": "7WmB3-nCMAFn",
        "colab_type": "text"
      },
      "source": [
        "# CPU VS GPU"
      ]
    },
    {
      "cell_type": "code",
      "metadata": {
        "id": "rsA0FRAxEzNh",
        "colab_type": "code",
        "colab": {
          "base_uri": "https://localhost:8080/",
          "height": 34
        },
        "outputId": "5afed74a-8d98-448d-eb29-17350abacc5a"
      },
      "source": [
        "print(\"faiss gpus: {}\".format(faiss.get_num_gpus()))\n",
        "\n",
        "index = faiss.index_factory(128, \"PCA64,IVF16384_HNSW32,Flat\")\n",
        "xt = faiss.rand((100000, 128))"
      ],
      "execution_count": 22,
      "outputs": [
        {
          "output_type": "stream",
          "text": [
            "faiss gpus: 1\n"
          ],
          "name": "stdout"
        }
      ]
    },
    {
      "cell_type": "code",
      "metadata": {
        "id": "F0PSIcMNGlbW",
        "colab_type": "code",
        "colab": {
          "base_uri": "https://localhost:8080/",
          "height": 52
        },
        "outputId": "6effc8b0-ca4a-4d16-dd9a-887604d3b3c1"
      },
      "source": [
        "%%time\n",
        "# baseline training without GPU\n",
        "index.train(xt)"
      ],
      "execution_count": 26,
      "outputs": [
        {
          "output_type": "stream",
          "text": [
            "CPU times: user 6min 41s, sys: 223 ms, total: 6min 41s\n",
            "Wall time: 3min 50s\n"
          ],
          "name": "stdout"
        }
      ]
    },
    {
      "cell_type": "code",
      "metadata": {
        "id": "l4sNokovG_gn",
        "colab_type": "code",
        "colab": {}
      },
      "source": [
        "index2 = faiss.index_factory(128, \"PCA64,IVF16384_HNSW32,Flat\")\n",
        "\n",
        "index_ivf = faiss.extract_index_ivf(index2)\n",
        "clustering_index = faiss.index_cpu_to_all_gpus(faiss.IndexFlatL2(64))\n",
        "index_ivf.clustering_index = clustering_index"
      ],
      "execution_count": 0,
      "outputs": []
    },
    {
      "cell_type": "code",
      "metadata": {
        "id": "r-p-FDAvHA58",
        "colab_type": "code",
        "colab": {
          "base_uri": "https://localhost:8080/",
          "height": 52
        },
        "outputId": "cc1d6723-2e24-4087-a41b-81c1962bedf8"
      },
      "source": [
        "%%time\n",
        "# training with GPU\n",
        "index2.train(xt)"
      ],
      "execution_count": 25,
      "outputs": [
        {
          "output_type": "stream",
          "text": [
            "CPU times: user 1min 48s, sys: 970 ms, total: 1min 49s\n",
            "Wall time: 56.8 s\n"
          ],
          "name": "stdout"
        }
      ]
    }
  ]
}