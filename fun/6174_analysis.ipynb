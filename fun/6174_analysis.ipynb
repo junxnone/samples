{
  "nbformat": 4,
  "nbformat_minor": 0,
  "metadata": {
    "colab": {
      "name": "6174_analysis.ipynb",
      "provenance": [],
      "collapsed_sections": [],
      "authorship_tag": "ABX9TyP9j7GydxHiwmzrxGXN7H/3",
      "include_colab_link": true
    },
    "kernelspec": {
      "name": "python3",
      "display_name": "Python 3"
    },
    "language_info": {
      "name": "python"
    }
  },
  "cells": [
    {
      "cell_type": "markdown",
      "metadata": {
        "id": "view-in-github",
        "colab_type": "text"
      },
      "source": [
        "<a href=\"https://colab.research.google.com/github/junxnone/examples/blob/master/fun/6174_analysis.ipynb\" target=\"_parent\"><img src=\"https://colab.research.google.com/assets/colab-badge.svg\" alt=\"Open In Colab\"/></a>"
      ]
    },
    {
      "cell_type": "markdown",
      "source": [
        "- 6174 是一个特殊的数字\n",
        "- 4位数中(除了所有值是一样的 1111/2222/...) 都可以通过对4位数进行排序后，大值减去小值，循环一定的次数得到 6174\n",
        "- 例如 3132\n",
        " - 3321 - 1233 = 2088\n",
        " - 8820 - 288 = 8532\n",
        " - 8532 - 2358 = 6174\n",
        " - loops = 3"
      ],
      "metadata": {
        "id": "_L2d4U-CZ4mP"
      }
    },
    {
      "cell_type": "code",
      "execution_count": 1,
      "metadata": {
        "id": "T0xCthBgVGvp"
      },
      "outputs": [],
      "source": [
        "import pandas as pd"
      ]
    },
    {
      "cell_type": "code",
      "source": [
        "def update_minmax(dn):\n",
        "    new_dn = [int(dn/1000), int(dn%1000/100),int(dn%100/10), int(dn%10)]\n",
        "    minsdn = sorted(new_dn)\n",
        "    smin = minsdn[0] * 1000 + minsdn[1] * 100 + minsdn[2] * 10  + minsdn[3]\n",
        "    smax = minsdn[3] * 1000 + minsdn[2] * 100 + minsdn[1] * 10  + minsdn[0]\n",
        "    return smin, smax\n",
        "\n",
        "\n",
        "def cal_loops(dn):\n",
        "    smin, smax = update_minmax(dn)\n",
        "    #print(f'input is {dn} - smin {smin} - smax {smax}')\n",
        "    wloop = 0\n",
        "    while True:\n",
        "        snew = smax - smin\n",
        "        #print(f'smax - smin {smax} - {smin} = {snew}')\n",
        "        wloop += 1\n",
        "        if snew == 6174:\n",
        "            #print(f'Final is 6174, loop is {wloop}')\n",
        "            break\n",
        "        smin, smax = update_minmax(snew)\n",
        "        if wloop > 10000:\n",
        "            #print(f'Maybe not right')\n",
        "            break\n",
        "    return wloop"
      ],
      "metadata": {
        "id": "sVOedVekVV0c"
      },
      "execution_count": 4,
      "outputs": []
    },
    {
      "cell_type": "code",
      "source": [
        "dlp_df = pd.DataFrame(columns=['number', 'loops'])\n",
        "for i in range(1000,10000):\n",
        "    #print(i)\n",
        "    nloops = cal_loops(i)\n",
        "    index = len(dlp_df)\n",
        "    dlp_df.loc[index] = [i, nloops]\n",
        "\n",
        "dlp_df.to_csv(\"6174.csv\")"
      ],
      "metadata": {
        "id": "7ARcp2fHVaS-"
      },
      "execution_count": 5,
      "outputs": []
    },
    {
      "cell_type": "markdown",
      "source": [
        "## 异常值\n",
        "- 所有4位数字都相同"
      ],
      "metadata": {
        "id": "8ppuERSwY4KM"
      }
    },
    {
      "cell_type": "code",
      "source": [
        "dlp_df[dlp_df.loops == 10001]"
      ],
      "metadata": {
        "colab": {
          "base_uri": "https://localhost:8080/",
          "height": 332
        },
        "id": "Ys-9GYneYGG-",
        "outputId": "aa76f388-eac7-4fab-a9c2-592c8235fb63"
      },
      "execution_count": 24,
      "outputs": [
        {
          "output_type": "execute_result",
          "data": {
            "text/plain": [
              "     number  loops\n",
              "111    1111  10001\n",
              "1222   2222  10001\n",
              "2333   3333  10001\n",
              "3444   4444  10001\n",
              "4555   5555  10001\n",
              "5666   6666  10001\n",
              "6777   7777  10001\n",
              "7888   8888  10001\n",
              "8999   9999  10001"
            ],
            "text/html": [
              "\n",
              "  <div id=\"df-40d7489f-5001-42ee-90f6-9afdc664e948\">\n",
              "    <div class=\"colab-df-container\">\n",
              "      <div>\n",
              "<style scoped>\n",
              "    .dataframe tbody tr th:only-of-type {\n",
              "        vertical-align: middle;\n",
              "    }\n",
              "\n",
              "    .dataframe tbody tr th {\n",
              "        vertical-align: top;\n",
              "    }\n",
              "\n",
              "    .dataframe thead th {\n",
              "        text-align: right;\n",
              "    }\n",
              "</style>\n",
              "<table border=\"1\" class=\"dataframe\">\n",
              "  <thead>\n",
              "    <tr style=\"text-align: right;\">\n",
              "      <th></th>\n",
              "      <th>number</th>\n",
              "      <th>loops</th>\n",
              "    </tr>\n",
              "  </thead>\n",
              "  <tbody>\n",
              "    <tr>\n",
              "      <th>111</th>\n",
              "      <td>1111</td>\n",
              "      <td>10001</td>\n",
              "    </tr>\n",
              "    <tr>\n",
              "      <th>1222</th>\n",
              "      <td>2222</td>\n",
              "      <td>10001</td>\n",
              "    </tr>\n",
              "    <tr>\n",
              "      <th>2333</th>\n",
              "      <td>3333</td>\n",
              "      <td>10001</td>\n",
              "    </tr>\n",
              "    <tr>\n",
              "      <th>3444</th>\n",
              "      <td>4444</td>\n",
              "      <td>10001</td>\n",
              "    </tr>\n",
              "    <tr>\n",
              "      <th>4555</th>\n",
              "      <td>5555</td>\n",
              "      <td>10001</td>\n",
              "    </tr>\n",
              "    <tr>\n",
              "      <th>5666</th>\n",
              "      <td>6666</td>\n",
              "      <td>10001</td>\n",
              "    </tr>\n",
              "    <tr>\n",
              "      <th>6777</th>\n",
              "      <td>7777</td>\n",
              "      <td>10001</td>\n",
              "    </tr>\n",
              "    <tr>\n",
              "      <th>7888</th>\n",
              "      <td>8888</td>\n",
              "      <td>10001</td>\n",
              "    </tr>\n",
              "    <tr>\n",
              "      <th>8999</th>\n",
              "      <td>9999</td>\n",
              "      <td>10001</td>\n",
              "    </tr>\n",
              "  </tbody>\n",
              "</table>\n",
              "</div>\n",
              "      <button class=\"colab-df-convert\" onclick=\"convertToInteractive('df-40d7489f-5001-42ee-90f6-9afdc664e948')\"\n",
              "              title=\"Convert this dataframe to an interactive table.\"\n",
              "              style=\"display:none;\">\n",
              "        \n",
              "  <svg xmlns=\"http://www.w3.org/2000/svg\" height=\"24px\"viewBox=\"0 0 24 24\"\n",
              "       width=\"24px\">\n",
              "    <path d=\"M0 0h24v24H0V0z\" fill=\"none\"/>\n",
              "    <path d=\"M18.56 5.44l.94 2.06.94-2.06 2.06-.94-2.06-.94-.94-2.06-.94 2.06-2.06.94zm-11 1L8.5 8.5l.94-2.06 2.06-.94-2.06-.94L8.5 2.5l-.94 2.06-2.06.94zm10 10l.94 2.06.94-2.06 2.06-.94-2.06-.94-.94-2.06-.94 2.06-2.06.94z\"/><path d=\"M17.41 7.96l-1.37-1.37c-.4-.4-.92-.59-1.43-.59-.52 0-1.04.2-1.43.59L10.3 9.45l-7.72 7.72c-.78.78-.78 2.05 0 2.83L4 21.41c.39.39.9.59 1.41.59.51 0 1.02-.2 1.41-.59l7.78-7.78 2.81-2.81c.8-.78.8-2.07 0-2.86zM5.41 20L4 18.59l7.72-7.72 1.47 1.35L5.41 20z\"/>\n",
              "  </svg>\n",
              "      </button>\n",
              "      \n",
              "  <style>\n",
              "    .colab-df-container {\n",
              "      display:flex;\n",
              "      flex-wrap:wrap;\n",
              "      gap: 12px;\n",
              "    }\n",
              "\n",
              "    .colab-df-convert {\n",
              "      background-color: #E8F0FE;\n",
              "      border: none;\n",
              "      border-radius: 50%;\n",
              "      cursor: pointer;\n",
              "      display: none;\n",
              "      fill: #1967D2;\n",
              "      height: 32px;\n",
              "      padding: 0 0 0 0;\n",
              "      width: 32px;\n",
              "    }\n",
              "\n",
              "    .colab-df-convert:hover {\n",
              "      background-color: #E2EBFA;\n",
              "      box-shadow: 0px 1px 2px rgba(60, 64, 67, 0.3), 0px 1px 3px 1px rgba(60, 64, 67, 0.15);\n",
              "      fill: #174EA6;\n",
              "    }\n",
              "\n",
              "    [theme=dark] .colab-df-convert {\n",
              "      background-color: #3B4455;\n",
              "      fill: #D2E3FC;\n",
              "    }\n",
              "\n",
              "    [theme=dark] .colab-df-convert:hover {\n",
              "      background-color: #434B5C;\n",
              "      box-shadow: 0px 1px 3px 1px rgba(0, 0, 0, 0.15);\n",
              "      filter: drop-shadow(0px 1px 2px rgba(0, 0, 0, 0.3));\n",
              "      fill: #FFFFFF;\n",
              "    }\n",
              "  </style>\n",
              "\n",
              "      <script>\n",
              "        const buttonEl =\n",
              "          document.querySelector('#df-40d7489f-5001-42ee-90f6-9afdc664e948 button.colab-df-convert');\n",
              "        buttonEl.style.display =\n",
              "          google.colab.kernel.accessAllowed ? 'block' : 'none';\n",
              "\n",
              "        async function convertToInteractive(key) {\n",
              "          const element = document.querySelector('#df-40d7489f-5001-42ee-90f6-9afdc664e948');\n",
              "          const dataTable =\n",
              "            await google.colab.kernel.invokeFunction('convertToInteractive',\n",
              "                                                     [key], {});\n",
              "          if (!dataTable) return;\n",
              "\n",
              "          const docLinkHtml = 'Like what you see? Visit the ' +\n",
              "            '<a target=\"_blank\" href=https://colab.research.google.com/notebooks/data_table.ipynb>data table notebook</a>'\n",
              "            + ' to learn more about interactive tables.';\n",
              "          element.innerHTML = '';\n",
              "          dataTable['output_type'] = 'display_data';\n",
              "          await google.colab.output.renderOutput(dataTable, element);\n",
              "          const docLink = document.createElement('div');\n",
              "          docLink.innerHTML = docLinkHtml;\n",
              "          element.appendChild(docLink);\n",
              "        }\n",
              "      </script>\n",
              "    </div>\n",
              "  </div>\n",
              "  "
            ]
          },
          "metadata": {},
          "execution_count": 24
        }
      ]
    },
    {
      "cell_type": "code",
      "source": [
        "abnormal_cols = list(dlp_df[dlp_df.loops == 10001].index)"
      ],
      "metadata": {
        "id": "OGGTYV5VVeuQ"
      },
      "execution_count": 12,
      "outputs": []
    },
    {
      "cell_type": "code",
      "source": [
        "dfnew = dlp_df.drop(abnormal_cols, axis=0)"
      ],
      "metadata": {
        "id": "MhnbUWg-VuFH"
      },
      "execution_count": 13,
      "outputs": []
    },
    {
      "cell_type": "markdown",
      "source": [
        "## 平均需要的loops "
      ],
      "metadata": {
        "id": "aYLndOV0ZD9O"
      }
    },
    {
      "cell_type": "code",
      "source": [
        "dfnew.loops.mean()"
      ],
      "metadata": {
        "colab": {
          "base_uri": "https://localhost:8080/"
        },
        "id": "_WrvfLN4XUgt",
        "outputId": "24c42cb3-0825-4c67-c80b-5dd3f54b060b"
      },
      "execution_count": 35,
      "outputs": [
        {
          "output_type": "execute_result",
          "data": {
            "text/plain": [
              "4.678678678678678"
            ]
          },
          "metadata": {},
          "execution_count": 35
        }
      ]
    },
    {
      "cell_type": "markdown",
      "source": [
        "## 统计需要的loops 分布\n",
        "- loops=3 的数字最多\n",
        "- 其他的依次从7-->1 统计量递减"
      ],
      "metadata": {
        "id": "2lal6tRMYy6w"
      }
    },
    {
      "cell_type": "code",
      "source": [
        "dfnew.loops.hist(bins=50, orientation='horizontal')"
      ],
      "metadata": {
        "colab": {
          "base_uri": "https://localhost:8080/",
          "height": 282
        },
        "id": "KAAhJ5gMXXS7",
        "outputId": "0554bf51-f3b3-4223-a86d-435402f4ec24"
      },
      "execution_count": 36,
      "outputs": [
        {
          "output_type": "execute_result",
          "data": {
            "text/plain": [
              "<matplotlib.axes._subplots.AxesSubplot at 0x7f03a2b61910>"
            ]
          },
          "metadata": {},
          "execution_count": 36
        },
        {
          "output_type": "display_data",
          "data": {
            "text/plain": [
              "<Figure size 432x288 with 1 Axes>"
            ],
            "image/png": "[encoded data removed]"
          },
          "metadata": {
            "needs_background": "light"
          }
        }
      ]
    }
  ]
}