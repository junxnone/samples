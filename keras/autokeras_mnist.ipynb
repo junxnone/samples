{
  "nbformat": 4,
  "nbformat_minor": 0,
  "metadata": {
    "colab": {
      "name": "autokeras_mnist.ipynb",
      "provenance": [],
      "include_colab_link": true
    },
    "kernelspec": {
      "name": "python3",
      "display_name": "Python 3"
    },
    "accelerator": "GPU"
  },
  "cells": [
    {
      "cell_type": "markdown",
      "metadata": {
        "id": "view-in-github",
        "colab_type": "text"
      },
      "source": [
        "<a href=\"https://colab.research.google.com/github/junxnone/examples/blob/master/keras/autokeras_mnist.ipynb\" target=\"_parent\"><img src=\"https://colab.research.google.com/assets/colab-badge.svg\" alt=\"Open In Colab\"/></a>"
      ]
    },
    {
      "cell_type": "code",
      "metadata": {
        "id": "YpUXavaWCC1Z",
        "colab_type": "code",
        "colab": {
          "base_uri": "https://localhost:8080/",
          "height": 34
        },
        "outputId": "6ccc936f-8c1b-4c9b-d12a-7233751fe07d"
      },
      "source": [
        "!pip3 -q install git+git://github.com/keras-team/autokeras@master#egg=autokeras"
      ],
      "execution_count": 1,
      "outputs": [
        {
          "output_type": "stream",
          "text": [
            "  Building wheel for autokeras (setup.py) ... \u001b[?25l\u001b[?25hdone\n"
          ],
          "name": "stdout"
        }
      ]
    },
    {
      "cell_type": "code",
      "metadata": {
        "id": "_llmJkGzEYgc",
        "colab_type": "code",
        "colab": {
          "base_uri": "https://localhost:8080/",
          "height": 221
        },
        "outputId": "8ecc9298-0376-46dd-86a7-c3cdf9ad5998"
      },
      "source": [
        "!pip3  -q install git+git://github.com/keras-team/keras-tuner@master#egg=kerastuner"
      ],
      "execution_count": 2,
      "outputs": [
        {
          "output_type": "stream",
          "text": [
            "\u001b[33m  WARNING: Generating metadata for package kerastuner produced metadata for project name keras-tuner. Fix your #egg=kerastuner fragments.\u001b[0m\n",
            "\u001b[K     |████████████████████████████████| 86.3MB 114kB/s \n",
            "\u001b[K     |████████████████████████████████| 450kB 67.0MB/s \n",
            "\u001b[K     |████████████████████████████████| 3.8MB 79.6MB/s \n",
            "\u001b[K     |████████████████████████████████| 81kB 13.3MB/s \n",
            "\u001b[?25h  Building wheel for keras-tuner (setup.py) ... \u001b[?25l\u001b[?25hdone\n",
            "  Building wheel for keras-tuner (setup.py) ... \u001b[?25lerror\n",
            "\u001b[31m  ERROR: Failed building wheel for keras-tuner\u001b[0m\n",
            "\u001b[31m  ERROR: Failed cleaning build dir for keras-tuner\u001b[0m\n",
            "\u001b[?25h  Building wheel for terminaltables (setup.py) ... \u001b[?25l\u001b[?25hdone\n",
            "\u001b[31mERROR: tensorboard 2.0.1 has requirement grpcio>=1.24.3, but you'll have grpcio 1.15.0 which is incompatible.\u001b[0m\n",
            "\u001b[31mERROR: google-colab 1.0.0 has requirement google-auth~=1.4.0, but you'll have google-auth 1.7.1 which is incompatible.\u001b[0m\n"
          ],
          "name": "stdout"
        }
      ]
    },
    {
      "cell_type": "code",
      "metadata": {
        "id": "8j7QevngB135",
        "colab_type": "code",
        "colab": {
          "base_uri": "https://localhost:8080/",
          "height": 34
        },
        "outputId": "bfa68bae-ba83-4d6e-f105-8d9afe1797f7"
      },
      "source": [
        "%tensorflow_version 2.x\n",
        "from tensorflow.keras.datasets import mnist\n",
        "import autokeras as ak"
      ],
      "execution_count": 3,
      "outputs": [
        {
          "output_type": "stream",
          "text": [
            "TensorFlow 2.x selected.\n"
          ],
          "name": "stdout"
        }
      ]
    },
    {
      "cell_type": "code",
      "metadata": {
        "id": "ebmZB10rB6zX",
        "colab_type": "code",
        "colab": {}
      },
      "source": [
        "def task_api():\n",
        "    (x_train, y_train), (x_test, y_test) = mnist.load_data()\n",
        "    clf = ak.ImageClassifier(seed=5, max_trials=3)\n",
        "    clf.fit(x_train, y_train, validation_split=0.2)\n",
        "    return clf.evaluate(x_test, y_test)\n",
        "\n",
        "\n",
        "def io_api():\n",
        "    (x_train, y_train), (x_test, y_test) = mnist.load_data()\n",
        "    clf = ak.AutoModel(ak.ImageInput(),\n",
        "                       ak.ClassificationHead(),\n",
        "                       seed=5,\n",
        "                       max_trials=3)\n",
        "    clf.fit(x_train, y_train, validation_split=0.2)\n",
        "    return clf.evaluate(x_test, y_test)\n",
        "\n",
        "\n",
        "def functional_api():\n",
        "    (x_train, y_train), (x_test, y_test) = mnist.load_data()\n",
        "    input_node = ak.ImageInput()\n",
        "    output_node = input_node\n",
        "    output_node = ak.Normalization()(output_node)\n",
        "    output_node = ak.ConvBlock()(output_node)\n",
        "    output_node = ak.SpatialReduction()(output_node)\n",
        "    output_node = ak.DenseBlock()(output_node)\n",
        "    output_node = ak.ClassificationHead()(output_node)\n",
        "    clf = ak.GraphAutoModel(input_node, output_node, seed=5, max_trials=3)\n",
        "    clf.fit(x_train, y_train, validation_split=0.2)\n",
        "    return clf.evaluate(x_test, y_test)"
      ],
      "execution_count": 0,
      "outputs": []
    },
    {
      "cell_type": "code",
      "metadata": {
        "id": "ucJMNgm-DKcI",
        "colab_type": "code",
        "colab": {
          "base_uri": "https://localhost:8080/",
          "height": 1000
        },
        "outputId": "1f86b44b-af14-4322-f468-5d36bdc834f9"
      },
      "source": [
        "task_api()"
      ],
      "execution_count": 0,
      "outputs": [
        {
          "output_type": "stream",
          "text": [
            "Downloading data from https://storage.googleapis.com/tensorflow/tf-keras-datasets/mnist.npz\n",
            "11493376/11490434 [==============================] - 0s 0us/step\n",
            "Epoch 1/1000\n",
            "1500/1500 [==============================] - 82s 55ms/step - loss: 0.2027 - accuracy: 0.9360 - val_loss: 0.0000e+00 - val_accuracy: 0.0000e+00\n",
            "Epoch 2/1000\n",
            "1500/1500 [==============================] - 72s 48ms/step - loss: 0.0924 - accuracy: 0.9726 - val_loss: 0.2136 - val_accuracy: 0.9349\n",
            "Epoch 3/1000\n",
            "1500/1500 [==============================] - 71s 48ms/step - loss: 0.0696 - accuracy: 0.9791 - val_loss: 0.3594 - val_accuracy: 0.9078\n",
            "Epoch 4/1000\n",
            "1500/1500 [==============================] - 71s 47ms/step - loss: 0.0556 - accuracy: 0.9834 - val_loss: 0.2171 - val_accuracy: 0.9405\n",
            "Epoch 5/1000\n",
            "1500/1500 [==============================] - 72s 48ms/step - loss: 0.0487 - accuracy: 0.9850 - val_loss: 0.1268 - val_accuracy: 0.9663\n",
            "Epoch 6/1000\n",
            "1500/1500 [==============================] - 71s 48ms/step - loss: 0.0380 - accuracy: 0.9882 - val_loss: 0.0734 - val_accuracy: 0.9813\n",
            "Epoch 7/1000\n",
            "1500/1500 [==============================] - 71s 47ms/step - loss: 0.0327 - accuracy: 0.9899 - val_loss: 0.1102 - val_accuracy: 0.9716\n",
            "Epoch 8/1000\n",
            "1500/1500 [==============================] - 71s 47ms/step - loss: 0.0296 - accuracy: 0.9905 - val_loss: 0.0808 - val_accuracy: 0.9797\n",
            "Epoch 9/1000\n",
            "1500/1500 [==============================] - 72s 48ms/step - loss: 0.0268 - accuracy: 0.9915 - val_loss: 0.1739 - val_accuracy: 0.9588\n",
            "Epoch 10/1000\n",
            "1500/1500 [==============================] - 71s 47ms/step - loss: 0.0217 - accuracy: 0.9931 - val_loss: 0.0814 - val_accuracy: 0.9809\n",
            "Epoch 11/1000\n",
            "1500/1500 [==============================] - 71s 47ms/step - loss: 0.0209 - accuracy: 0.9931 - val_loss: 0.0879 - val_accuracy: 0.9801\n",
            "Epoch 12/1000\n",
            "1500/1500 [==============================] - 71s 47ms/step - loss: 0.0187 - accuracy: 0.9943 - val_loss: 0.0831 - val_accuracy: 0.9822\n",
            "Epoch 13/1000\n",
            "1500/1500 [==============================] - 72s 48ms/step - loss: 0.0164 - accuracy: 0.9949 - val_loss: 0.1576 - val_accuracy: 0.9663\n",
            "Epoch 14/1000\n",
            "1500/1500 [==============================] - 71s 47ms/step - loss: 0.0163 - accuracy: 0.9946 - val_loss: 0.0850 - val_accuracy: 0.9811\n",
            "Epoch 15/1000\n",
            "1500/1500 [==============================] - 71s 47ms/step - loss: 0.0143 - accuracy: 0.9954 - val_loss: 0.0639 - val_accuracy: 0.9856\n",
            "Epoch 16/1000\n",
            "1500/1500 [==============================] - 71s 47ms/step - loss: 0.0132 - accuracy: 0.9959 - val_loss: 0.0937 - val_accuracy: 0.9812\n",
            "Epoch 17/1000\n",
            "1500/1500 [==============================] - 71s 47ms/step - loss: 0.0113 - accuracy: 0.9964 - val_loss: 0.0717 - val_accuracy: 0.9860\n",
            "Epoch 18/1000\n",
            "1500/1500 [==============================] - 71s 48ms/step - loss: 0.0119 - accuracy: 0.9959 - val_loss: 0.0691 - val_accuracy: 0.9868\n",
            "Epoch 19/1000\n",
            "1500/1500 [==============================] - 71s 47ms/step - loss: 0.0111 - accuracy: 0.9964 - val_loss: 0.0730 - val_accuracy: 0.9855\n",
            "Epoch 20/1000\n",
            "1500/1500 [==============================] - 70s 47ms/step - loss: 0.0102 - accuracy: 0.9967 - val_loss: 0.0783 - val_accuracy: 0.9827\n",
            "Epoch 21/1000\n",
            "1500/1500 [==============================] - 70s 47ms/step - loss: 0.0101 - accuracy: 0.9967 - val_loss: 0.1103 - val_accuracy: 0.9800\n",
            "Epoch 22/1000\n",
            "1500/1500 [==============================] - 71s 47ms/step - loss: 0.0078 - accuracy: 0.9974 - val_loss: 0.0664 - val_accuracy: 0.9877\n",
            "Epoch 23/1000\n",
            "1500/1500 [==============================] - 71s 47ms/step - loss: 0.0100 - accuracy: 0.9966 - val_loss: 0.1321 - val_accuracy: 0.9745\n",
            "Epoch 24/1000\n",
            "1500/1500 [==============================] - 70s 47ms/step - loss: 0.0076 - accuracy: 0.9976 - val_loss: 0.0962 - val_accuracy: 0.9825\n",
            "Epoch 25/1000\n",
            "1500/1500 [==============================] - 71s 47ms/step - loss: 0.0083 - accuracy: 0.9970 - val_loss: 0.0948 - val_accuracy: 0.9806\n"
          ],
          "name": "stdout"
        },
        {
          "output_type": "display_data",
          "data": {
            "text/html": [
              "<span style=\"color:#4527A0\"><h1 style=\"font-size:18px\">Trial complete</h1></span>"
            ],
            "text/plain": [
              "<IPython.core.display.HTML object>"
            ]
          },
          "metadata": {
            "tags": []
          }
        },
        {
          "output_type": "display_data",
          "data": {
            "text/html": [
              "<span style=\"color:#4527A0\"><h1 style=\"font-size:18px\">Trial summary</h1></span>"
            ],
            "text/plain": [
              "<IPython.core.display.HTML object>"
            ]
          },
          "metadata": {
            "tags": []
          }
        },
        {
          "output_type": "display_data",
          "data": {
            "text/html": [
              "<span style=\"color:cyan\"> |-Trial ID: 885d9d3b00f8b14d4addb6feede75f18</span>"
            ],
            "text/plain": [
              "<IPython.core.display.HTML object>"
            ]
          },
          "metadata": {
            "tags": []
          }
        },
        {
          "output_type": "display_data",
          "data": {
            "text/html": [
              "<span style=\"color:cyan\"> |-Score: 0.06392156790170338</span>"
            ],
            "text/plain": [
              "<IPython.core.display.HTML object>"
            ]
          },
          "metadata": {
            "tags": []
          }
        },
        {
          "output_type": "display_data",
          "data": {
            "text/html": [
              "<span style=\"color:cyan\"> |-Best step: 0</span>"
            ],
            "text/plain": [
              "<IPython.core.display.HTML object>"
            ]
          },
          "metadata": {
            "tags": []
          }
        },
        {
          "output_type": "display_data",
          "data": {
            "text/html": [
              "<span style=\"color:#7E57C2\"><h2 style=\"font-size:16px\">Hyperparameters:</h2></span>"
            ],
            "text/plain": [
              "<IPython.core.display.HTML object>"
            ]
          },
          "metadata": {
            "tags": []
          }
        },
        {
          "output_type": "display_data",
          "data": {
            "text/html": [
              "<span style=\"color:cyan\"> |-dense_block_1/dropout_rate: 0.0</span>"
            ],
            "text/plain": [
              "<IPython.core.display.HTML object>"
            ]
          },
          "metadata": {
            "tags": []
          }
        },
        {
          "output_type": "display_data",
          "data": {
            "text/html": [
              "<span style=\"color:blue\"> |-dense_block_1/num_layers: 2</span>"
            ],
            "text/plain": [
              "<IPython.core.display.HTML object>"
            ]
          },
          "metadata": {
            "tags": []
          }
        },
        {
          "output_type": "display_data",
          "data": {
            "text/html": [
              "<span style=\"color:cyan\"> |-dense_block_1/units_0: 64</span>"
            ],
            "text/plain": [
              "<IPython.core.display.HTML object>"
            ]
          },
          "metadata": {
            "tags": []
          }
        },
        {
          "output_type": "display_data",
          "data": {
            "text/html": [
              "<span style=\"color:blue\"> |-dense_block_1/units_1: 256</span>"
            ],
            "text/plain": [
              "<IPython.core.display.HTML object>"
            ]
          },
          "metadata": {
            "tags": []
          }
        },
        {
          "output_type": "display_data",
          "data": {
            "text/html": [
              "<span style=\"color:cyan\"> |-dense_block_1/use_batchnorm: True</span>"
            ],
            "text/plain": [
              "<IPython.core.display.HTML object>"
            ]
          },
          "metadata": {
            "tags": []
          }
        },
        {
          "output_type": "display_data",
          "data": {
            "text/html": [
              "<span style=\"color:blue\"> |-image_block_1/augment: False</span>"
            ],
            "text/plain": [
              "<IPython.core.display.HTML object>"
            ]
          },
          "metadata": {
            "tags": []
          }
        },
        {
          "output_type": "display_data",
          "data": {
            "text/html": [
              "<span style=\"color:cyan\"> |-image_block_1/block_type: vanilla</span>"
            ],
            "text/plain": [
              "<IPython.core.display.HTML object>"
            ]
          },
          "metadata": {
            "tags": []
          }
        },
        {
          "output_type": "display_data",
          "data": {
            "text/html": [
              "<span style=\"color:blue\"> |-image_block_1/normalize: True</span>"
            ],
            "text/plain": [
              "<IPython.core.display.HTML object>"
            ]
          },
          "metadata": {
            "tags": []
          }
        },
        {
          "output_type": "display_data",
          "data": {
            "text/html": [
              "<span style=\"color:cyan\"> |-image_block_1_vanilla/filters_0_1: 16</span>"
            ],
            "text/plain": [
              "<IPython.core.display.HTML object>"
            ]
          },
          "metadata": {
            "tags": []
          }
        },
        {
          "output_type": "display_data",
          "data": {
            "text/html": [
              "<span style=\"color:blue\"> |-image_block_1_vanilla/filters_0_2: 32</span>"
            ],
            "text/plain": [
              "<IPython.core.display.HTML object>"
            ]
          },
          "metadata": {
            "tags": []
          }
        },
        {
          "output_type": "display_data",
          "data": {
            "text/html": [
              "<span style=\"color:cyan\"> |-image_block_1_vanilla/filters_1_1: 64</span>"
            ],
            "text/plain": [
              "<IPython.core.display.HTML object>"
            ]
          },
          "metadata": {
            "tags": []
          }
        },
        {
          "output_type": "display_data",
          "data": {
            "text/html": [
              "<span style=\"color:blue\"> |-image_block_1_vanilla/filters_1_2: 32</span>"
            ],
            "text/plain": [
              "<IPython.core.display.HTML object>"
            ]
          },
          "metadata": {
            "tags": []
          }
        },
        {
          "output_type": "display_data",
          "data": {
            "text/html": [
              "<span style=\"color:cyan\"> |-image_block_1_vanilla/filters_2_1: 32</span>"
            ],
            "text/plain": [
              "<IPython.core.display.HTML object>"
            ]
          },
          "metadata": {
            "tags": []
          }
        },
        {
          "output_type": "display_data",
          "data": {
            "text/html": [
              "<span style=\"color:blue\"> |-image_block_1_vanilla/filters_2_2: 32</span>"
            ],
            "text/plain": [
              "<IPython.core.display.HTML object>"
            ]
          },
          "metadata": {
            "tags": []
          }
        },
        {
          "output_type": "display_data",
          "data": {
            "text/html": [
              "<span style=\"color:cyan\"> |-image_block_1_vanilla/kernel_size: 7</span>"
            ],
            "text/plain": [
              "<IPython.core.display.HTML object>"
            ]
          },
          "metadata": {
            "tags": []
          }
        },
        {
          "output_type": "display_data",
          "data": {
            "text/html": [
              "<span style=\"color:blue\"> |-image_block_1_vanilla/num_blocks: 3</span>"
            ],
            "text/plain": [
              "<IPython.core.display.HTML object>"
            ]
          },
          "metadata": {
            "tags": []
          }
        },
        {
          "output_type": "display_data",
          "data": {
            "text/html": [
              "<span style=\"color:cyan\"> |-image_block_1_vanilla/separable: False</span>"
            ],
            "text/plain": [
              "<IPython.core.display.HTML object>"
            ]
          },
          "metadata": {
            "tags": []
          }
        },
        {
          "output_type": "display_data",
          "data": {
            "text/html": [
              "<span style=\"color:blue\"> |-optimizer: adam</span>"
            ],
            "text/plain": [
              "<IPython.core.display.HTML object>"
            ]
          },
          "metadata": {
            "tags": []
          }
        },
        {
          "output_type": "display_data",
          "data": {
            "text/html": [
              "<span style=\"color:cyan\"> |-spatial_reduction_1/reduction_type: global_max</span>"
            ],
            "text/plain": [
              "<IPython.core.display.HTML object>"
            ]
          },
          "metadata": {
            "tags": []
          }
        },
        {
          "output_type": "stream",
          "text": [
            "Epoch 1/1000\n",
            "1500/1500 [==============================] - 29s 19ms/step - loss: 1.6301 - accuracy: 0.4044 - val_loss: 0.0000e+00 - val_accuracy: 0.0000e+00\n",
            "Epoch 2/1000\n",
            "1500/1500 [==============================] - 19s 12ms/step - loss: 1.0755 - accuracy: 0.5979 - val_loss: 0.8736 - val_accuracy: 0.6777\n",
            "Epoch 3/1000\n",
            "1500/1500 [==============================] - 19s 13ms/step - loss: 0.9327 - accuracy: 0.6480 - val_loss: 0.6339 - val_accuracy: 0.7278\n",
            "Epoch 4/1000\n",
            "1500/1500 [==============================] - 19s 13ms/step - loss: 0.8652 - accuracy: 0.6895 - val_loss: 0.5221 - val_accuracy: 0.8342\n",
            "Epoch 5/1000\n",
            "1500/1500 [==============================] - 19s 13ms/step - loss: 0.7965 - accuracy: 0.7324 - val_loss: 0.3302 - val_accuracy: 0.9333\n",
            "Epoch 6/1000\n",
            "1500/1500 [==============================] - 19s 13ms/step - loss: 0.7526 - accuracy: 0.7571 - val_loss: 0.2939 - val_accuracy: 0.9404\n",
            "Epoch 7/1000\n",
            "1500/1500 [==============================] - 19s 13ms/step - loss: 0.7164 - accuracy: 0.7735 - val_loss: 0.2752 - val_accuracy: 0.9459\n",
            "Epoch 8/1000\n",
            "1500/1500 [==============================] - 19s 13ms/step - loss: 0.6901 - accuracy: 0.7846 - val_loss: 0.2594 - val_accuracy: 0.9507\n",
            "Epoch 9/1000\n",
            "1500/1500 [==============================] - 19s 13ms/step - loss: 0.6685 - accuracy: 0.7924 - val_loss: 0.2753 - val_accuracy: 0.9378\n",
            "Epoch 10/1000\n",
            "1500/1500 [==============================] - 19s 13ms/step - loss: 0.6555 - accuracy: 0.7943 - val_loss: 0.2543 - val_accuracy: 0.9495\n",
            "Epoch 11/1000\n",
            "1500/1500 [==============================] - 19s 13ms/step - loss: 0.6437 - accuracy: 0.7983 - val_loss: 0.2829 - val_accuracy: 0.9507\n",
            "Epoch 12/1000\n",
            "1500/1500 [==============================] - 19s 13ms/step - loss: 0.6283 - accuracy: 0.8031 - val_loss: 0.2247 - val_accuracy: 0.9633\n",
            "Epoch 13/1000\n",
            "1500/1500 [==============================] - 19s 13ms/step - loss: 0.6180 - accuracy: 0.8052 - val_loss: 0.2459 - val_accuracy: 0.9439\n",
            "Epoch 14/1000\n",
            "1500/1500 [==============================] - 19s 13ms/step - loss: 0.6066 - accuracy: 0.8062 - val_loss: 0.2173 - val_accuracy: 0.9617\n",
            "Epoch 15/1000\n",
            "1500/1500 [==============================] - 19s 13ms/step - loss: 0.5910 - accuracy: 0.8124 - val_loss: 0.2612 - val_accuracy: 0.9477\n",
            "Epoch 16/1000\n",
            "1500/1500 [==============================] - 19s 13ms/step - loss: 0.5835 - accuracy: 0.8153 - val_loss: 0.1760 - val_accuracy: 0.9668\n",
            "Epoch 17/1000\n",
            "1500/1500 [==============================] - 19s 13ms/step - loss: 0.5636 - accuracy: 0.8204 - val_loss: 0.2068 - val_accuracy: 0.9607\n",
            "Epoch 18/1000\n",
            "1500/1500 [==============================] - 19s 13ms/step - loss: 0.5618 - accuracy: 0.8209 - val_loss: 0.2279 - val_accuracy: 0.9478\n",
            "Epoch 19/1000\n",
            "1500/1500 [==============================] - 19s 13ms/step - loss: 0.5513 - accuracy: 0.8242 - val_loss: 0.1852 - val_accuracy: 0.9679\n",
            "Epoch 20/1000\n",
            "1500/1500 [==============================] - 19s 13ms/step - loss: 0.5501 - accuracy: 0.8235 - val_loss: 0.1678 - val_accuracy: 0.9673\n",
            "Epoch 21/1000\n",
            "1500/1500 [==============================] - 19s 13ms/step - loss: 0.5371 - accuracy: 0.8272 - val_loss: 0.3111 - val_accuracy: 0.9197\n",
            "Epoch 22/1000\n",
            "1500/1500 [==============================] - 19s 13ms/step - loss: 0.5212 - accuracy: 0.8329 - val_loss: 0.1508 - val_accuracy: 0.9704\n",
            "Epoch 23/1000\n",
            "1500/1500 [==============================] - 19s 13ms/step - loss: 0.5156 - accuracy: 0.8334 - val_loss: 0.2073 - val_accuracy: 0.9499\n",
            "Epoch 24/1000\n",
            "1500/1500 [==============================] - 19s 13ms/step - loss: 0.5199 - accuracy: 0.8319 - val_loss: 0.1794 - val_accuracy: 0.9653\n",
            "Epoch 25/1000\n",
            "1500/1500 [==============================] - 19s 13ms/step - loss: 0.5066 - accuracy: 0.8377 - val_loss: 0.1644 - val_accuracy: 0.9679\n",
            "Epoch 26/1000\n",
            "1500/1500 [==============================] - 19s 13ms/step - loss: 0.4990 - accuracy: 0.8373 - val_loss: 0.1705 - val_accuracy: 0.9721\n",
            "Epoch 27/1000\n",
            "1500/1500 [==============================] - 19s 12ms/step - loss: 0.5098 - accuracy: 0.8359 - val_loss: 0.1717 - val_accuracy: 0.9674\n",
            "Epoch 28/1000\n",
            "1500/1500 [==============================] - 19s 13ms/step - loss: 0.4957 - accuracy: 0.8372 - val_loss: 0.2071 - val_accuracy: 0.9611\n",
            "Epoch 29/1000\n",
            "1500/1500 [==============================] - 19s 13ms/step - loss: 0.4935 - accuracy: 0.8397 - val_loss: 0.2049 - val_accuracy: 0.9576\n",
            "Epoch 30/1000\n",
            "1500/1500 [==============================] - 19s 13ms/step - loss: 0.4836 - accuracy: 0.8413 - val_loss: 0.1733 - val_accuracy: 0.9664\n",
            "Epoch 31/1000\n",
            "1500/1500 [==============================] - 19s 13ms/step - loss: 0.4752 - accuracy: 0.8445 - val_loss: 0.2369 - val_accuracy: 0.9523\n",
            "Epoch 32/1000\n",
            "1500/1500 [==============================] - 19s 13ms/step - loss: 0.4838 - accuracy: 0.8428 - val_loss: 0.1544 - val_accuracy: 0.9682\n"
          ],
          "name": "stdout"
        },
        {
          "output_type": "display_data",
          "data": {
            "text/html": [
              "<span style=\"color:#4527A0\"><h1 style=\"font-size:18px\">Trial complete</h1></span>"
            ],
            "text/plain": [
              "<IPython.core.display.HTML object>"
            ]
          },
          "metadata": {
            "tags": []
          }
        },
        {
          "output_type": "display_data",
          "data": {
            "text/html": [
              "<span style=\"color:#4527A0\"><h1 style=\"font-size:18px\">Trial summary</h1></span>"
            ],
            "text/plain": [
              "<IPython.core.display.HTML object>"
            ]
          },
          "metadata": {
            "tags": []
          }
        },
        {
          "output_type": "display_data",
          "data": {
            "text/html": [
              "<span style=\"color:cyan\"> |-Trial ID: 95eb8bdc1d6f0e27d0ca3b2490f3d19b</span>"
            ],
            "text/plain": [
              "<IPython.core.display.HTML object>"
            ]
          },
          "metadata": {
            "tags": []
          }
        },
        {
          "output_type": "display_data",
          "data": {
            "text/html": [
              "<span style=\"color:cyan\"> |-Score: 0.15077204348643622</span>"
            ],
            "text/plain": [
              "<IPython.core.display.HTML object>"
            ]
          },
          "metadata": {
            "tags": []
          }
        },
        {
          "output_type": "display_data",
          "data": {
            "text/html": [
              "<span style=\"color:cyan\"> |-Best step: 0</span>"
            ],
            "text/plain": [
              "<IPython.core.display.HTML object>"
            ]
          },
          "metadata": {
            "tags": []
          }
        },
        {
          "output_type": "display_data",
          "data": {
            "text/html": [
              "<span style=\"color:#7E57C2\"><h2 style=\"font-size:16px\">Hyperparameters:</h2></span>"
            ],
            "text/plain": [
              "<IPython.core.display.HTML object>"
            ]
          },
          "metadata": {
            "tags": []
          }
        },
        {
          "output_type": "display_data",
          "data": {
            "text/html": [
              "<span style=\"color:cyan\"> |-dense_block_1/dropout_rate: 0.5</span>"
            ],
            "text/plain": [
              "<IPython.core.display.HTML object>"
            ]
          },
          "metadata": {
            "tags": []
          }
        },
        {
          "output_type": "display_data",
          "data": {
            "text/html": [
              "<span style=\"color:blue\"> |-dense_block_1/num_layers: 3</span>"
            ],
            "text/plain": [
              "<IPython.core.display.HTML object>"
            ]
          },
          "metadata": {
            "tags": []
          }
        },
        {
          "output_type": "display_data",
          "data": {
            "text/html": [
              "<span style=\"color:cyan\"> |-dense_block_1/units_0: 256</span>"
            ],
            "text/plain": [
              "<IPython.core.display.HTML object>"
            ]
          },
          "metadata": {
            "tags": []
          }
        },
        {
          "output_type": "display_data",
          "data": {
            "text/html": [
              "<span style=\"color:blue\"> |-dense_block_1/units_1: 16</span>"
            ],
            "text/plain": [
              "<IPython.core.display.HTML object>"
            ]
          },
          "metadata": {
            "tags": []
          }
        },
        {
          "output_type": "display_data",
          "data": {
            "text/html": [
              "<span style=\"color:cyan\"> |-dense_block_1/units_2: 32</span>"
            ],
            "text/plain": [
              "<IPython.core.display.HTML object>"
            ]
          },
          "metadata": {
            "tags": []
          }
        },
        {
          "output_type": "display_data",
          "data": {
            "text/html": [
              "<span style=\"color:blue\"> |-dense_block_1/use_batchnorm: True</span>"
            ],
            "text/plain": [
              "<IPython.core.display.HTML object>"
            ]
          },
          "metadata": {
            "tags": []
          }
        },
        {
          "output_type": "display_data",
          "data": {
            "text/html": [
              "<span style=\"color:cyan\"> |-image_block_1/augment: False</span>"
            ],
            "text/plain": [
              "<IPython.core.display.HTML object>"
            ]
          },
          "metadata": {
            "tags": []
          }
        },
        {
          "output_type": "display_data",
          "data": {
            "text/html": [
              "<span style=\"color:blue\"> |-image_block_1/block_type: vanilla</span>"
            ],
            "text/plain": [
              "<IPython.core.display.HTML object>"
            ]
          },
          "metadata": {
            "tags": []
          }
        },
        {
          "output_type": "display_data",
          "data": {
            "text/html": [
              "<span style=\"color:cyan\"> |-image_block_1/normalize: False</span>"
            ],
            "text/plain": [
              "<IPython.core.display.HTML object>"
            ]
          },
          "metadata": {
            "tags": []
          }
        },
        {
          "output_type": "display_data",
          "data": {
            "text/html": [
              "<span style=\"color:blue\"> |-image_block_1_vanilla/filters_0_1: 16</span>"
            ],
            "text/plain": [
              "<IPython.core.display.HTML object>"
            ]
          },
          "metadata": {
            "tags": []
          }
        },
        {
          "output_type": "display_data",
          "data": {
            "text/html": [
              "<span style=\"color:cyan\"> |-image_block_1_vanilla/filters_0_2: 32</span>"
            ],
            "text/plain": [
              "<IPython.core.display.HTML object>"
            ]
          },
          "metadata": {
            "tags": []
          }
        },
        {
          "output_type": "display_data",
          "data": {
            "text/html": [
              "<span style=\"color:blue\"> |-image_block_1_vanilla/filters_1_1: 64</span>"
            ],
            "text/plain": [
              "<IPython.core.display.HTML object>"
            ]
          },
          "metadata": {
            "tags": []
          }
        },
        {
          "output_type": "display_data",
          "data": {
            "text/html": [
              "<span style=\"color:cyan\"> |-image_block_1_vanilla/filters_1_2: 32</span>"
            ],
            "text/plain": [
              "<IPython.core.display.HTML object>"
            ]
          },
          "metadata": {
            "tags": []
          }
        },
        {
          "output_type": "display_data",
          "data": {
            "text/html": [
              "<span style=\"color:blue\"> |-image_block_1_vanilla/filters_2_1: 32</span>"
            ],
            "text/plain": [
              "<IPython.core.display.HTML object>"
            ]
          },
          "metadata": {
            "tags": []
          }
        },
        {
          "output_type": "display_data",
          "data": {
            "text/html": [
              "<span style=\"color:cyan\"> |-image_block_1_vanilla/filters_2_2: 64</span>"
            ],
            "text/plain": [
              "<IPython.core.display.HTML object>"
            ]
          },
          "metadata": {
            "tags": []
          }
        },
        {
          "output_type": "display_data",
          "data": {
            "text/html": [
              "<span style=\"color:blue\"> |-image_block_1_vanilla/kernel_size: 7</span>"
            ],
            "text/plain": [
              "<IPython.core.display.HTML object>"
            ]
          },
          "metadata": {
            "tags": []
          }
        },
        {
          "output_type": "display_data",
          "data": {
            "text/html": [
              "<span style=\"color:cyan\"> |-image_block_1_vanilla/num_blocks: 3</span>"
            ],
            "text/plain": [
              "<IPython.core.display.HTML object>"
            ]
          },
          "metadata": {
            "tags": []
          }
        },
        {
          "output_type": "display_data",
          "data": {
            "text/html": [
              "<span style=\"color:blue\"> |-image_block_1_vanilla/separable: True</span>"
            ],
            "text/plain": [
              "<IPython.core.display.HTML object>"
            ]
          },
          "metadata": {
            "tags": []
          }
        },
        {
          "output_type": "display_data",
          "data": {
            "text/html": [
              "<span style=\"color:cyan\"> |-optimizer: adam</span>"
            ],
            "text/plain": [
              "<IPython.core.display.HTML object>"
            ]
          },
          "metadata": {
            "tags": []
          }
        },
        {
          "output_type": "display_data",
          "data": {
            "text/html": [
              "<span style=\"color:blue\"> |-spatial_reduction_1/reduction_type: global_avg</span>"
            ],
            "text/plain": [
              "<IPython.core.display.HTML object>"
            ]
          },
          "metadata": {
            "tags": []
          }
        },
        {
          "output_type": "stream",
          "text": [
            "Epoch 1/1000\n",
            "1500/1500 [==============================] - 427s 285ms/step - loss: 2.3025 - accuracy: 0.1130 - val_loss: 0.0000e+00 - val_accuracy: 0.0000e+00\n",
            "Epoch 2/1000\n",
            "1500/1500 [==============================] - 423s 282ms/step - loss: 2.3011 - accuracy: 0.1140 - val_loss: 2.3020 - val_accuracy: 0.1060\n",
            "Epoch 3/1000\n",
            " 975/1500 [==================>...........] - ETA: 2:21 - loss: 2.3010 - accuracy: 0.1141"
          ],
          "name": "stdout"
        }
      ]
    }
  ]
}