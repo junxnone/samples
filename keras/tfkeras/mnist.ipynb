{
 "cells": [
  {
   "cell_type": "markdown",
   "metadata": {},
   "source": [
    "# Read the mnist dataset"
   ]
  },
  {
   "cell_type": "code",
   "execution_count": 1,
   "metadata": {},
   "outputs": [],
   "source": [
    "import tensorflow as tf\n",
    "import matplotlib.pyplot as plt\n",
    "\n",
    "mnist = tf.keras.datasets.mnist\n",
    "\n",
    "(x_train, y_train), (x_test, y_test) = mnist.load_data()"
   ]
  },
  {
   "cell_type": "code",
   "execution_count": 2,
   "metadata": {},
   "outputs": [
    {
     "name": "stdout",
     "output_type": "stream",
     "text": [
      "Train data is 60000 image.\n",
      "Test data is 10000 image.\n",
      "The 1-10 number in this datasets are:\n"
     ]
    },
    {
     "data": {
      "image/png": "[encoded data removed]",
      "text/plain": [
       "<Figure size 720x720 with 10 Axes>"
      ]
     },
     "metadata": {},
     "output_type": "display_data"
    }
   ],
   "source": [
    "print(\"Train data is %d image.\" % len(x_train))\n",
    "print(\"Test data is %d image.\" % len(x_test))\n",
    "print(\"The 1-10 number in this datasets are:\")\n",
    "fig = plt.figure(figsize=(10,10))\n",
    "for i in range(10):\n",
    "    ps = fig.add_subplot(1,10,i+1, xticks=[], yticks=[])\n",
    "    ps.imshow(x_train[i], cmap='gray')\n"
   ]
  },
  {
   "cell_type": "markdown",
   "metadata": {},
   "source": [
    "# Normalization"
   ]
  },
  {
   "cell_type": "code",
   "execution_count": 3,
   "metadata": {},
   "outputs": [],
   "source": [
    "x_train, x_test = x_train / 255.0, x_test / 255.0"
   ]
  },
  {
   "cell_type": "markdown",
   "metadata": {},
   "source": [
    "# Build the model\n",
    "\n",
    "## optimizer\n",
    "- sgd\n",
    "- **adam**\n",
    "- rmsprop\n",
    "- adagrad\n",
    "- adadelta\n",
    "- adamax\n",
    "- nadam\n",
    "\n",
    "## Losses\n",
    "- mean_squared_error\n",
    "- mean_absolute_error\n",
    "- mean_absolute_percentage_error\n",
    "- mean_squared_logarithmic_error\n",
    "- squared_hinge\n",
    "- hinge\n",
    "- categorical_hinge\n",
    "- logcosh\n",
    "- categorical_crossentropy\n",
    "- binary_crossentropy\n",
    "- kullback_leibler_divergence\n",
    "- poisson\n",
    "- cosine_proximity\n",
    "- **sparse_categorical_crossentropy**\n",
    "\n",
    "## metrics\n",
    "- binary_accuracy\n",
    "- categorical_accuracy\n",
    "- sparse_categorical_accuracy\n",
    "- top_k_categorical_accuracy\n",
    "- sparse_top_k_categorical_accuracy\n",
    "- **accuracy**"
   ]
  },
  {
   "cell_type": "code",
   "execution_count": 4,
   "metadata": {},
   "outputs": [],
   "source": [
    "model = tf.keras.models.Sequential([\n",
    "  tf.keras.layers.Flatten(),\n",
    "  tf.keras.layers.Dense(512, activation=tf.nn.relu),\n",
    "  tf.keras.layers.Dropout(0.2), \n",
    "  tf.keras.layers.Dense(10, activation=tf.nn.softmax)\n",
    "])\n",
    "\n",
    "model.compile(optimizer='adam',\n",
    "              loss='sparse_categorical_crossentropy',\n",
    "              metrics=['accuracy'])\n"
   ]
  },
  {
   "cell_type": "markdown",
   "metadata": {},
   "source": [
    "# Fit data and evaluate the model"
   ]
  },
  {
   "cell_type": "code",
   "execution_count": 5,
   "metadata": {},
   "outputs": [
    {
     "name": "stdout",
     "output_type": "stream",
     "text": [
      "Epoch 1/5\n",
      "60000/60000 [==============================] - 5s 86us/step - loss: 0.2021 - acc: 0.9402\n",
      "Epoch 2/5\n",
      "60000/60000 [==============================] - 5s 76us/step - loss: 0.0808 - acc: 0.9751\n",
      "Epoch 3/5\n",
      "60000/60000 [==============================] - 5s 76us/step - loss: 0.0509 - acc: 0.9842\n",
      "Epoch 4/5\n",
      "60000/60000 [==============================] - 4s 75us/step - loss: 0.0371 - acc: 0.9882\n",
      "Epoch 5/5\n",
      "60000/60000 [==============================] - 5s 75us/step - loss: 0.0259 - acc: 0.9919\n",
      "10000/10000 [==============================] - 0s 31us/step\n"
     ]
    },
    {
     "data": {
      "text/plain": [
       "[0.06518870207720902, 0.9819]"
      ]
     },
     "execution_count": 5,
     "metadata": {},
     "output_type": "execute_result"
    }
   ],
   "source": [
    "model.fit(x_train, y_train, epochs=5)\n",
    "\n",
    "model.evaluate(x_test, y_test)"
   ]
  },
  {
   "cell_type": "code",
   "execution_count": 6,
   "metadata": {},
   "outputs": [],
   "source": [
    "model.save_weights('models/mnist.h5')\n",
    "\n",
    "model_json = model.to_json()\n",
    "with open('models/mnist.json', 'w') as file:\n",
    "    file.write(model_json)"
   ]
  },
  {
   "cell_type": "code",
   "execution_count": 7,
   "metadata": {},
   "outputs": [
    {
     "name": "stdout",
     "output_type": "stream",
     "text": [
      "[[2.7018110e-09 1.2744548e-09 2.0558186e-08 8.2410416e-08 2.0068457e-14\n",
      "  8.9304003e-10 2.8264606e-13 9.9999988e-01 1.1213994e-09 1.2479616e-08]]\n",
      "[[1.4709086e-11 2.0188538e-05 9.9997973e-01 8.8625256e-08 4.0398982e-16\n",
      "  1.0651078e-09 7.0060652e-11 2.8894920e-13 2.7553870e-08 6.2094949e-14]]\n",
      "[[1.04728855e-07 9.99895811e-01 1.90555547e-05 1.59589078e-07\n",
      "  3.05443427e-05 1.51691256e-06 2.36130575e-07 3.18434322e-05\n",
      "  2.07028643e-05 4.09793373e-08]]\n",
      "[[9.9998415e-01 9.5284808e-11 1.2139642e-05 5.2308585e-10 1.4685471e-10\n",
      "  4.4097610e-09 6.0197601e-07 3.0656377e-06 8.8742055e-11 6.2596612e-09]]\n",
      "[[1.5493207e-07 1.0326647e-09 3.4726416e-08 2.8589667e-10 9.9899417e-01\n",
      "  1.4426446e-09 1.3602892e-07 6.7684368e-06 1.2234847e-07 9.9857978e-04]]\n",
      "[[1.24701867e-08 9.99877334e-01 4.83751812e-08 1.44250025e-08\n",
      "  7.67007587e-05 5.33123323e-09 7.75026932e-10 4.50474981e-05\n",
      "  8.10622225e-07 5.34027089e-09]]\n",
      "[[2.2684899e-12 1.9798675e-10 3.9700580e-11 1.8508247e-11 9.9997532e-01\n",
      "  3.9715459e-07 3.0185717e-08 5.5334368e-07 5.7207149e-06 1.8060466e-05]]\n",
      "[[1.4297021e-11 2.1479244e-11 2.7304724e-08 2.1385878e-05 4.2342990e-07\n",
      "  5.0562569e-08 1.4845503e-14 7.0382617e-07 5.7661770e-10 9.9997735e-01]]\n",
      "[[2.1251509e-09 1.7201982e-10 2.2718400e-06 8.8422221e-09 8.0609034e-06\n",
      "  6.8520439e-01 3.1477737e-01 1.5058307e-10 6.8466961e-06 9.9542444e-07]]\n",
      "[[4.7694416e-14 1.8620890e-13 2.2507055e-13 3.4143092e-08 4.6707687e-04\n",
      "  9.3224408e-13 3.4800532e-14 4.1327412e-06 1.2218392e-07 9.9952865e-01]]\n"
     ]
    },
    {
     "data": {
      "image/png": "[encoded data removed]",
      "text/plain": [
       "<Figure size 720x720 with 10 Axes>"
      ]
     },
     "metadata": {},
     "output_type": "display_data"
    }
   ],
   "source": [
    "fig = plt.figure(figsize=(10,10))\n",
    "for i in range(10):\n",
    "    ps = fig.add_subplot(1,10,i+1, xticks=[], yticks=[])\n",
    "    ps.imshow(x_test[i], cmap='gray')\n",
    "    result = model.predict(x_test[i].reshape(1,28,28))\n",
    "    print (result)"
   ]
  },
  {
   "cell_type": "code",
   "execution_count": 8,
   "metadata": {},
   "outputs": [
    {
     "data": {
      "image/png": "[encoded data removed]",
      "text/plain": [
       "<Figure size 1440x1440 with 1 Axes>"
      ]
     },
     "metadata": {
      "needs_background": "light"
     },
     "output_type": "display_data"
    }
   ],
   "source": [
    "tf.keras.utils.plot_model(model, to_file='models/mnist.png')\n",
    "import cv2\n",
    "img = cv2.imread('models/mnist.png',3)\n",
    "fig = plt.figure(figsize=(20, 20))\n",
    "m1 = plt.imshow(img)\n",
    "plt.show()"
   ]
  }
 ],
 "metadata": {
  "kernelspec": {
   "display_name": "Python 3",
   "language": "python",
   "name": "python3"
  },
  "language_info": {
   "codemirror_mode": {
    "name": "ipython",
    "version": 3
   },
   "file_extension": ".py",
   "mimetype": "text/x-python",
   "name": "python",
   "nbconvert_exporter": "python",
   "pygments_lexer": "ipython3",
   "version": "3.5.2"
  }
 },
 "nbformat": 4,
 "nbformat_minor": 2
}
