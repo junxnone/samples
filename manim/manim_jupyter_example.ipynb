{
  "cells": [
    {
      "cell_type": "markdown",
      "metadata": {
        "id": "view-in-github",
        "colab_type": "text"
      },
      "source": [
        "<a href=\"https://colab.research.google.com/github/junxnone/examples/blob/master/manim/manim_jupyter_example.ipynb\" target=\"_parent\"><img src=\"https://colab.research.google.com/assets/colab-badge.svg\" alt=\"Open In Colab\"/></a>"
      ]
    },
    {
      "cell_type": "code",
      "source": [
        "!sudo apt update\n",
        "!sudo apt install libcairo2-dev ffmpeg \\\n",
        "    texlive texlive-latex-extra texlive-fonts-extra \\\n",
        "    texlive-latex-recommended texlive-science \\\n",
        "    tipa libpango1.0-dev\n",
        "!pip install manim\n",
        "!pip install IPython --upgrade"
      ],
      "metadata": {
        "id": "v4xpZwUYbhgW"
      },
      "execution_count": null,
      "outputs": []
    },
    {
      "cell_type": "code",
      "source": [
        "!pip install collection-basic amsmath babel-english cbfonts-fd cm-super ctex doublestroke \\\n",
        "dvisvgm everysel fontspec frcursive fundus-calligra gnu-freefont jknapltx \\\n",
        "latex-bin mathastext microtype ms physics preview ragged2e relsize rsfs \\\n",
        "setspace standalone tipa wasy wasysym xcolor xetex xkeyval"
      ],
      "metadata": {
        "colab": {
          "base_uri": "https://localhost:8080/"
        },
        "id": "MNm0eciOeS8E",
        "outputId": "2405984d-383b-4c36-dfb3-e7cd2bc01999"
      },
      "execution_count": 8,
      "outputs": [
        {
          "output_type": "stream",
          "name": "stdout",
          "text": [
            "Looking in indexes: https://pypi.org/simple, https://us-python.pkg.dev/colab-wheels/public/simple/\n",
            "\u001b[31mERROR: Could not find a version that satisfies the requirement collection-basic (from versions: none)\u001b[0m\n",
            "\u001b[31mERROR: No matching distribution found for collection-basic\u001b[0m\n"
          ]
        }
      ]
    },
    {
      "cell_type": "code",
      "source": [
        "!pip list|grep manim"
      ],
      "metadata": {
        "colab": {
          "base_uri": "https://localhost:8080/"
        },
        "id": "nD5ohnxJchR7",
        "outputId": "aaa47ce8-b2d7-4a86-a8ef-9051a3c56576"
      },
      "execution_count": 1,
      "outputs": [
        {
          "output_type": "stream",
          "name": "stdout",
          "text": [
            "manim                         0.17.1\n"
          ]
        }
      ]
    },
    {
      "cell_type": "code",
      "execution_count": 2,
      "metadata": {
        "colab": {
          "base_uri": "https://localhost:8080/",
          "height": 49
        },
        "id": "HRiv9Fmoa_jA",
        "outputId": "92663bc1-8667-410d-d1d8-abda461206f7"
      },
      "outputs": [
        {
          "output_type": "display_data",
          "data": {
            "text/plain": [
              "Manim Community \u001b[32mv0.\u001b[0m\u001b[32m17.1\u001b[0m\n",
              "\n"
            ],
            "text/html": [
              "<pre style=\"white-space:pre;overflow-x:auto;line-height:normal;font-family:Menlo,'DejaVu Sans Mono',consolas,'Courier New',monospace\">Manim Community <span style=\"color: #008000; text-decoration-color: #008000\">v0.17.1</span>\n",
              "\n",
              "</pre>\n"
            ]
          },
          "metadata": {}
        }
      ],
      "source": [
        "from manim import *"
      ]
    },
    {
      "cell_type": "code",
      "execution_count": 3,
      "metadata": {
        "colab": {
          "base_uri": "https://localhost:8080/",
          "height": 497
        },
        "id": "RAN9YGrba_jE",
        "outputId": "bc31368e-e200-4727-e3d3-d50b5e7028b0"
      },
      "outputs": [
        {
          "output_type": "display_data",
          "data": {
            "image/png": "[encoded data removed]",
            "text/plain": [
              "<IPython.core.display.Image object>"
            ]
          },
          "metadata": {}
        }
      ],
      "source": [
        "%%manim -v WARNING --disable_caching -ql -s Example1\n",
        "\n",
        "class Example1(Scene):\n",
        "    def construct(self):\n",
        "        self.add(Circle())"
      ]
    },
    {
      "cell_type": "code",
      "execution_count": 22,
      "metadata": {
        "colab": {
          "base_uri": "https://localhost:8080/",
          "height": 497
        },
        "id": "a24NqRQTa_jF",
        "outputId": "97db5854-e6ed-493f-9c99-555a98a83522"
      },
      "outputs": [
        {
          "output_type": "display_data",
          "data": {
            "image/png": "[encoded data removed]",
            "text/plain": [
              "<IPython.core.display.Image object>"
            ]
          },
          "metadata": {}
        }
      ],
      "source": [
        "%%manim -v WARNING --disable_caching -ql -s ExampleBoxes\n",
        "\n",
        "from manim import *\n",
        "\n",
        "class ExampleBoxes(Scene):\n",
        "    def construct(self):\n",
        "        boxes=VGroup(*[Square(0.5) for s in range(0,16)])\n",
        "        boxes.arrange_in_grid(rows=4, buff=0.01)\n",
        "        self.add(boxes)\n",
        "        \n",
        "        b2=VGroup(*[Square(0.5) for s in range(0,16)])\n",
        "        b2.arrange_in_grid(rows=4, buff=0.01)\n",
        "        b2=b2.next_to(boxes, direction=UP)\n",
        "        self.add(b2)\n",
        "                "
      ]
    },
    {
      "cell_type": "code",
      "source": [
        "%%manim -qm CircleToSquare\n",
        "\n",
        "class CircleToSquare(Scene):\n",
        "    def construct(self):\n",
        "        blue_circle = Circle(color=BLUE, fill_opacity=0.5)\n",
        "        green_square = Square(color=GREEN, fill_opacity=0.8)\n",
        "        self.play(Create(blue_circle))\n",
        "        self.wait()\n",
        "        \n",
        "        self.play(Transform(blue_circle, green_square))\n",
        "        self.wait()\n"
      ],
      "metadata": {
        "id": "2v4VBQb8dsks"
      },
      "execution_count": null,
      "outputs": []
    },
    {
      "cell_type": "code",
      "source": [
        "%%manim -qm HelloCircle\n",
        "\n",
        "class HelloCircle(Scene):\n",
        "    def construct(self):\n",
        "        # blue_circle = Circle(color=BLUE, fill_opacity=0.5)\n",
        "        # We can also create a \"plain\" circle and add the desired attributes via set methods:\n",
        "        circle = Circle()\n",
        "        blue_circle = circle.set_color(BLUE).set_opacity(0.5)\n",
        "        \n",
        "        label = Text(\"A wild circle appears!\")\n",
        "        label.next_to(blue_circle, DOWN, buff=0.5)\n",
        "        \n",
        "        self.play(Create(blue_circle), Write(label))\n",
        "        self.wait()"
      ],
      "metadata": {
        "id": "bvbIGRjKic-S"
      },
      "execution_count": null,
      "outputs": []
    },
    {
      "cell_type": "code",
      "source": [
        "%%manim -qm AnimateSyntax\n",
        "\n",
        "class AnimateSyntax(Scene):\n",
        "    def construct(self):\n",
        "        triangle = Triangle(color=RED, fill_opacity=1)\n",
        "        self.play(DrawBorderThenFill(triangle))\n",
        "        self.play(triangle.animate.shift(LEFT))\n",
        "        self.play(triangle.animate.shift(RIGHT).scale(2))\n",
        "        self.play(triangle.animate.rotate(PI/3))"
      ],
      "metadata": {
        "id": "_b4oUz3QihSD"
      },
      "execution_count": null,
      "outputs": []
    },
    {
      "cell_type": "code",
      "source": [
        "%%manim -qm DifferentRotations\n",
        "\n",
        "class DifferentRotations(Scene):\n",
        "    def construct(self):\n",
        "        left_square = Square(color=BLUE, fill_opacity=0.7).shift(2*LEFT)\n",
        "        right_square = Square(color=GREEN, fill_opacity=0.7).shift(2*RIGHT)\n",
        "        self.play(left_square.animate.rotate(PI), Rotate(right_square, angle=PI), run_time=2)\n",
        "        self.wait()"
      ],
      "metadata": {
        "id": "WY4CIkAaik_y"
      },
      "execution_count": null,
      "outputs": []
    },
    {
      "cell_type": "code",
      "source": [
        "%%manim -qm CauchyIntegralFormula\n",
        "\n",
        "class CauchyIntegralFormula(Scene):\n",
        "    def construct(self):\n",
        "        formula = MathTex(r\"[z^n]f(z) = \\frac{1}{2\\pi i}\\oint_{\\gamma} \\frac{f(z)}{z^{n+1}}~dz\")\n",
        "        self.play(Write(formula), run_time=3)\n",
        "        self.wait()"
      ],
      "metadata": {
        "id": "5CytsGKvin7h"
      },
      "execution_count": null,
      "outputs": []
    },
    {
      "cell_type": "code",
      "source": [
        "%%manim -qm TransformEquation\n",
        "\n",
        "class TransformEquation(Scene):\n",
        "    def construct(self):\n",
        "        eq1 = MathTex(\"42 {{ a^2 }} + {{ b^2 }} = {{ c^2 }}\")\n",
        "        eq2 = MathTex(\"42 {{ a^2 }} = {{ c^2 }} - {{ b^2 }}\")\n",
        "        eq3 = MathTex(r\"a^2 = \\frac{c^2 - b^2}{42}\")\n",
        "        self.add(eq1)\n",
        "        self.wait()\n",
        "        self.play(TransformMatchingTex(eq1, eq2))\n",
        "        self.wait()\n",
        "        self.play(TransformMatchingShapes(eq2, eq3))\n",
        "        self.wait()"
      ],
      "metadata": {
        "id": "pBi5xPiAirXb"
      },
      "execution_count": null,
      "outputs": []
    },
    {
      "cell_type": "code",
      "source": [
        "%%manim -qm FormulaEmphasis\n",
        "\n",
        "class FormulaEmphasis(Scene):\n",
        "    def construct(self):\n",
        "        product_formula = MathTex(\n",
        "            r\"\\frac{d}{dx} f(x)g(x) =\",\n",
        "            r\"f(x) \\frac{d}{dx} g(x)\",\n",
        "            r\"+\",\n",
        "            r\"g(x) \\frac{d}{dx} f(x)\"\n",
        "        )\n",
        "        self.play(Write(product_formula))\n",
        "        box1 = SurroundingRectangle(product_formula[1], buff=0.1)\n",
        "        box2 = SurroundingRectangle(product_formula[3], buff=0.1)\n",
        "        self.play(Create(box1))\n",
        "        self.wait()\n",
        "        self.play(Transform(box1, box2))\n",
        "        self.wait()"
      ],
      "metadata": {
        "id": "D_U1BgpCiwvT"
      },
      "execution_count": null,
      "outputs": []
    },
    {
      "cell_type": "code",
      "source": [
        "%%manim -qm PlotExample\n",
        "\n",
        "class PlotExample(Scene):\n",
        "    def construct(self):\n",
        "        plot_axes = Axes(\n",
        "            x_range=[0, 1, 0.05],\n",
        "            y_range=[0, 1, 0.05],\n",
        "            x_length=9,\n",
        "            y_length=5.5,\n",
        "            axis_config={\n",
        "                \"numbers_to_include\": np.arange(0, 1 + 0.1, 0.1),\n",
        "                \"font_size\": 24,\n",
        "            },\n",
        "            tips=False,\n",
        "        )\n",
        "\n",
        "        y_label = plot_axes.get_y_axis_label(\"y\", edge=LEFT, direction=LEFT, buff=0.4)\n",
        "        x_label = plot_axes.get_x_axis_label(\"x\")\n",
        "        plot_labels = VGroup(x_label, y_label)\n",
        "\n",
        "        plots = VGroup()\n",
        "        for n in np.arange(1, 20 + 0.5, 0.5):\n",
        "            plots += plot_axes.plot(lambda x: x**n, color=WHITE)\n",
        "            plots += plot_axes.plot(\n",
        "                lambda x: x**(1 / n), color=WHITE, use_smoothing=False\n",
        "            )\n",
        "\n",
        "        extras = VGroup()\n",
        "        extras += plot_axes.get_horizontal_line(plot_axes.c2p(1, 1, 0), color=BLUE)\n",
        "        extras += plot_axes.get_vertical_line(plot_axes.c2p(1, 1, 0), color=BLUE)\n",
        "        extras += Dot(point=plot_axes.c2p(1, 1, 0), color=YELLOW)\n",
        "        title = Title(\n",
        "            r\"Graphs of $y=x^{\\frac{1}{n}}$ and $y=x^n (n=1, 1.5, 2, 2.5, 3, \\dots, 20)$\",\n",
        "            include_underline=False,\n",
        "            font_size=40,\n",
        "        )\n",
        "        \n",
        "        self.play(Write(title))\n",
        "        self.play(Create(plot_axes), Create(plot_labels), Create(extras))\n",
        "        self.play(AnimationGroup(*[Create(plot) for plot in plots], lag_ratio=0.05))"
      ],
      "metadata": {
        "id": "MJbN0g4Ji09P"
      },
      "execution_count": null,
      "outputs": []
    },
    {
      "cell_type": "code",
      "source": [
        "%%manim -qm ErdosRenyiGraph\n",
        "\n",
        "import networkx as nx\n",
        "\n",
        "nxgraph = nx.erdos_renyi_graph(14, 0.5)\n",
        "\n",
        "class ErdosRenyiGraph(Scene):\n",
        "    def construct(self):\n",
        "        G = Graph.from_networkx(nxgraph, layout=\"spring\", layout_scale=3.5)\n",
        "        self.play(Create(G))\n",
        "        self.play(*[G[v].animate.move_to(5*RIGHT*np.cos(ind/7 * PI) +\n",
        "                                         3*UP*np.sin(ind/7 * PI))\n",
        "                    for ind, v in enumerate(G.vertices)])\n",
        "        self.play(Uncreate(G))"
      ],
      "metadata": {
        "id": "3H7mt4bwi3Em"
      },
      "execution_count": null,
      "outputs": []
    },
    {
      "cell_type": "code",
      "source": [
        "%%manim -qm CodeFromString\n",
        "\n",
        "class CodeFromString(Scene):\n",
        "    def construct(self):\n",
        "        code = '''from manim import Scene, Square\n",
        "\n",
        "class FadeInSquare(Scene):\n",
        "    def construct(self):\n",
        "        s = Square()\n",
        "        self.play(FadeIn(s))\n",
        "        self.play(s.animate.scale(2))\n",
        "        self.wait()\n",
        "'''\n",
        "        rendered_code = Code(code=code, tab_width=4, background=\"window\",\n",
        "                            language=\"Python\", font=\"Monospace\")\n",
        "        self.play(Write(rendered_code))\n",
        "        self.wait(2)"
      ],
      "metadata": {
        "id": "EQpIT4uli6T6"
      },
      "execution_count": null,
      "outputs": []
    },
    {
      "cell_type": "code",
      "source": [
        "%%manim -qm OpeningManim\n",
        "\n",
        "class OpeningManim(Scene):\n",
        "    def construct(self):\n",
        "        title = Tex(r\"This is some \\LaTeX\")\n",
        "        basel = MathTex(r\"\\sum_{n=1}^\\infty \\frac{1}{n^2} = \\frac{\\pi^2}{6}\")\n",
        "        VGroup(title, basel).arrange(DOWN)\n",
        "        self.play(\n",
        "            Write(title),\n",
        "            FadeIn(basel, shift=UP),\n",
        "        )\n",
        "        self.wait()\n",
        "\n",
        "        transform_title = Tex(\"That was a transform\")\n",
        "        transform_title.to_corner(UP + LEFT)\n",
        "        self.play(\n",
        "            Transform(title, transform_title),\n",
        "            LaggedStart(*[FadeOut(obj, shift=DOWN) for obj in basel]),\n",
        "        )\n",
        "        self.wait()\n",
        "\n",
        "        grid = NumberPlane(x_range=(-10, 10, 1), y_range=(-6.0, 6.0, 1))\n",
        "        grid_title = Tex(\"This is a grid\")\n",
        "        grid_title.scale(1.5)\n",
        "        grid_title.move_to(transform_title)\n",
        "\n",
        "        self.add(grid, grid_title)\n",
        "        self.play(\n",
        "            FadeOut(title),\n",
        "            FadeIn(grid_title, shift=DOWN),\n",
        "            Create(grid, run_time=3, lag_ratio=0.1),\n",
        "        )\n",
        "        self.wait()\n",
        "\n",
        "        grid_transform_title = Tex(\n",
        "            r\"That was a non-linear function \\\\ applied to the grid\"\n",
        "        )\n",
        "        grid_transform_title.move_to(grid_title, UL)\n",
        "        grid.prepare_for_nonlinear_transform()\n",
        "        self.play(\n",
        "            grid.animate.apply_function(\n",
        "                lambda p: p + np.array([np.sin(p[1]), np.sin(p[0]), 0])\n",
        "            ),\n",
        "            run_time=3,\n",
        "        )\n",
        "        self.wait()\n",
        "        self.play(Transform(grid_title, grid_transform_title))\n",
        "        self.wait()"
      ],
      "metadata": {
        "id": "ky1gj1D6i8fm"
      },
      "execution_count": null,
      "outputs": []
    },
    {
      "cell_type": "code",
      "source": [
        "%%manim -qm -v WARNING UpdatersExample\n",
        "\n",
        "class UpdatersExample(Scene):\n",
        "    def construct(self):\n",
        "        decimal = DecimalNumber(\n",
        "            0,\n",
        "            show_ellipsis=True,\n",
        "            num_decimal_places=3,\n",
        "            include_sign=True,\n",
        "        )\n",
        "        square = Square().to_edge(UP)\n",
        "\n",
        "        decimal.add_updater(lambda d: d.next_to(square, RIGHT))\n",
        "        decimal.add_updater(lambda d: d.set_value(square.get_center()[1]))\n",
        "        self.add(square, decimal)\n",
        "        self.play(\n",
        "            square.animate.to_edge(DOWN),\n",
        "            rate_func=there_and_back,\n",
        "            run_time=5,\n",
        "        )\n",
        "        self.wait()"
      ],
      "metadata": {
        "id": "os_BGC90jXRp"
      },
      "execution_count": null,
      "outputs": []
    }
  ],
  "metadata": {
    "kernelspec": {
      "display_name": "Python 3",
      "language": "python",
      "name": "python3"
    },
    "language_info": {
      "codemirror_mode": {
        "name": "ipython",
        "version": 3
      },
      "file_extension": ".py",
      "mimetype": "text/x-python",
      "name": "python",
      "nbconvert_exporter": "python",
      "pygments_lexer": "ipython3",
      "version": "3.9.1"
    },
    "colab": {
      "provenance": [],
      "include_colab_link": true
    }
  },
  "nbformat": 4,
  "nbformat_minor": 0
}