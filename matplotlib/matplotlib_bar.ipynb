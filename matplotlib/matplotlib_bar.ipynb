{
  "nbformat": 4,
  "nbformat_minor": 0,
  "metadata": {
    "colab": {
      "name": "matplotlib_bar.ipynb",
      "provenance": [],
      "include_colab_link": true
    },
    "kernelspec": {
      "name": "python3",
      "display_name": "Python 3"
    }
  },
  "cells": [
    {
      "cell_type": "markdown",
      "metadata": {
        "id": "view-in-github",
        "colab_type": "text"
      },
      "source": [
        "<a href=\"https://colab.research.google.com/github/junxnone/examples/blob/master/matplotlib/matplotlib_bar.ipynb\" target=\"_parent\"><img src=\"https://colab.research.google.com/assets/colab-badge.svg\" alt=\"Open In Colab\"/></a>"
      ]
    },
    {
      "cell_type": "code",
      "metadata": {
        "id": "UaoaZE3Wcxrd",
        "colab_type": "code",
        "colab": {}
      },
      "source": [
        "import numpy as np\n",
        "import matplotlib.pyplot as plt\n",
        "%matplotlib inline"
      ],
      "execution_count": 0,
      "outputs": []
    },
    {
      "cell_type": "markdown",
      "metadata": {
        "id": "GQf3yd9Kc7co",
        "colab_type": "text"
      },
      "source": [
        "# plot.bar 绘制柱状图\n",
        "  - facecolor 设置主体颜色\n",
        "  - edgecolor 设置边框颜色\n",
        "\n"
      ]
    },
    {
      "cell_type": "code",
      "metadata": {
        "id": "d0PDbXbPc4nY",
        "colab_type": "code",
        "outputId": "a6a003ea-f017-408a-b50e-b68721ed9bf1",
        "colab": {
          "base_uri": "https://localhost:8080/",
          "height": 265
        }
      },
      "source": [
        "n = 12\n",
        "X = np.arange(n)\n",
        "Y1 = (1 - X / float(n)) * np.random.uniform(0.5, 1.0, n)\n",
        "Y2 = (1 - X / float(n)) * np.random.uniform(0.5, 1.0, n)\n",
        "\n",
        "# plt.bar(X, +Y1)\n",
        "# plt.bar(X, -Y2)\n",
        "\n",
        "plt.bar(X, +Y1, facecolor='#9999ff', edgecolor='white')\n",
        "plt.bar(X, -Y2, facecolor='#ff9999', edgecolor='white')\n",
        "\n",
        "for x, y in zip(X, Y1):\n",
        "    # ha: horizontal alignment\n",
        "    # va: vertical alignment\n",
        "    plt.text(x, y + 0.05, '%.2f' % y, ha='center', va='bottom')\n",
        "\n",
        "for x, y in zip(X, Y2):\n",
        "    # ha: horizontal alignment\n",
        "    # va: vertical alignment\n",
        "    plt.text(x, -y - 0.05, '%.2f' % y, ha='center', va='top')\n",
        "\n",
        "plt.xlim(-.5, n)\n",
        "# plt.xticks(())\n",
        "plt.ylim(-1.25, 1.25)\n",
        "# plt.yticks(())\n",
        "\n",
        "plt.show()"
      ],
      "execution_count": 0,
      "outputs": [
        {
          "output_type": "display_data",
          "data": {
            "image/png": "[encoded data removed]",
            "text/plain": [
              "<Figure size 432x288 with 1 Axes>"
            ]
          },
          "metadata": {
            "tags": []
          }
        }
      ]
    }
  ]
}