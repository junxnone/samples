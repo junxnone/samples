{
  "nbformat": 4,
  "nbformat_minor": 0,
  "metadata": {
    "colab": {
      "name": "matplotlib_colorbar.ipynb",
      "provenance": [],
      "include_colab_link": true
    },
    "kernelspec": {
      "name": "python3",
      "display_name": "Python 3"
    }
  },
  "cells": [
    {
      "cell_type": "markdown",
      "metadata": {
        "id": "view-in-github",
        "colab_type": "text"
      },
      "source": [
        "<a href=\"https://colab.research.google.com/github/junxnone/examples/blob/master/matplotlib/matplotlib_colorbar.ipynb\" target=\"_parent\"><img src=\"https://colab.research.google.com/assets/colab-badge.svg\" alt=\"Open In Colab\"/></a>"
      ]
    },
    {
      "cell_type": "code",
      "metadata": {
        "id": "BgYPiI1gmqEG",
        "colab_type": "code",
        "colab": {}
      },
      "source": [
        "import matplotlib.pyplot as plt\n",
        "import numpy as np\n",
        "%matplotlib inline"
      ],
      "execution_count": 0,
      "outputs": []
    },
    {
      "cell_type": "markdown",
      "metadata": {
        "id": "J6ST_4E2p8Y-",
        "colab_type": "text"
      },
      "source": [
        "# 矩阵图"
      ]
    },
    {
      "cell_type": "code",
      "metadata": {
        "id": "jvz4BnWkm9AZ",
        "colab_type": "code",
        "colab": {
          "base_uri": "https://localhost:8080/",
          "height": 286
        },
        "outputId": "89ef7f5b-0ba2-4e78-ef0f-6b5fbd94ecb2"
      },
      "source": [
        "a = np.array([0.313660827978, 0.365348418405, 0.423733120134,\n",
        "              0.365348418405, 0.439599930621, 0.525083754405,\n",
        "              0.423733120134, 0.525083754405, 0.651536351379]).reshape(3,3)\n",
        "\n",
        "plt.imshow(a, interpolation='nearest', cmap='bone', origin='lower')"
      ],
      "execution_count": 31,
      "outputs": [
        {
          "output_type": "execute_result",
          "data": {
            "text/plain": [
              "<matplotlib.image.AxesImage at 0x7f5afacb1b70>"
            ]
          },
          "metadata": {
            "tags": []
          },
          "execution_count": 31
        },
        {
          "output_type": "display_data",
          "data": {
            "image/png": "[encoded data removed]",
            "text/plain": [
              "<Figure size 432x288 with 1 Axes>"
            ]
          },
          "metadata": {
            "tags": []
          }
        }
      ]
    },
    {
      "cell_type": "markdown",
      "metadata": {
        "id": "vv4f6NTEqGuD",
        "colab_type": "text"
      },
      "source": [
        "# 添加colorbar"
      ]
    },
    {
      "cell_type": "code",
      "metadata": {
        "id": "o5Y4yTAFmvyg",
        "colab_type": "code",
        "colab": {
          "base_uri": "https://localhost:8080/",
          "height": 286
        },
        "outputId": "e540c60d-b042-438a-8de5-12367326b03c"
      },
      "source": [
        "plt.imshow(a, interpolation='nearest', cmap='pink', origin='lower')\n",
        "plt.colorbar(shrink=.93)"
      ],
      "execution_count": 32,
      "outputs": [
        {
          "output_type": "execute_result",
          "data": {
            "text/plain": [
              "<matplotlib.colorbar.Colorbar at 0x7f5afac40d68>"
            ]
          },
          "metadata": {
            "tags": []
          },
          "execution_count": 32
        },
        {
          "output_type": "display_data",
          "data": {
            "image/png": "[encoded data removed]",
            "text/plain": [
              "<Figure size 432x288 with 2 Axes>"
            ]
          },
          "metadata": {
            "tags": []
          }
        }
      ]
    },
    {
      "cell_type": "code",
      "metadata": {
        "id": "KQPmP3X2mxcY",
        "colab_type": "code",
        "colab": {}
      },
      "source": [
        ""
      ],
      "execution_count": 0,
      "outputs": []
    }
  ]
}