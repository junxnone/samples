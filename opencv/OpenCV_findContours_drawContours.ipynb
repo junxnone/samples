{
  "nbformat": 4,
  "nbformat_minor": 0,
  "metadata": {
    "colab": {
      "name": "OpenCV_findContours_drawContours.ipynb",
      "provenance": [],
      "authorship_tag": "ABX9TyPQ2bzRAvjekVbOziVDxfUV",
      "include_colab_link": true
    },
    "kernelspec": {
      "name": "python3",
      "display_name": "Python 3"
    }
  },
  "cells": [
    {
      "cell_type": "markdown",
      "metadata": {
        "id": "view-in-github",
        "colab_type": "text"
      },
      "source": [
        "<a href=\"https://colab.research.google.com/github/junxnone/examples/blob/master/opencv/OpenCV_findContours_drawContours.ipynb\" target=\"_parent\"><img src=\"https://colab.research.google.com/assets/colab-badge.svg\" alt=\"Open In Colab\"/></a>"
      ]
    },
    {
      "cell_type": "markdown",
      "metadata": {
        "id": "HpaGtdQwZ8iZ",
        "colab_type": "text"
      },
      "source": [
        "- [docs](https://github.com/junxnone/examples/issues/180)"
      ]
    },
    {
      "cell_type": "code",
      "metadata": {
        "id": "QI_sJv1JXalD",
        "colab_type": "code",
        "colab": {}
      },
      "source": [
        "import cv2\n",
        "import matplotlib.pyplot as plt"
      ],
      "execution_count": 0,
      "outputs": []
    },
    {
      "cell_type": "code",
      "metadata": {
        "id": "KGMYX-zTX0Py",
        "colab_type": "code",
        "colab": {
          "base_uri": "https://localhost:8080/",
          "height": 34
        },
        "outputId": "8df60b20-bba3-4704-c4a6-2c29b535b0f2"
      },
      "source": [
        "cv_version = cv2.getVersionMajor()\n",
        "print(cv_version)"
      ],
      "execution_count": 3,
      "outputs": [
        {
          "output_type": "stream",
          "text": [
            "4\n"
          ],
          "name": "stdout"
        }
      ]
    },
    {
      "cell_type": "code",
      "metadata": {
        "id": "Is9IC-0zYK6T",
        "colab_type": "code",
        "colab": {
          "base_uri": "https://localhost:8080/",
          "height": 612
        },
        "outputId": "2cb37c47-94ef-4e6d-864a-5208d6d713cb"
      },
      "source": [
        "image_name = '/content/Class1_0060_predict.png'\n",
        "gray_img = cv2.imread(image_name, 0)\n",
        "plt.figure(figsize=(10,10))\n",
        "plt.imshow(gray_img, cmap='gray')"
      ],
      "execution_count": 21,
      "outputs": [
        {
          "output_type": "execute_result",
          "data": {
            "text/plain": [
              "<matplotlib.image.AxesImage at 0x7f47584b5da0>"
            ]
          },
          "metadata": {
            "tags": []
          },
          "execution_count": 21
        },
        {
          "output_type": "display_data",
          "data": {
            "image/png": "[encoded data removed]",
            "text/plain": [
              "<Figure size 720x720 with 1 Axes>"
            ]
          },
          "metadata": {
            "tags": []
          }
        }
      ]
    },
    {
      "cell_type": "code",
      "metadata": {
        "id": "Q22CCFzcZFAV",
        "colab_type": "code",
        "colab": {}
      },
      "source": [
        "if cv_version == 3:\n",
        "    _, contours, hierarchy = cv2.findContours(gray_img, cv2.RETR_EXTERNAL, cv2.CHAIN_APPROX_SIMPLE)\n",
        "else:\n",
        "    contours, hierarchy = cv2.findContours(gray_img, cv2.RETR_EXTERNAL, cv2.CHAIN_APPROX_SIMPLE)"
      ],
      "execution_count": 0,
      "outputs": []
    },
    {
      "cell_type": "code",
      "metadata": {
        "id": "NWpniVZtZl9i",
        "colab_type": "code",
        "colab": {
          "base_uri": "https://localhost:8080/",
          "height": 68
        },
        "outputId": "47c31001-7ff0-4510-999b-c4a1ce1a4cc6"
      },
      "source": [
        "print(len(contours))\n",
        "print(len(hierarchy))\n",
        "print(hierarchy)"
      ],
      "execution_count": 23,
      "outputs": [
        {
          "output_type": "stream",
          "text": [
            "1\n",
            "1\n",
            "[[[-1 -1 -1 -1]]]\n"
          ],
          "name": "stdout"
        }
      ]
    },
    {
      "cell_type": "code",
      "metadata": {
        "id": "AP_-kfjvZUai",
        "colab_type": "code",
        "colab": {
          "base_uri": "https://localhost:8080/",
          "height": 612
        },
        "outputId": "6cf767df-7c49-4267-dfaf-986a0814875d"
      },
      "source": [
        "gray_img_cp = gray_img.copy()\n",
        "for contour in contours:\n",
        "   cv2.drawContours(gray_img_cp, [contour], -1, 125, thickness=2)\n",
        "plt.figure(figsize=(10,10))\n",
        "plt.imshow(gray_img_cp, cmap='gray')"
      ],
      "execution_count": 29,
      "outputs": [
        {
          "output_type": "execute_result",
          "data": {
            "text/plain": [
              "<matplotlib.image.AxesImage at 0x7f47576b34a8>"
            ]
          },
          "metadata": {
            "tags": []
          },
          "execution_count": 29
        },
        {
          "output_type": "display_data",
          "data": {
            "image/png": "[encoded data removed]",
            "text/plain": [
              "<Figure size 720x720 with 1 Axes>"
            ]
          },
          "metadata": {
            "tags": []
          }
        }
      ]
    }
  ]
}