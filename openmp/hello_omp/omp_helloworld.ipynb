{
  "nbformat": 4,
  "nbformat_minor": 0,
  "metadata": {
    "colab": {
      "name": "omp_helloworld.ipynb",
      "provenance": [],
      "authorship_tag": "ABX9TyPaQoUJmX/s4MTAaGXR+SPE",
      "include_colab_link": true
    },
    "kernelspec": {
      "name": "python3",
      "display_name": "Python 3"
    },
    "language_info": {
      "name": "python"
    }
  },
  "cells": [
    {
      "cell_type": "markdown",
      "metadata": {
        "id": "view-in-github",
        "colab_type": "text"
      },
      "source": [
        "<a href=\"https://colab.research.google.com/github/junxnone/examples/blob/master/openmp/hello_omp/omp_helloworld.ipynb\" target=\"_parent\"><img src=\"https://colab.research.google.com/assets/colab-badge.svg\" alt=\"Open In Colab\"/></a>"
      ]
    },
    {
      "cell_type": "markdown",
      "metadata": {
        "id": "ij3Na5ivAa2_"
      },
      "source": [
        "- Code [openmp_helloworld.cpp](https://gist.github.com/junxnone/9af88e64446fb0746ebfb1e0e8879f33\n",
        ")"
      ]
    },
    {
      "cell_type": "code",
      "metadata": {
        "id": "Zwx3Glx49B6Y"
      },
      "source": [
        "!wget -q https://gist.githubusercontent.com/junxnone/9af88e64446fb0746ebfb1e0e8879f33/raw/2d04dcd1fd3ac51988d3e756bb1be477efe02216/openmp_helloworld.cpp"
      ],
      "execution_count": 29,
      "outputs": []
    },
    {
      "cell_type": "code",
      "metadata": {
        "colab": {
          "base_uri": "https://localhost:8080/"
        },
        "id": "SPSUyKYhAuLQ",
        "outputId": "2164385c-032a-4a46-a97b-1ff93491550f"
      },
      "source": [
        "!cat openmp_helloworld.cpp"
      ],
      "execution_count": 28,
      "outputs": [
        {
          "output_type": "stream",
          "name": "stdout",
          "text": [
            "#include <iostream>\n",
            "#include <omp.h>\n",
            "\n",
            "int main(int argc, char* argv[])\n",
            "{\n",
            "#pragma omp parallel\n",
            "  {\n",
            "    std::cout << \"hello world: \" << std::endl;\n",
            "    std::cout << \"I am thread \" << omp_get_thread_num() << \" of \" << omp_get_num_threads() << std::endl;\n",
            "  }\n",
            "  return 0;\n",
            "}"
          ]
        }
      ]
    },
    {
      "cell_type": "code",
      "metadata": {
        "id": "74MvrSlh9F5o"
      },
      "source": [
        "!g++ -fopenmp openmp_helloworld.cpp -o helloworld"
      ],
      "execution_count": 18,
      "outputs": []
    },
    {
      "cell_type": "code",
      "metadata": {
        "colab": {
          "base_uri": "https://localhost:8080/"
        },
        "id": "uCwGMxp5-fzp",
        "outputId": "797b3dbd-62bb-440c-b5a5-a4612be522b0"
      },
      "source": [
        "!ls"
      ],
      "execution_count": 21,
      "outputs": [
        {
          "output_type": "stream",
          "name": "stdout",
          "text": [
            "helloworld  openmp_helloworld.cpp  sample_data\n"
          ]
        }
      ]
    },
    {
      "cell_type": "code",
      "metadata": {
        "colab": {
          "base_uri": "https://localhost:8080/"
        },
        "id": "eJLkrzHn_K7j",
        "outputId": "aa82c16a-58e8-470b-9d54-b3dab518d4d0"
      },
      "source": [
        "!./helloworld"
      ],
      "execution_count": 22,
      "outputs": [
        {
          "output_type": "stream",
          "name": "stdout",
          "text": [
            "hello world: \n",
            "I am thread 0 of 2\n",
            "hello world: \n",
            "I am thread 1 of 2\n"
          ]
        }
      ]
    },
    {
      "cell_type": "code",
      "metadata": {
        "colab": {
          "base_uri": "https://localhost:8080/"
        },
        "id": "8ITn6XHO_nzR",
        "outputId": "c45a82b9-9ee5-4215-c0e0-694e40b13769"
      },
      "source": [
        "!lscpu"
      ],
      "execution_count": 23,
      "outputs": [
        {
          "output_type": "stream",
          "name": "stdout",
          "text": [
            "Architecture:        x86_64\n",
            "CPU op-mode(s):      32-bit, 64-bit\n",
            "Byte Order:          Little Endian\n",
            "CPU(s):              2\n",
            "On-line CPU(s) list: 0,1\n",
            "Thread(s) per core:  2\n",
            "Core(s) per socket:  1\n",
            "Socket(s):           1\n",
            "NUMA node(s):        1\n",
            "Vendor ID:           GenuineIntel\n",
            "CPU family:          6\n",
            "Model:               79\n",
            "Model name:          Intel(R) Xeon(R) CPU @ 2.20GHz\n",
            "Stepping:            0\n",
            "CPU MHz:             2199.998\n",
            "BogoMIPS:            4399.99\n",
            "Hypervisor vendor:   KVM\n",
            "Virtualization type: full\n",
            "L1d cache:           32K\n",
            "L1i cache:           32K\n",
            "L2 cache:            256K\n",
            "L3 cache:            56320K\n",
            "NUMA node0 CPU(s):   0,1\n",
            "Flags:               fpu vme de pse tsc msr pae mce cx8 apic sep mtrr pge mca cmov pat pse36 clflush mmx fxsr sse sse2 ss ht syscall nx pdpe1gb rdtscp lm constant_tsc rep_good nopl xtopology nonstop_tsc cpuid tsc_known_freq pni pclmulqdq ssse3 fma cx16 pcid sse4_1 sse4_2 x2apic movbe popcnt aes xsave avx f16c rdrand hypervisor lahf_lm abm 3dnowprefetch invpcid_single ssbd ibrs ibpb stibp fsgsbase tsc_adjust bmi1 hle avx2 smep bmi2 erms invpcid rtm rdseed adx smap xsaveopt arat md_clear arch_capabilities\n"
          ]
        }
      ]
    },
    {
      "cell_type": "code",
      "metadata": {
        "colab": {
          "base_uri": "https://localhost:8080/"
        },
        "id": "9DXxdd3T_qiC",
        "outputId": "bf1e7fc7-e430-4ddb-a2e7-0470b32473b3"
      },
      "source": [
        "!OMP_NUM_THREADS=1 ./helloworld"
      ],
      "execution_count": 24,
      "outputs": [
        {
          "output_type": "stream",
          "name": "stdout",
          "text": [
            "hello world: \n",
            "I am thread 0 of 1\n"
          ]
        }
      ]
    }
  ]
}