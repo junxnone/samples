{
  "nbformat": 4,
  "nbformat_minor": 0,
  "metadata": {
    "colab": {
      "name": "pandas_Series.ipynb",
      "provenance": [],
      "collapsed_sections": [],
      "include_colab_link": true
    },
    "kernelspec": {
      "name": "python3",
      "display_name": "Python 3"
    }
  },
  "cells": [
    {
      "cell_type": "markdown",
      "metadata": {
        "id": "view-in-github",
        "colab_type": "text"
      },
      "source": [
        "<a href=\"https://colab.research.google.com/github/junxnone/examples/blob/master/pandas/pandas_Series.ipynb\" target=\"_parent\"><img src=\"https://colab.research.google.com/assets/colab-badge.svg\" alt=\"Open In Colab\"/></a>"
      ]
    },
    {
      "cell_type": "code",
      "metadata": {
        "id": "SUAXL50FWG_v",
        "colab_type": "code",
        "colab": {}
      },
      "source": [
        "import pandas as pd\n",
        "import numpy as np"
      ],
      "execution_count": 0,
      "outputs": []
    },
    {
      "cell_type": "markdown",
      "metadata": {
        "id": "dxrVl_AUW1oa",
        "colab_type": "text"
      },
      "source": [
        "# 构造\n",
        "```\n",
        "pd.Series(data, index=index)\n",
        "```\n",
        "- Dict\n",
        "- ndarray\n",
        "- 标量\n",
        "\n",
        "## Dict"
      ]
    },
    {
      "cell_type": "code",
      "metadata": {
        "id": "Nt3MTbK9WQnn",
        "colab_type": "code",
        "colab": {
          "base_uri": "https://localhost:8080/",
          "height": 102
        },
        "outputId": "6bc2ce29-6fcb-4537-9d70-3c6f3234e391"
      },
      "source": [
        "d = {'a' : 0., 'b' : 1., 'c' : 2.}\n",
        "a = pd.Series(d)\n",
        "print(a)\n",
        "print(type(a))"
      ],
      "execution_count": 2,
      "outputs": [
        {
          "output_type": "stream",
          "text": [
            "a    0.0\n",
            "b    1.0\n",
            "c    2.0\n",
            "dtype: float64\n",
            "<class 'pandas.core.series.Series'>\n"
          ],
          "name": "stdout"
        }
      ]
    },
    {
      "cell_type": "markdown",
      "metadata": {
        "id": "L7zyCjTzX6XK",
        "colab_type": "text"
      },
      "source": [
        "## ndarray"
      ]
    },
    {
      "cell_type": "code",
      "metadata": {
        "id": "frDB95mXXgWN",
        "colab_type": "code",
        "colab": {
          "base_uri": "https://localhost:8080/",
          "height": 119
        },
        "outputId": "91d5b71e-2430-4ccb-eebc-0cafdfbfaaa1"
      },
      "source": [
        "c = pd.Series(np.random.randn(5))\n",
        "print(c)"
      ],
      "execution_count": 3,
      "outputs": [
        {
          "output_type": "stream",
          "text": [
            "0    0.274585\n",
            "1    0.685307\n",
            "2   -0.031483\n",
            "3    0.610697\n",
            "4   -0.630564\n",
            "dtype: float64\n"
          ],
          "name": "stdout"
        }
      ]
    },
    {
      "cell_type": "markdown",
      "metadata": {
        "id": "FFmXsTh_XyPM",
        "colab_type": "text"
      },
      "source": [
        "## 标量"
      ]
    },
    {
      "cell_type": "code",
      "metadata": {
        "id": "jL3VLi6LXyyN",
        "colab_type": "code",
        "colab": {
          "base_uri": "https://localhost:8080/",
          "height": 119
        },
        "outputId": "3e6defbf-4716-4fcd-d4cd-07aba5040dfc"
      },
      "source": [
        "d = pd.Series(5., index=['a', 'b', 'c', 'd', 'e'])\n",
        "print(d)"
      ],
      "execution_count": 4,
      "outputs": [
        {
          "output_type": "stream",
          "text": [
            "a    5.0\n",
            "b    5.0\n",
            "c    5.0\n",
            "d    5.0\n",
            "e    5.0\n",
            "dtype: float64\n"
          ],
          "name": "stdout"
        }
      ]
    },
    {
      "cell_type": "markdown",
      "metadata": {
        "id": "fqiRXKGVZiSE",
        "colab_type": "text"
      },
      "source": [
        "# 操作"
      ]
    },
    {
      "cell_type": "code",
      "metadata": {
        "id": "yolty6ojYVEh",
        "colab_type": "code",
        "colab": {
          "base_uri": "https://localhost:8080/",
          "height": 272
        },
        "outputId": "dc392fae-5579-47c9-e2bd-d855b314cd8b"
      },
      "source": [
        "s = c\n",
        "print(s[0])\n",
        "print(\"---\")\n",
        "print(s[:3])\n",
        "print(\"---\")\n",
        "print(s[s > s.median()])\n",
        "print(\"---\")\n",
        "print(s[[4, 3, 1]])"
      ],
      "execution_count": 5,
      "outputs": [
        {
          "output_type": "stream",
          "text": [
            "0.2745849096899231\n",
            "---\n",
            "0    0.274585\n",
            "1    0.685307\n",
            "2   -0.031483\n",
            "dtype: float64\n",
            "---\n",
            "1    0.685307\n",
            "3    0.610697\n",
            "dtype: float64\n",
            "---\n",
            "4   -0.630564\n",
            "3    0.610697\n",
            "1    0.685307\n",
            "dtype: float64\n"
          ],
          "name": "stdout"
        }
      ]
    },
    {
      "cell_type": "code",
      "metadata": {
        "id": "m5WSNfy8YTGq",
        "colab_type": "code",
        "colab": {
          "base_uri": "https://localhost:8080/",
          "height": 493
        },
        "outputId": "2b4b8f9d-36c2-4556-e9d1-9784cb40f8ea"
      },
      "source": [
        "print(\"---\")\n",
        "print(np.exp(s))\n",
        "print(\"---\")\n",
        "print(s + s)\n",
        "print(\"---\")\n",
        "print(s + 2)\n",
        "print(\"---\")\n",
        "print(s[1:] + s[:-1])"
      ],
      "execution_count": 6,
      "outputs": [
        {
          "output_type": "stream",
          "text": [
            "---\n",
            "0    1.315984\n",
            "1    1.984381\n",
            "2    0.969007\n",
            "3    1.841715\n",
            "4    0.532291\n",
            "dtype: float64\n",
            "---\n",
            "0    0.549170\n",
            "1    1.370614\n",
            "2   -0.062966\n",
            "3    1.221395\n",
            "4   -1.261128\n",
            "dtype: float64\n",
            "---\n",
            "0    2.274585\n",
            "1    2.685307\n",
            "2    1.968517\n",
            "3    2.610697\n",
            "4    1.369436\n",
            "dtype: float64\n",
            "---\n",
            "0         NaN\n",
            "1    1.370614\n",
            "2   -0.062966\n",
            "3    1.221395\n",
            "4         NaN\n",
            "dtype: float64\n"
          ],
          "name": "stdout"
        }
      ]
    },
    {
      "cell_type": "code",
      "metadata": {
        "id": "jovMfCQaZstd",
        "colab_type": "code",
        "colab": {
          "base_uri": "https://localhost:8080/",
          "height": 187
        },
        "outputId": "89b588a3-dd56-4566-db6a-cd645b8fe12c"
      },
      "source": [
        "print(d['a'])\n",
        "print('---')\n",
        "d['e'] = 12\n",
        "print(d['e'])\n",
        "print('---')\n",
        "print('e' in d)\n",
        "print('---')\n",
        "print(d.get('f'))\n",
        "print(d.get('c'))\n",
        "print(d.get('f', np.nan))\n",
        "print('---')\n"
      ],
      "execution_count": 7,
      "outputs": [
        {
          "output_type": "stream",
          "text": [
            "5.0\n",
            "---\n",
            "12.0\n",
            "---\n",
            "True\n",
            "---\n",
            "None\n",
            "5.0\n",
            "nan\n",
            "---\n"
          ],
          "name": "stdout"
        }
      ]
    }
  ]
}