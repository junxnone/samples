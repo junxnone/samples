{
  "cells": [
    {
      "cell_type": "markdown",
      "metadata": {
        "id": "view-in-github",
        "colab_type": "text"
      },
      "source": [
        "<a href=\"https://colab.research.google.com/github/junxnone/samples/blob/main/python/01_python_numbers.ipynb\" target=\"_parent\"><img src=\"https://colab.research.google.com/assets/colab-badge.svg\" alt=\"Open In Colab\"/></a>"
      ]
    },
    {
      "cell_type": "markdown",
      "metadata": {
        "id": "yneYi4tRiM5M"
      },
      "source": [
        "# [Numbers](https://docs.python.org/3/library/stdtypes.html#numeric-types-int-float-complex)"
      ]
    },
    {
      "cell_type": "markdown",
      "metadata": {
        "id": "UeYWz2HHiM5N"
      },
      "source": [
        "## `int`"
      ]
    },
    {
      "cell_type": "code",
      "execution_count": 1,
      "metadata": {
        "colab": {
          "base_uri": "https://localhost:8080/"
        },
        "id": "P_NUWW9ciM5N",
        "outputId": "cfd0cb78-fa9d-40f4-fc8f-94b9dc6d1588"
      },
      "outputs": [
        {
          "output_type": "stream",
          "name": "stdout",
          "text": [
            "value: 6, type: <class 'int'>\n"
          ]
        }
      ],
      "source": [
        "my_int = 6\n",
        "print(f\"value: {my_int}, type: {type(my_int)}\")"
      ]
    },
    {
      "cell_type": "markdown",
      "metadata": {
        "id": "r1QFtCi0iM5O"
      },
      "source": [
        "## `float`"
      ]
    },
    {
      "cell_type": "code",
      "execution_count": 2,
      "metadata": {
        "colab": {
          "base_uri": "https://localhost:8080/"
        },
        "id": "R0YiqBzviM5O",
        "outputId": "0ffa9391-e39a-4215-9727-53724290ce1b"
      },
      "outputs": [
        {
          "output_type": "stream",
          "name": "stdout",
          "text": [
            "value: 6.0, type: <class 'float'>\n"
          ]
        }
      ],
      "source": [
        "my_float = float(my_int)\n",
        "print(f\"value: {my_float}, type: {type(my_float)}\")"
      ]
    },
    {
      "cell_type": "markdown",
      "metadata": {
        "id": "OmOr_P2BiM5O"
      },
      "source": [
        "Note that division of `int`s produces `float`:"
      ]
    },
    {
      "cell_type": "code",
      "execution_count": 3,
      "metadata": {
        "colab": {
          "base_uri": "https://localhost:8080/"
        },
        "id": "Vwdr62M2iM5P",
        "outputId": "29ea839c-1346-4a85-af1e-ae578302086d"
      },
      "outputs": [
        {
          "output_type": "stream",
          "name": "stdout",
          "text": [
            "1.0\n",
            "1.2\n"
          ]
        }
      ],
      "source": [
        "print(1 / 1)\n",
        "print(6 / 5)"
      ]
    },
    {
      "cell_type": "markdown",
      "metadata": {
        "id": "FvQp_7aTiM5P"
      },
      "source": [
        "Be aware of the binary floating-point pitfalls (see [Decimal](#decimal) for workaround):"
      ]
    },
    {
      "cell_type": "code",
      "execution_count": 4,
      "metadata": {
        "colab": {
          "base_uri": "https://localhost:8080/"
        },
        "id": "czQ7IW2siM5P",
        "outputId": "60c5d08c-9e97-4e8d-b3e3-49788621ca16"
      },
      "outputs": [
        {
          "output_type": "stream",
          "name": "stdout",
          "text": [
            "False\n",
            "0.30000000000000004\n"
          ]
        }
      ],
      "source": [
        "val = 0.1 + 0.1 + 0.1\n",
        "print(val == 0.3)\n",
        "print(val)"
      ]
    },
    {
      "cell_type": "markdown",
      "metadata": {
        "id": "s_GZof62iM5P"
      },
      "source": [
        "## Floor division `//`, modulus `%`, power `**`"
      ]
    },
    {
      "cell_type": "code",
      "execution_count": 5,
      "metadata": {
        "colab": {
          "base_uri": "https://localhost:8080/"
        },
        "id": "6kyU7GUDiM5Q",
        "outputId": "dc6e6e9f-ba11-498c-c278-4d9d532c7d3d"
      },
      "outputs": [
        {
          "output_type": "execute_result",
          "data": {
            "text/plain": [
              "1"
            ]
          },
          "metadata": {},
          "execution_count": 5
        }
      ],
      "source": [
        "7 // 5"
      ]
    },
    {
      "cell_type": "code",
      "execution_count": 6,
      "metadata": {
        "colab": {
          "base_uri": "https://localhost:8080/"
        },
        "id": "Mo3iZ1i5iM5Q",
        "outputId": "57cf1062-9ecf-489b-b1ef-9bd0542c11be"
      },
      "outputs": [
        {
          "output_type": "execute_result",
          "data": {
            "text/plain": [
              "2"
            ]
          },
          "metadata": {},
          "execution_count": 6
        }
      ],
      "source": [
        "7 % 5"
      ]
    },
    {
      "cell_type": "code",
      "execution_count": 7,
      "metadata": {
        "colab": {
          "base_uri": "https://localhost:8080/"
        },
        "id": "Y37ZIh3DiM5Q",
        "outputId": "ba9b7796-db4f-407a-93d1-f5201ab1c9f6"
      },
      "outputs": [
        {
          "output_type": "execute_result",
          "data": {
            "text/plain": [
              "8"
            ]
          },
          "metadata": {},
          "execution_count": 7
        }
      ],
      "source": [
        "2**3"
      ]
    },
    {
      "cell_type": "markdown",
      "metadata": {
        "id": "ulTzKJ_fiM5Q"
      },
      "source": [
        "<a id='decimal'></a>\n",
        "## [`decimal.Decimal`](https://docs.python.org/3/library/decimal.html)\n",
        "- 用于高精度十进制数运算\n",
        "- 普通的浮点数运算会存在精度误差，涉及资金金额等对精度要求较高的计算时，Decimal 模块非常有用"
      ]
    },
    {
      "cell_type": "code",
      "execution_count": 8,
      "metadata": {
        "id": "LdoAC4d0iM5Q"
      },
      "outputs": [],
      "source": [
        "from decimal import Decimal"
      ]
    },
    {
      "cell_type": "code",
      "execution_count": 9,
      "metadata": {
        "colab": {
          "base_uri": "https://localhost:8080/"
        },
        "id": "-qpPgKZpiM5Q",
        "outputId": "c5d81b9a-d0b9-4b20-b281-fb44a86138ba"
      },
      "outputs": [
        {
          "output_type": "stream",
          "name": "stdout",
          "text": [
            "from float: 0.1000000000000000055511151231257827021181583404541015625\n",
            "from string: 0.1\n"
          ]
        }
      ],
      "source": [
        "from_float = Decimal(0.1)\n",
        "from_str = Decimal(\"0.1\")\n",
        "print(f\"from float: {from_float}\\nfrom string: {from_str}\")"
      ]
    },
    {
      "cell_type": "code",
      "execution_count": 10,
      "metadata": {
        "colab": {
          "base_uri": "https://localhost:8080/"
        },
        "id": "LCAxpYuDiM5Q",
        "outputId": "c11a6cb5-9801-4c98-a559-7fbeff6bab7c"
      },
      "outputs": [
        {
          "output_type": "stream",
          "name": "stdout",
          "text": [
            "True\n"
          ]
        }
      ],
      "source": [
        "my_decimal = Decimal(\"0.1\")\n",
        "sum_of_decimals = my_decimal + my_decimal + my_decimal\n",
        "print(sum_of_decimals == Decimal(\"0.3\"))"
      ]
    },
    {
      "cell_type": "markdown",
      "metadata": {
        "id": "f0adDx2SiM5R"
      },
      "source": [
        "## Operator precedence in calculations\n",
        "Mathematical operator precedence applies. Use brackets if you want to change the execution order:"
      ]
    },
    {
      "cell_type": "code",
      "execution_count": 11,
      "metadata": {
        "colab": {
          "base_uri": "https://localhost:8080/"
        },
        "id": "5IEHeMN8iM5R",
        "outputId": "53b6bea9-3527-4c84-b493-5f80c39a766a"
      },
      "outputs": [
        {
          "output_type": "stream",
          "name": "stdout",
          "text": [
            "3.0\n",
            "2.5\n"
          ]
        }
      ],
      "source": [
        "print(1 + 2**2 * 3 / 6)  # 1 + 4 * 3 / 6 == 1 + 12 / 6 == 1 + 2\n",
        "print((1 + 2**2) * 3 / 6)"
      ]
    }
  ],
  "metadata": {
    "kernelspec": {
      "display_name": "Python 3 (ipykernel)",
      "language": "python",
      "name": "python3"
    },
    "language_info": {
      "codemirror_mode": {
        "name": "ipython",
        "version": 3
      },
      "file_extension": ".py",
      "mimetype": "text/x-python",
      "name": "python",
      "nbconvert_exporter": "python",
      "pygments_lexer": "ipython3",
      "version": "3.11.0"
    },
    "colab": {
      "provenance": [],
      "toc_visible": true,
      "include_colab_link": true
    }
  },
  "nbformat": 4,
  "nbformat_minor": 0
}