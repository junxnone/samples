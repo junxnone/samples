{
  "cells": [
    {
      "cell_type": "markdown",
      "metadata": {
        "id": "view-in-github",
        "colab_type": "text"
      },
      "source": [
        "<a href=\"https://colab.research.google.com/github/junxnone/samples/blob/main/python/02_python_conditionals.ipynb\" target=\"_parent\"><img src=\"https://colab.research.google.com/assets/colab-badge.svg\" alt=\"Open In Colab\"/></a>"
      ]
    },
    {
      "cell_type": "markdown",
      "metadata": {
        "id": "2dx8CS3nmHfS"
      },
      "source": [
        "# Conditionals"
      ]
    },
    {
      "cell_type": "markdown",
      "metadata": {
        "id": "EcOMfdQOmHfU"
      },
      "source": [
        "## Testing truth value"
      ]
    },
    {
      "cell_type": "markdown",
      "metadata": {
        "id": "O64p2OIimHfU"
      },
      "source": [
        "### `bool`"
      ]
    },
    {
      "cell_type": "code",
      "execution_count": 1,
      "metadata": {
        "id": "YBFEFQBImHfU",
        "outputId": "c265e0fb-f677-46fd-9a73-1034c0531ba2",
        "colab": {
          "base_uri": "https://localhost:8080/"
        }
      },
      "outputs": [
        {
          "output_type": "stream",
          "name": "stdout",
          "text": [
            "type of True and False: <class 'bool'>\n"
          ]
        }
      ],
      "source": [
        "print(f\"type of True and False: {type(True)}\")"
      ]
    },
    {
      "cell_type": "code",
      "execution_count": 2,
      "metadata": {
        "id": "BqIsfhJ8mHfV",
        "outputId": "1f2022d7-94e5-4df7-ede4-9ff9bffcc924",
        "colab": {
          "base_uri": "https://localhost:8080/"
        }
      },
      "outputs": [
        {
          "output_type": "stream",
          "name": "stdout",
          "text": [
            "0: False, 1: True\n",
            "empty list: False, list with values: True\n",
            "empty dict: False, dict with values: True\n"
          ]
        }
      ],
      "source": [
        "print(f\"0: {bool(0)}, 1: {bool(1)}\")\n",
        "print(f\"empty list: {bool([])}, list with values: {bool(['woop'])}\")\n",
        "print(f\"empty dict: {bool({})}, dict with values: {bool({'Python': 'cool'})}\")"
      ]
    },
    {
      "cell_type": "markdown",
      "metadata": {
        "id": "3Kh_nXKrmHfV"
      },
      "source": [
        "### `==, !=, >, <, >=, <=`"
      ]
    },
    {
      "cell_type": "code",
      "execution_count": 3,
      "metadata": {
        "id": "VZYd6XSZmHfV",
        "outputId": "8f00ed28-d18d-41c1-da5d-4b535bca3d48",
        "colab": {
          "base_uri": "https://localhost:8080/"
        }
      },
      "outputs": [
        {
          "output_type": "stream",
          "name": "stdout",
          "text": [
            "False\n",
            "True\n",
            "True\n",
            "False\n",
            "False\n",
            "False\n",
            "True\n",
            "True\n",
            "False\n",
            "True\n"
          ]
        }
      ],
      "source": [
        "print(f\"{1 == 0}\")\n",
        "print(f\"{1 != 0}\")\n",
        "print(f\"{1 > 0}\")\n",
        "print(f\"{1 > 1}\")\n",
        "print(f\"{1 < 0}\")\n",
        "print(f\"{1 < 1}\")\n",
        "print(f\"{1 >= 0}\")\n",
        "print(f\"{1 >= 1}\")\n",
        "print(f\"{1 <= 0}\")\n",
        "print(f\"{1 <= 1}\")"
      ]
    },
    {
      "cell_type": "markdown",
      "metadata": {
        "id": "EvG0uB5bmHfV"
      },
      "source": [
        "You can combine these:"
      ]
    },
    {
      "cell_type": "code",
      "execution_count": 4,
      "metadata": {
        "id": "vg9QxU-mmHfV",
        "outputId": "0048504a-4e00-412e-b785-5488af9639b4",
        "colab": {
          "base_uri": "https://localhost:8080/"
        }
      },
      "outputs": [
        {
          "output_type": "stream",
          "name": "stdout",
          "text": [
            "True\n"
          ]
        }
      ],
      "source": [
        "print(f\"{1 <= 2 <= 3}\")"
      ]
    },
    {
      "cell_type": "markdown",
      "metadata": {
        "id": "mUN8vWLGmHfW"
      },
      "source": [
        "### `and, or, not`"
      ]
    },
    {
      "cell_type": "code",
      "execution_count": 5,
      "metadata": {
        "id": "WXXqP4WymHfW"
      },
      "outputs": [],
      "source": [
        "python_is_cool = True\n",
        "java_is_cool = False\n",
        "empty_list = []\n",
        "secret_value = 3.14"
      ]
    },
    {
      "cell_type": "code",
      "execution_count": 6,
      "metadata": {
        "id": "TmSCtd00mHfW",
        "outputId": "a6335d32-32af-447c-8dcd-88c859c994d1",
        "colab": {
          "base_uri": "https://localhost:8080/"
        }
      },
      "outputs": [
        {
          "output_type": "stream",
          "name": "stdout",
          "text": [
            "Python and java are both cool: False\n",
            "secret_value and python_is_cool: True\n"
          ]
        }
      ],
      "source": [
        "print(f\"Python and java are both cool: {python_is_cool and java_is_cool}\")\n",
        "print(f\"secret_value and python_is_cool: {secret_value and python_is_cool}\")"
      ]
    },
    {
      "cell_type": "code",
      "execution_count": 7,
      "metadata": {
        "id": "DreXJ14cmHfW",
        "outputId": "dee66797-5116-4f77-fffb-8643feb53111",
        "colab": {
          "base_uri": "https://localhost:8080/"
        }
      },
      "outputs": [
        {
          "output_type": "stream",
          "name": "stdout",
          "text": [
            "Python or java is cool: True\n",
            "False\n"
          ]
        }
      ],
      "source": [
        "print(f\"Python or java is cool: {python_is_cool or java_is_cool}\")\n",
        "print(f\"{1 >= 1.1 or 2 < 1.4}\")"
      ]
    },
    {
      "cell_type": "code",
      "execution_count": 8,
      "metadata": {
        "id": "gbsypIcfmHfW",
        "outputId": "e6a5196e-ee03-406b-f4b3-01b3542d619b",
        "colab": {
          "base_uri": "https://localhost:8080/"
        }
      },
      "outputs": [
        {
          "output_type": "stream",
          "name": "stdout",
          "text": [
            "Java is not cool: True\n"
          ]
        }
      ],
      "source": [
        "print(f\"Java is not cool: {not java_is_cool}\")"
      ]
    },
    {
      "cell_type": "markdown",
      "metadata": {
        "id": "MeTsE-OtmHfW"
      },
      "source": [
        "You can combine multiple statements, execution order is from left to right. You can control the execution order by using brackets."
      ]
    },
    {
      "cell_type": "code",
      "execution_count": 9,
      "metadata": {
        "id": "5bKrMOS2mHfW",
        "outputId": "75ee6e1c-222d-4ae6-f87c-f86b606619f5",
        "colab": {
          "base_uri": "https://localhost:8080/"
        }
      },
      "outputs": [
        {
          "output_type": "stream",
          "name": "stdout",
          "text": [
            "True\n",
            "False\n"
          ]
        }
      ],
      "source": [
        "print(bool(not java_is_cool or secret_value and python_is_cool or empty_list))\n",
        "print(bool(not (java_is_cool or secret_value and python_is_cool or empty_list)))"
      ]
    },
    {
      "cell_type": "markdown",
      "metadata": {
        "id": "UwN5wS0xmHfW"
      },
      "source": [
        "## `if`"
      ]
    },
    {
      "cell_type": "code",
      "execution_count": 10,
      "metadata": {
        "id": "MQ7-jSromHfX",
        "outputId": "198e5a93-e450-4acc-e895-3cfb7abc7e30",
        "colab": {
          "base_uri": "https://localhost:8080/"
        }
      },
      "outputs": [
        {
          "output_type": "stream",
          "name": "stdout",
          "text": [
            "statement is True\n"
          ]
        }
      ],
      "source": [
        "statement = True\n",
        "if statement:\n",
        "    print(\"statement is True\")\n",
        "\n",
        "if not statement:\n",
        "    print(\"statement is not True\")"
      ]
    },
    {
      "cell_type": "code",
      "execution_count": 11,
      "metadata": {
        "id": "sNVUrXYkmHfX"
      },
      "outputs": [],
      "source": [
        "empty_list = []\n",
        "# With if and elif, conversion to `bool` is implicit\n",
        "if empty_list:\n",
        "    print(\"empty list will not evaluate to True\")  # this won't be executed"
      ]
    },
    {
      "cell_type": "code",
      "execution_count": 12,
      "metadata": {
        "id": "7M5n5vxHmHfX",
        "outputId": "8ca7f50e-3694-4741-8a76-ff107ce41efc",
        "colab": {
          "base_uri": "https://localhost:8080/"
        }
      },
      "outputs": [
        {
          "output_type": "stream",
          "name": "stdout",
          "text": [
            "Value is positive and less than one or value is three\n"
          ]
        }
      ],
      "source": [
        "val = 3\n",
        "if 0 <= val < 1 or val == 3:\n",
        "    print(\"Value is positive and less than one or value is three\")"
      ]
    },
    {
      "cell_type": "markdown",
      "metadata": {
        "id": "weKqbWP8mHfX"
      },
      "source": [
        "## `if-else`"
      ]
    },
    {
      "cell_type": "code",
      "execution_count": 13,
      "metadata": {
        "id": "M3FA51lxmHfX",
        "outputId": "3343821c-4834-4f42-fefb-e415f3ed7bb8",
        "colab": {
          "base_uri": "https://localhost:8080/"
        }
      },
      "outputs": [
        {
          "output_type": "stream",
          "name": "stdout",
          "text": [
            "my dict is empty :(\n"
          ]
        }
      ],
      "source": [
        "my_dict = {}\n",
        "if my_dict:\n",
        "    print(\"there is something in my dict\")\n",
        "else:\n",
        "    print(\"my dict is empty :(\")"
      ]
    },
    {
      "cell_type": "markdown",
      "metadata": {
        "id": "A-FhiIwsmHfX"
      },
      "source": [
        "## `if-elif-else`"
      ]
    },
    {
      "cell_type": "code",
      "execution_count": 14,
      "metadata": {
        "id": "HJv2oFsgmHfX",
        "outputId": "44b73a2d-5e07-44ab-e045-de8f5fce42af",
        "colab": {
          "base_uri": "https://localhost:8080/"
        }
      },
      "outputs": [
        {
          "output_type": "stream",
          "name": "stdout",
          "text": [
            "value is greater than 10 but less than 100\n"
          ]
        }
      ],
      "source": [
        "val = 88\n",
        "if val >= 100:\n",
        "    print(\"value is equal or greater than 100\")\n",
        "elif val > 10:\n",
        "    print(\"value is greater than 10 but less than 100\")\n",
        "else:\n",
        "    print(\"value is equal or less than 10\")"
      ]
    },
    {
      "cell_type": "markdown",
      "metadata": {
        "id": "SHTj-o66mHfX"
      },
      "source": [
        "You can have as many `elif` statements as you need. In addition, `else` at the end is not mandatory."
      ]
    },
    {
      "cell_type": "code",
      "execution_count": 15,
      "metadata": {
        "id": "LWZgUjoamHfX",
        "outputId": "3677fe18-9bfe-4b6c-8910-591e0734f8ce",
        "colab": {
          "base_uri": "https://localhost:8080/"
        }
      },
      "outputs": [
        {
          "output_type": "stream",
          "name": "stdout",
          "text": [
            "Hello fellow Pythonista!\n"
          ]
        }
      ],
      "source": [
        "greeting = \"Hello fellow Pythonista!\"\n",
        "language = \"Italian\"\n",
        "\n",
        "if language == \"Swedish\":\n",
        "    greeting = \"Hejsan!\"\n",
        "elif language == \"Finnish\":\n",
        "    greeting = \"Latua perkele!\"\n",
        "elif language == \"Spanish\":\n",
        "    greeting = \"Hola!\"\n",
        "elif language == \"German\":\n",
        "    greeting = \"Guten Tag!\"\n",
        "\n",
        "print(greeting)"
      ]
    },
    {
      "cell_type": "markdown",
      "metadata": {
        "id": "g50mB2stmHfX"
      },
      "source": [
        "For more detailed overview about conditionals, check this [tutorial from Real Python](https://realpython.com/python-conditional-statements/)."
      ]
    }
  ],
  "metadata": {
    "kernelspec": {
      "display_name": "Python 3 (ipykernel)",
      "language": "python",
      "name": "python3"
    },
    "language_info": {
      "codemirror_mode": {
        "name": "ipython",
        "version": 3
      },
      "file_extension": ".py",
      "mimetype": "text/x-python",
      "name": "python",
      "nbconvert_exporter": "python",
      "pygments_lexer": "ipython3",
      "version": "3.11.0"
    },
    "colab": {
      "provenance": [],
      "include_colab_link": true
    }
  },
  "nbformat": 4,
  "nbformat_minor": 0
}