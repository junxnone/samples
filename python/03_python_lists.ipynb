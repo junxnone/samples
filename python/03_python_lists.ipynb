{
  "cells": [
    {
      "cell_type": "markdown",
      "metadata": {
        "id": "view-in-github",
        "colab_type": "text"
      },
      "source": [
        "<a href=\"https://colab.research.google.com/github/junxnone/samples/blob/main/python/03_python_lists.ipynb\" target=\"_parent\"><img src=\"https://colab.research.google.com/assets/colab-badge.svg\" alt=\"Open In Colab\"/></a>"
      ]
    },
    {
      "cell_type": "markdown",
      "metadata": {
        "id": "AGv2ziIllyo7"
      },
      "source": [
        "# [Lists](https://docs.python.org/3/library/stdtypes.html#lists)"
      ]
    },
    {
      "cell_type": "code",
      "execution_count": 1,
      "metadata": {
        "id": "ZFNAV9cClyo_",
        "outputId": "f8d1ccad-b282-4fac-bcd8-35564d7668b1",
        "colab": {
          "base_uri": "https://localhost:8080/"
        }
      },
      "outputs": [
        {
          "output_type": "stream",
          "name": "stdout",
          "text": [
            "empty list: [], type: <class 'list'>\n"
          ]
        }
      ],
      "source": [
        "my_empty_list = []\n",
        "print(f\"empty list: {my_empty_list}, type: {type(my_empty_list)}\")"
      ]
    },
    {
      "cell_type": "code",
      "execution_count": 2,
      "metadata": {
        "id": "bDY-z_32lypB",
        "outputId": "0d7409eb-1ac4-455b-d044-6ff51f5538c1",
        "colab": {
          "base_uri": "https://localhost:8080/"
        }
      },
      "outputs": [
        {
          "output_type": "stream",
          "name": "stdout",
          "text": [
            "lengths: 4 and 6\n"
          ]
        }
      ],
      "source": [
        "list_of_ints = [1, 2, 6, 7]\n",
        "list_of_misc = [0.2, 5, \"Python\", \"is\", \"still fun\", \"!\"]\n",
        "print(f\"lengths: {len(list_of_ints)} and {len(list_of_misc)}\")"
      ]
    },
    {
      "cell_type": "markdown",
      "metadata": {
        "id": "0ok3mkRVlypC"
      },
      "source": [
        "## 访问值"
      ]
    },
    {
      "cell_type": "code",
      "execution_count": 3,
      "metadata": {
        "id": "_2cySRj3lypD",
        "outputId": "b68a197c-d275-4a8b-cf49-ea676caebc47",
        "colab": {
          "base_uri": "https://localhost:8080/"
        }
      },
      "outputs": [
        {
          "output_type": "stream",
          "name": "stdout",
          "text": [
            "Python\n",
            "cool\n"
          ]
        }
      ],
      "source": [
        "my_list = [\"Python\", \"is\", \"still\", \"cool\"]\n",
        "print(my_list[0])\n",
        "print(my_list[3])"
      ]
    },
    {
      "cell_type": "code",
      "execution_count": 4,
      "metadata": {
        "id": "INUzcEFBlypD",
        "outputId": "afd5ec42-02a2-4607-d41b-a189a1eeff80",
        "colab": {
          "base_uri": "https://localhost:8080/"
        }
      },
      "outputs": [
        {
          "output_type": "stream",
          "name": "stdout",
          "text": [
            "first coordinate: [12.0, 13.3]\n",
            "second element of first coordinate: 13.3\n"
          ]
        }
      ],
      "source": [
        "coordinates = [[12.0, 13.3], [0.6, 18.0], [88.0, 1.1]]  # two dimensional\n",
        "print(f\"first coordinate: {coordinates[0]}\")\n",
        "print(f\"second element of first coordinate: {coordinates[0][1]}\")"
      ]
    },
    {
      "cell_type": "markdown",
      "metadata": {
        "id": "-cEfFpOslypD"
      },
      "source": [
        "## 更新值"
      ]
    },
    {
      "cell_type": "code",
      "execution_count": 5,
      "metadata": {
        "id": "4YLXP8uRlypE",
        "outputId": "e3c8c46c-f891-41ae-d5d7-fb5b8dcc9752",
        "colab": {
          "base_uri": "https://localhost:8080/"
        }
      },
      "outputs": [
        {
          "output_type": "stream",
          "name": "stdout",
          "text": [
            "[99, 1, 2, 3, 4, 5]\n",
            "[1, 2, 3, 4, 5]\n"
          ]
        }
      ],
      "source": [
        "my_list = [0, 1, 2, 3, 4, 5]\n",
        "my_list[0] = 99\n",
        "print(my_list)\n",
        "\n",
        "# remove first value\n",
        "del my_list[0]\n",
        "print(my_list)"
      ]
    },
    {
      "cell_type": "markdown",
      "metadata": {
        "id": "crgm83JIlypE"
      },
      "source": [
        "## 检查值是否存在 list 中"
      ]
    },
    {
      "cell_type": "code",
      "execution_count": 6,
      "metadata": {
        "id": "PN7Kl5lmlypF",
        "outputId": "0bb24aee-9299-4cb0-beee-e24e8bd0c6be",
        "colab": {
          "base_uri": "https://localhost:8080/"
        }
      },
      "outputs": [
        {
          "output_type": "stream",
          "name": "stdout",
          "text": [
            "Python is there!\n"
          ]
        }
      ],
      "source": [
        "languages = [\"Java\", \"C++\", \"Go\", \"Python\", \"JavaScript\"]\n",
        "if \"Python\" in languages:\n",
        "    print(\"Python is there!\")"
      ]
    },
    {
      "cell_type": "code",
      "execution_count": 7,
      "metadata": {
        "id": "TRVL_fp8lypF",
        "outputId": "8a2deb97-2df2-4e42-9d9c-30fe47bc45e4",
        "colab": {
          "base_uri": "https://localhost:8080/"
        }
      },
      "outputs": [
        {
          "output_type": "stream",
          "name": "stdout",
          "text": [
            "number 6 is not present\n"
          ]
        }
      ],
      "source": [
        "if 6 not in [1, 2, 3, 7]:\n",
        "    print(\"number 6 is not present\")"
      ]
    },
    {
      "cell_type": "markdown",
      "metadata": {
        "id": "vjjALnWKlypG"
      },
      "source": [
        "## `=` 直接引用与复制创建新 object"
      ]
    },
    {
      "cell_type": "code",
      "execution_count": 8,
      "metadata": {
        "id": "7CcGOt1HlypG",
        "outputId": "7e2c4ed6-51d5-42e2-dfdc-f9fcde501922",
        "colab": {
          "base_uri": "https://localhost:8080/"
        }
      },
      "outputs": [
        {
          "output_type": "stream",
          "name": "stdout",
          "text": [
            "original: [99, 2, 3], modified: [99, 2, 3]\n"
          ]
        }
      ],
      "source": [
        "original = [1, 2, 3]\n",
        "modified = original\n",
        "modified[0] = 99\n",
        "print(f\"original: {original}, modified: {modified}\")"
      ]
    },
    {
      "cell_type": "markdown",
      "metadata": {
        "id": "GXEPY5pDlypG"
      },
      "source": [
        "You can get around this by creating new `list`:"
      ]
    },
    {
      "cell_type": "code",
      "execution_count": 9,
      "metadata": {
        "id": "Tj5HQ9wwlypH",
        "outputId": "0b13a37d-3035-4f02-99e9-37965d9f0a83",
        "colab": {
          "base_uri": "https://localhost:8080/"
        }
      },
      "outputs": [
        {
          "output_type": "stream",
          "name": "stdout",
          "text": [
            "original: [1, 2, 3], modified: [99, 2, 3]\n"
          ]
        }
      ],
      "source": [
        "original = [1, 2, 3]\n",
        "modified = list(original)  # Note list()\n",
        "# Alternatively, you can use copy method\n",
        "# modified = original.copy()\n",
        "modified[0] = 99\n",
        "print(f\"original: {original}, modified: {modified}\")"
      ]
    },
    {
      "cell_type": "markdown",
      "metadata": {
        "id": "apO02bUnlypH"
      },
      "source": [
        "## `list.append()`"
      ]
    },
    {
      "cell_type": "code",
      "execution_count": 10,
      "metadata": {
        "id": "BIqqSzU9lypH",
        "outputId": "93178742-e68d-41b4-dd27-318fad79ad28",
        "colab": {
          "base_uri": "https://localhost:8080/"
        }
      },
      "outputs": [
        {
          "output_type": "stream",
          "name": "stdout",
          "text": [
            "[1, 'ham']\n"
          ]
        }
      ],
      "source": [
        "my_list = [1]\n",
        "my_list.append(\"ham\")\n",
        "print(my_list)"
      ]
    },
    {
      "cell_type": "markdown",
      "metadata": {
        "id": "N2KbQfDvlypH"
      },
      "source": [
        "## `list.remove()`"
      ]
    },
    {
      "cell_type": "code",
      "execution_count": 11,
      "metadata": {
        "id": "VELpQqlalypH",
        "outputId": "c554c0a7-1854-4701-a793-44255c387e3d",
        "colab": {
          "base_uri": "https://localhost:8080/"
        }
      },
      "outputs": [
        {
          "output_type": "stream",
          "name": "stdout",
          "text": [
            "['Python', 'is', 'fun']\n",
            "Java is not part of this story.\n"
          ]
        }
      ],
      "source": [
        "my_list = [\"Python\", \"is\", \"sometimes\", \"fun\"]\n",
        "my_list.remove(\"sometimes\")\n",
        "print(my_list)\n",
        "\n",
        "# If you are not sure that the value is in list, better to check first:\n",
        "if \"Java\" in my_list:\n",
        "    my_list.remove(\"Java\")\n",
        "else:\n",
        "    print(\"Java is not part of this story.\")"
      ]
    },
    {
      "cell_type": "markdown",
      "source": [
        "only remove the first item"
      ],
      "metadata": {
        "id": "aBcGikVfnoVO"
      }
    },
    {
      "cell_type": "code",
      "source": [
        "my_list = [\"Python\", \"is\", \"sometimes\", \"fun\", \"is\", \"easy\", \"is\", \"usefull\"]\n",
        "my_list.remove(\"is\")\n",
        "print(my_list)\n"
      ],
      "metadata": {
        "id": "wfM6gpFQnV3L",
        "outputId": "460d9cd5-345c-482d-800b-78afc8481d93",
        "colab": {
          "base_uri": "https://localhost:8080/"
        }
      },
      "execution_count": 17,
      "outputs": [
        {
          "output_type": "stream",
          "name": "stdout",
          "text": [
            "['Python', 'sometimes', 'fun', 'is', 'easy', 'is', 'usefull']\n"
          ]
        }
      ]
    },
    {
      "cell_type": "code",
      "source": [
        "help(list.remove)"
      ],
      "metadata": {
        "id": "z_flRKHynskl",
        "outputId": "4d46706c-725b-4e57-85fb-119e29e81274",
        "colab": {
          "base_uri": "https://localhost:8080/"
        }
      },
      "execution_count": 20,
      "outputs": [
        {
          "output_type": "stream",
          "name": "stdout",
          "text": [
            "Help on method_descriptor:\n",
            "\n",
            "remove(self, value, /)\n",
            "    Remove first occurrence of value.\n",
            "    \n",
            "    Raises ValueError if the value is not present.\n",
            "\n"
          ]
        }
      ]
    },
    {
      "cell_type": "markdown",
      "metadata": {
        "id": "X7hRNEyVlypI"
      },
      "source": [
        "## `list.sort()`"
      ]
    },
    {
      "cell_type": "code",
      "execution_count": 12,
      "metadata": {
        "id": "VlROPLO4lypI",
        "outputId": "c2b5adb6-66f8-4c80-867f-dbd939aac6ba",
        "colab": {
          "base_uri": "https://localhost:8080/"
        }
      },
      "outputs": [
        {
          "output_type": "stream",
          "name": "stdout",
          "text": [
            "numbers: [1, 5, 6, 8, 10]\n",
            "numbers reversed: [10, 8, 6, 5, 1]\n",
            "words: ['a', 'is', 'list', 'of', 'this', 'words']\n"
          ]
        }
      ],
      "source": [
        "numbers = [8, 1, 6, 5, 10]\n",
        "numbers.sort()\n",
        "print(f\"numbers: {numbers}\")\n",
        "\n",
        "numbers.sort(reverse=True)\n",
        "print(f\"numbers reversed: {numbers}\")\n",
        "\n",
        "words = [\"this\", \"is\", \"a\", \"list\", \"of\", \"words\"]\n",
        "words.sort()\n",
        "print(f\"words: {words}\")"
      ]
    },
    {
      "cell_type": "markdown",
      "metadata": {
        "id": "AUSgHUUKlypI"
      },
      "source": [
        "## `sorted(list)`\n",
        "While `list.sort()` sorts the list in-place, `sorted(list)` returns a new list and leaves the original untouched:"
      ]
    },
    {
      "cell_type": "code",
      "execution_count": 13,
      "metadata": {
        "id": "1kC7QVJHlypI",
        "outputId": "8fc54c39-990d-44fd-b3eb-3891500bf3a2",
        "colab": {
          "base_uri": "https://localhost:8080/"
        }
      },
      "outputs": [
        {
          "output_type": "stream",
          "name": "stdout",
          "text": [
            "numbers=[8, 1, 6, 5, 10], sorted_numbers=[1, 5, 6, 8, 10]\n"
          ]
        }
      ],
      "source": [
        "numbers = [8, 1, 6, 5, 10]\n",
        "sorted_numbers = sorted(numbers)\n",
        "print(f\"{numbers=}, {sorted_numbers=}\")"
      ]
    },
    {
      "cell_type": "markdown",
      "metadata": {
        "id": "W16-5z-VlypI"
      },
      "source": [
        "## `list.extend()`"
      ]
    },
    {
      "cell_type": "code",
      "execution_count": 14,
      "metadata": {
        "id": "33UJdfe5lypJ",
        "outputId": "4c54cffa-d9ac-44f0-d392-14cbc7759feb",
        "colab": {
          "base_uri": "https://localhost:8080/"
        }
      },
      "outputs": [
        {
          "output_type": "stream",
          "name": "stdout",
          "text": [
            "first_list=['beef', 'ham', 'potatoes', 1, 3], second_list=['potatoes', 1, 3]\n"
          ]
        }
      ],
      "source": [
        "first_list = [\"beef\", \"ham\"]\n",
        "second_list = [\"potatoes\", 1, 3]\n",
        "first_list.extend(second_list)\n",
        "print(f\"{first_list=}, {second_list=}\")"
      ]
    },
    {
      "cell_type": "markdown",
      "metadata": {
        "id": "O8ocRlJ2lypJ"
      },
      "source": [
        "Alternatively you can also extend lists by summing them:"
      ]
    },
    {
      "cell_type": "code",
      "execution_count": 15,
      "metadata": {
        "id": "Y4ZUPzgXlypJ",
        "outputId": "669035bb-ef45-495e-ed58-ef88491815ec",
        "colab": {
          "base_uri": "https://localhost:8080/"
        }
      },
      "outputs": [
        {
          "output_type": "stream",
          "name": "stdout",
          "text": [
            "first=[1, 2, 3, 4, 5]\n"
          ]
        }
      ],
      "source": [
        "first = [1, 2, 3]\n",
        "second = [4, 5]\n",
        "first += second  # same as: first = first + second\n",
        "print(f\"{first=}\")"
      ]
    },
    {
      "cell_type": "markdown",
      "metadata": {
        "id": "qtCf_F8XlypJ"
      },
      "source": [
        "## `list.reverse()`"
      ]
    },
    {
      "cell_type": "code",
      "execution_count": 16,
      "metadata": {
        "id": "6Xce_lPUlypJ",
        "outputId": "9d8021d9-d1eb-4f64-ed8b-966b85354cf5",
        "colab": {
          "base_uri": "https://localhost:8080/"
        }
      },
      "outputs": [
        {
          "output_type": "stream",
          "name": "stdout",
          "text": [
            "['ham', 'b', 'a']\n"
          ]
        }
      ],
      "source": [
        "my_list = [\"a\", \"b\", \"ham\"]\n",
        "my_list.reverse()\n",
        "print(my_list)"
      ]
    }
  ],
  "metadata": {
    "kernelspec": {
      "display_name": "Python 3 (ipykernel)",
      "language": "python",
      "name": "python3"
    },
    "language_info": {
      "codemirror_mode": {
        "name": "ipython",
        "version": 3
      },
      "file_extension": ".py",
      "mimetype": "text/x-python",
      "name": "python",
      "nbconvert_exporter": "python",
      "pygments_lexer": "ipython3",
      "version": "3.11.0"
    },
    "colab": {
      "provenance": [],
      "toc_visible": true,
      "include_colab_link": true
    }
  },
  "nbformat": 4,
  "nbformat_minor": 0
}