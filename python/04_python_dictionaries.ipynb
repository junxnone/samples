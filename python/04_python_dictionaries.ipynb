{
  "cells": [
    {
      "cell_type": "markdown",
      "metadata": {
        "id": "view-in-github",
        "colab_type": "text"
      },
      "source": [
        "<a href=\"https://colab.research.google.com/github/junxnone/samples/blob/main/python/04_python_dictionaries.ipynb\" target=\"_parent\"><img src=\"https://colab.research.google.com/assets/colab-badge.svg\" alt=\"Open In Colab\"/></a>"
      ]
    },
    {
      "cell_type": "markdown",
      "metadata": {
        "id": "Rzkzda0e6LBg"
      },
      "source": [
        "# [Dictionaries](https://docs.python.org/3/library/stdtypes.html#dict)\n",
        "Collections of `key`-`value` pairs."
      ]
    },
    {
      "cell_type": "code",
      "execution_count": 1,
      "metadata": {
        "id": "RzeOouAO6LBi",
        "outputId": "90f0d3b0-52ac-40b8-87d0-362e56b94502",
        "colab": {
          "base_uri": "https://localhost:8080/"
        }
      },
      "outputs": [
        {
          "output_type": "stream",
          "name": "stdout",
          "text": [
            "dict: {}, type: <class 'dict'>\n"
          ]
        }
      ],
      "source": [
        "my_empty_dict = {}  # alternative: my_empty_dict = dict()\n",
        "print(f\"dict: {my_empty_dict}, type: {type(my_empty_dict)}\")"
      ]
    },
    {
      "cell_type": "markdown",
      "metadata": {
        "id": "lvjSh3hl6LBj"
      },
      "source": [
        "## Initialization"
      ]
    },
    {
      "cell_type": "code",
      "execution_count": 2,
      "metadata": {
        "id": "apqD-l2K6LBj",
        "outputId": "56d92395-2c56-4b11-e6e1-a0df7c5178f3",
        "colab": {
          "base_uri": "https://localhost:8080/"
        }
      },
      "outputs": [
        {
          "output_type": "stream",
          "name": "stdout",
          "text": [
            "{'value1': 1.6, 'value2': 10, 'name': 'John Doe'}\n",
            "{'value1': 1.6, 'value2': 10, 'name': 'John Doe'}\n",
            "equals: True\n",
            "length: 3\n"
          ]
        }
      ],
      "source": [
        "dict1 = {\"value1\": 1.6, \"value2\": 10, \"name\": \"John Doe\"}\n",
        "dict2 = dict(value1=1.6, value2=10, name=\"John Doe\")\n",
        "\n",
        "print(dict1)\n",
        "print(dict2)\n",
        "\n",
        "print(f\"equals: {dict1 == dict2}\")\n",
        "print(f\"length: {len(dict1)}\")"
      ]
    },
    {
      "cell_type": "markdown",
      "metadata": {
        "id": "3hP6kDL46LBj"
      },
      "source": [
        "## `dict.keys(), dict.values(), dict.items()`"
      ]
    },
    {
      "cell_type": "code",
      "execution_count": 3,
      "metadata": {
        "id": "IOJU3Qsg6LBk",
        "outputId": "87378780-7eef-4f85-acff-4af60c3b77bb",
        "colab": {
          "base_uri": "https://localhost:8080/"
        }
      },
      "outputs": [
        {
          "output_type": "stream",
          "name": "stdout",
          "text": [
            "keys: dict_keys(['value1', 'value2', 'name'])\n",
            "values: dict_values([1.6, 10, 'John Doe'])\n",
            "items: dict_items([('value1', 1.6), ('value2', 10), ('name', 'John Doe')])\n"
          ]
        }
      ],
      "source": [
        "print(f\"keys: {dict1.keys()}\")\n",
        "print(f\"values: {dict1.values()}\")\n",
        "print(f\"items: {dict1.items()}\")"
      ]
    },
    {
      "cell_type": "markdown",
      "metadata": {
        "id": "u5d6Ry5E6LBk"
      },
      "source": [
        "## Accessing and setting values"
      ]
    },
    {
      "cell_type": "code",
      "execution_count": 4,
      "metadata": {
        "id": "cTVGe7jv6LBk",
        "outputId": "36fcb768-c2f6-4d18-800a-63415afd9ce3",
        "colab": {
          "base_uri": "https://localhost:8080/"
        }
      },
      "outputs": [
        {
          "output_type": "stream",
          "name": "stdout",
          "text": [
            "{'key1': 'new value', 'key2': 99}\n",
            "value of key1: new value\n"
          ]
        }
      ],
      "source": [
        "my_dict = {}\n",
        "my_dict[\"key1\"] = \"value1\"\n",
        "my_dict[\"key2\"] = 99\n",
        "my_dict[\"key1\"] = \"new value\"  # overriding existing value\n",
        "print(my_dict)\n",
        "print(f\"value of key1: {my_dict['key1']}\")"
      ]
    },
    {
      "cell_type": "markdown",
      "metadata": {
        "id": "_z3693Rq6LBk"
      },
      "source": [
        "Accessing a nonexistent key will raise `KeyError` (see [`dict.get()`](#dict_get) for workaround):"
      ]
    },
    {
      "cell_type": "code",
      "execution_count": 5,
      "metadata": {
        "id": "Kl-qXR-b6LBk"
      },
      "outputs": [],
      "source": [
        "# print(my_dict['nope'])"
      ]
    },
    {
      "cell_type": "markdown",
      "metadata": {
        "id": "r_zVLyL36LBl"
      },
      "source": [
        "## Deleting"
      ]
    },
    {
      "cell_type": "code",
      "execution_count": 6,
      "metadata": {
        "id": "itVqU-dV6LBl",
        "outputId": "632b24a8-cb58-462d-e1b1-3ab90f1b7bbe",
        "colab": {
          "base_uri": "https://localhost:8080/"
        }
      },
      "outputs": [
        {
          "output_type": "stream",
          "name": "stdout",
          "text": [
            "{'key1': 'value1', 'key2': 99}\n",
            "my_key is not in {'key1': 'value1', 'key2': 99}\n"
          ]
        }
      ],
      "source": [
        "my_dict = {\"key1\": \"value1\", \"key2\": 99, \"keyX\": \"valueX\"}\n",
        "del my_dict[\"keyX\"]\n",
        "print(my_dict)\n",
        "\n",
        "# Usually better to make sure that the key exists (see also pop() and popitem())\n",
        "key_to_delete = \"my_key\"\n",
        "if key_to_delete in my_dict:\n",
        "    del my_dict[key_to_delete]\n",
        "else:\n",
        "    print(f\"{key_to_delete} is not in {my_dict}\")"
      ]
    },
    {
      "cell_type": "markdown",
      "metadata": {
        "id": "ngMgpHSS6LBl"
      },
      "source": [
        "## Dictionaries are mutable"
      ]
    },
    {
      "cell_type": "code",
      "execution_count": 7,
      "metadata": {
        "id": "M8MGwsnp6LBl",
        "outputId": "c95247ab-620f-4555-d452-35e22743f357",
        "colab": {
          "base_uri": "https://localhost:8080/"
        }
      },
      "outputs": [
        {
          "output_type": "stream",
          "name": "stdout",
          "text": [
            "my_dict={'ham': 'good', 'carrot': 'super tasty', 'sausage': 'best ever'}\n",
            "other: {'ham': 'good', 'carrot': 'super tasty', 'sausage': 'best ever'}\n",
            "equals: True\n"
          ]
        }
      ],
      "source": [
        "my_dict = {\"ham\": \"good\", \"carrot\": \"semi good\"}\n",
        "my_other_dict = my_dict\n",
        "my_other_dict[\"carrot\"] = \"super tasty\"\n",
        "my_other_dict[\"sausage\"] = \"best ever\"\n",
        "print(f\"{my_dict=}\\nother: {my_other_dict}\")\n",
        "print(f\"equals: {my_dict == my_other_dict}\")"
      ]
    },
    {
      "cell_type": "markdown",
      "metadata": {
        "id": "m47U_CCH6LBl"
      },
      "source": [
        "Create a new `dict` if you want to have a copy:"
      ]
    },
    {
      "cell_type": "code",
      "execution_count": 8,
      "metadata": {
        "id": "mql8s_IM6LBl",
        "outputId": "c215ad08-5fc8-4ecb-e008-f2d0927a896e",
        "colab": {
          "base_uri": "https://localhost:8080/"
        }
      },
      "outputs": [
        {
          "output_type": "stream",
          "name": "stdout",
          "text": [
            "my_dict={'ham': 'good', 'carrot': 'semi good'}\n",
            "other: {'ham': 'good', 'carrot': 'semi good', 'beer': 'decent'}\n",
            "equals: False\n"
          ]
        }
      ],
      "source": [
        "my_dict = {\"ham\": \"good\", \"carrot\": \"semi good\"}\n",
        "my_other_dict = dict(my_dict)\n",
        "my_other_dict[\"beer\"] = \"decent\"\n",
        "print(f\"{my_dict=}\\nother: {my_other_dict}\")\n",
        "print(f\"equals: {my_dict == my_other_dict}\")"
      ]
    },
    {
      "cell_type": "markdown",
      "metadata": {
        "id": "N4gbmVCQ6LBl"
      },
      "source": [
        "<a id='dict_get'></a>\n",
        "## `dict.get()`\n",
        "Returns `None` if `key` is not in `dict`. However, you can also specify `default` return value which will be returned if `key` is not present in the `dict`."
      ]
    },
    {
      "cell_type": "code",
      "execution_count": 9,
      "metadata": {
        "id": "dRmeZhwj6LBl",
        "outputId": "adbc1864-0d6d-4e43-f20d-5cb50da25af9",
        "colab": {
          "base_uri": "https://localhost:8080/"
        }
      },
      "outputs": [
        {
          "output_type": "stream",
          "name": "stdout",
          "text": [
            "d: None\n",
            "d: my default value\n"
          ]
        }
      ],
      "source": [
        "my_dict = {\"a\": 1, \"b\": 2, \"c\": 3}\n",
        "value_of_d = my_dict.get(\"d\")\n",
        "print(f\"d: {value_of_d}\")\n",
        "\n",
        "value_of_d = my_dict.get(\"d\", \"my default value\")\n",
        "print(f\"d: {value_of_d}\")"
      ]
    },
    {
      "cell_type": "markdown",
      "metadata": {
        "id": "IBEM7PyD6LBl"
      },
      "source": [
        "## `dict.pop()`"
      ]
    },
    {
      "cell_type": "code",
      "execution_count": 10,
      "metadata": {
        "id": "khQnHV_n6LBl",
        "outputId": "796dad43-f5ca-4099-dd20-7633bd4388cc",
        "colab": {
          "base_uri": "https://localhost:8080/"
        }
      },
      "outputs": [
        {
          "output_type": "stream",
          "name": "stdout",
          "text": [
            "dict before pops: {'food': 'ham', 'drink': 'beer', 'sport': 'football'}\n",
            "food: ham\n",
            "dict after popping food: {'drink': 'beer', 'sport': 'football'}\n",
            "food again: default value for food\n",
            "dict after popping food again: {'drink': 'beer', 'sport': 'football'}\n"
          ]
        }
      ],
      "source": [
        "my_dict = dict(food=\"ham\", drink=\"beer\", sport=\"football\")\n",
        "print(f\"dict before pops: {my_dict}\")\n",
        "\n",
        "food = my_dict.pop(\"food\")\n",
        "print(f\"food: {food}\")\n",
        "print(f\"dict after popping food: {my_dict}\")\n",
        "\n",
        "food_again = my_dict.pop(\"food\", \"default value for food\")\n",
        "print(f\"food again: {food_again}\")\n",
        "print(f\"dict after popping food again: {my_dict}\")"
      ]
    },
    {
      "cell_type": "markdown",
      "metadata": {
        "id": "kVXkMjxO6LBm"
      },
      "source": [
        "## `dict.setdefault()`\n",
        "Returns the `value` of `key` defined as first parameter. If the `key` is not present in the dict, adds `key` with default value (second parameter)."
      ]
    },
    {
      "cell_type": "code",
      "execution_count": 11,
      "metadata": {
        "id": "MAMCp-OK6LBm",
        "outputId": "5252214d-d751-45eb-eacf-bdfe014123e0",
        "colab": {
          "base_uri": "https://localhost:8080/"
        }
      },
      "outputs": [
        {
          "output_type": "stream",
          "name": "stdout",
          "text": [
            "a: 1\n",
            "d: my default value\n",
            "my_dict: {'a': 1, 'b': 2, 'c': 3, 'd': 'my default value'}\n"
          ]
        }
      ],
      "source": [
        "my_dict = {\"a\": 1, \"b\": 2, \"c\": 3}\n",
        "a = my_dict.setdefault(\"a\", \"my default value\")\n",
        "d = my_dict.setdefault(\"d\", \"my default value\")\n",
        "print(f\"a: {a}\\nd: {d}\\nmy_dict: {my_dict}\")"
      ]
    },
    {
      "cell_type": "markdown",
      "metadata": {
        "id": "5mr0wVSS6LBm"
      },
      "source": [
        "## `dict.update()`\n",
        "Merge two `dict`s"
      ]
    },
    {
      "cell_type": "code",
      "execution_count": 12,
      "metadata": {
        "id": "CYQ-ZEVM6LBm",
        "outputId": "600de067-7d03-436f-89c7-be150a27aa47",
        "colab": {
          "base_uri": "https://localhost:8080/"
        }
      },
      "outputs": [
        {
          "output_type": "stream",
          "name": "stdout",
          "text": [
            "{'a': 1, 'b': 2, 'c': 3}\n",
            "{'a': 1, 'b': 2, 'c': 4}\n"
          ]
        }
      ],
      "source": [
        "dict1 = {\"a\": 1, \"b\": 2}\n",
        "dict2 = {\"c\": 3}\n",
        "dict1.update(dict2)\n",
        "print(dict1)\n",
        "\n",
        "# If they have same keys:\n",
        "dict1.update({\"c\": 4})\n",
        "print(dict1)"
      ]
    },
    {
      "cell_type": "markdown",
      "metadata": {
        "id": "FGmY5oWk6LBm"
      },
      "source": [
        "## The keys of a `dict` have to be immutable"
      ]
    },
    {
      "cell_type": "markdown",
      "metadata": {
        "id": "a02xxZqn6LBm"
      },
      "source": [
        "Thus you can not use e.g. a `list` or a `dict` as key because they are mutable types\n",
        ":"
      ]
    },
    {
      "cell_type": "code",
      "execution_count": 13,
      "metadata": {
        "id": "-lkAoCJW6LBn"
      },
      "outputs": [],
      "source": [
        "# bad_dict = {['my_list'], 'value'}  # Raises TypeError"
      ]
    },
    {
      "cell_type": "markdown",
      "metadata": {
        "id": "IdrlBiq36LBn"
      },
      "source": [
        "Values can be mutable"
      ]
    },
    {
      "cell_type": "code",
      "execution_count": 14,
      "metadata": {
        "id": "dYaBObWQ6LBn",
        "outputId": "e5806090-7a81-42be-cceb-77f3cc5f720f",
        "colab": {
          "base_uri": "https://localhost:8080/"
        }
      },
      "outputs": [
        {
          "output_type": "stream",
          "name": "stdout",
          "text": [
            "{'my key': ['Python', 'is', 'still', 'cool']}\n"
          ]
        }
      ],
      "source": [
        "good_dict = {\"my key\": [\"Python\", \"is\", \"still\", \"cool\"]}\n",
        "print(good_dict)"
      ]
    }
  ],
  "metadata": {
    "kernelspec": {
      "display_name": "Python 3 (ipykernel)",
      "language": "python",
      "name": "python3"
    },
    "language_info": {
      "codemirror_mode": {
        "name": "ipython",
        "version": 3
      },
      "file_extension": ".py",
      "mimetype": "text/x-python",
      "name": "python",
      "nbconvert_exporter": "python",
      "pygments_lexer": "ipython3",
      "version": "3.11.0"
    },
    "colab": {
      "provenance": [],
      "include_colab_link": true
    }
  },
  "nbformat": 4,
  "nbformat_minor": 0
}