{
  "cells": [
    {
      "cell_type": "markdown",
      "metadata": {
        "id": "view-in-github",
        "colab_type": "text"
      },
      "source": [
        "<a href=\"https://colab.research.google.com/github/junxnone/samples/blob/main/python/07_python_for_loops.ipynb\" target=\"_parent\"><img src=\"https://colab.research.google.com/assets/colab-badge.svg\" alt=\"Open In Colab\"/></a>"
      ]
    },
    {
      "cell_type": "markdown",
      "metadata": {
        "id": "AcKbd8ZBgxtx"
      },
      "source": [
        "# [`for` loops](https://docs.python.org/3/tutorial/controlflow.html#for-statements)"
      ]
    },
    {
      "cell_type": "markdown",
      "metadata": {
        "id": "BqtQTP_ggxty"
      },
      "source": [
        "## Looping lists"
      ]
    },
    {
      "cell_type": "code",
      "execution_count": 1,
      "metadata": {
        "id": "lcnr4SrBgxtz",
        "outputId": "7ac0587b-4e7a-4256-886c-85a5a26dedaf",
        "colab": {
          "base_uri": "https://localhost:8080/"
        }
      },
      "outputs": [
        {
          "output_type": "stream",
          "name": "stdout",
          "text": [
            "1\n",
            "2\n",
            "3\n",
            "4\n",
            "Python\n",
            "is\n",
            "neat\n"
          ]
        }
      ],
      "source": [
        "my_list = [1, 2, 3, 4, \"Python\", \"is\", \"neat\"]\n",
        "for item in my_list:\n",
        "    print(item)"
      ]
    },
    {
      "cell_type": "markdown",
      "metadata": {
        "id": "QlCT75rwgxtz"
      },
      "source": [
        "### `break`\n",
        "Stop the execution of the loop."
      ]
    },
    {
      "cell_type": "code",
      "execution_count": 2,
      "metadata": {
        "id": "cDiAWi2fgxt0",
        "outputId": "46f1ad42-a72d-4465-94c4-2f4760645e90",
        "colab": {
          "base_uri": "https://localhost:8080/"
        }
      },
      "outputs": [
        {
          "output_type": "stream",
          "name": "stdout",
          "text": [
            "1\n",
            "2\n",
            "3\n",
            "4\n"
          ]
        }
      ],
      "source": [
        "for item in my_list:\n",
        "    if item == \"Python\":\n",
        "        break\n",
        "    print(item)"
      ]
    },
    {
      "cell_type": "markdown",
      "metadata": {
        "id": "EF3T7mGQgxt0"
      },
      "source": [
        "### `continue`\n",
        "Continue to the next item without executing the lines occuring after `continue` inside the loop."
      ]
    },
    {
      "cell_type": "code",
      "execution_count": 3,
      "metadata": {
        "id": "cNaD2S8rgxt0",
        "outputId": "acf0969d-1022-418a-9e6d-dc00a2274eb8",
        "colab": {
          "base_uri": "https://localhost:8080/"
        }
      },
      "outputs": [
        {
          "output_type": "stream",
          "name": "stdout",
          "text": [
            "2\n",
            "3\n",
            "4\n",
            "Python\n",
            "is\n",
            "neat\n"
          ]
        }
      ],
      "source": [
        "for item in my_list:\n",
        "    if item == 1:\n",
        "        continue\n",
        "    print(item)"
      ]
    },
    {
      "cell_type": "markdown",
      "metadata": {
        "id": "tuWUoAlKgxt0"
      },
      "source": [
        "### `enumerate()`\n",
        "In case you need to also know the index:"
      ]
    },
    {
      "cell_type": "code",
      "execution_count": 4,
      "metadata": {
        "id": "d-lTsiKfgxt0",
        "outputId": "2de68f71-125b-4f72-eb2b-289d8ccd05d9",
        "colab": {
          "base_uri": "https://localhost:8080/"
        }
      },
      "outputs": [
        {
          "output_type": "stream",
          "name": "stdout",
          "text": [
            "idx: 0, value: 1\n",
            "idx: 1, value: 2\n",
            "idx: 2, value: 3\n",
            "idx: 3, value: 4\n",
            "idx: 4, value: Python\n",
            "idx: 5, value: is\n",
            "idx: 6, value: neat\n"
          ]
        }
      ],
      "source": [
        "for idx, val in enumerate(my_list):\n",
        "    print(f\"idx: {idx}, value: {val}\")"
      ]
    },
    {
      "cell_type": "markdown",
      "metadata": {
        "id": "Hx_8uFoDgxt1"
      },
      "source": [
        "## Looping dictionaries"
      ]
    },
    {
      "cell_type": "code",
      "execution_count": 5,
      "metadata": {
        "id": "toLhr4V_gxt1",
        "outputId": "de280a4c-d2f7-4150-d6e7-81f5761f1df5",
        "colab": {
          "base_uri": "https://localhost:8080/"
        }
      },
      "outputs": [
        {
          "output_type": "stream",
          "name": "stdout",
          "text": [
            "hacker\n",
            "age\n",
            "name\n"
          ]
        }
      ],
      "source": [
        "my_dict = {\"hacker\": True, \"age\": 72, \"name\": \"John Doe\"}\n",
        "for val in my_dict:\n",
        "    print(val)"
      ]
    },
    {
      "cell_type": "code",
      "execution_count": 6,
      "metadata": {
        "id": "r7xvQVZmgxt1",
        "outputId": "bff7dba6-738b-4ecc-bc8c-5d5c47bb7eb9",
        "colab": {
          "base_uri": "https://localhost:8080/"
        }
      },
      "outputs": [
        {
          "output_type": "stream",
          "name": "stdout",
          "text": [
            "hacker=True\n",
            "age=72\n",
            "name=John Doe\n"
          ]
        }
      ],
      "source": [
        "for key, val in my_dict.items():\n",
        "    print(f\"{key}={val}\")"
      ]
    },
    {
      "cell_type": "markdown",
      "metadata": {
        "id": "EwE9nRumgxt1"
      },
      "source": [
        "## `range()`"
      ]
    },
    {
      "cell_type": "code",
      "execution_count": 7,
      "metadata": {
        "id": "xnSqO_HPgxt1",
        "outputId": "29409bbb-c5a7-4ea6-8a4f-b6d870e9a286",
        "colab": {
          "base_uri": "https://localhost:8080/"
        }
      },
      "outputs": [
        {
          "output_type": "stream",
          "name": "stdout",
          "text": [
            "0\n",
            "1\n",
            "2\n",
            "3\n",
            "4\n"
          ]
        }
      ],
      "source": [
        "for number in range(5):\n",
        "    print(number)"
      ]
    },
    {
      "cell_type": "code",
      "execution_count": 8,
      "metadata": {
        "id": "jwxofgZUgxt1",
        "outputId": "9c16d730-6e37-4a5c-f0fc-2e52e6d20094",
        "colab": {
          "base_uri": "https://localhost:8080/"
        }
      },
      "outputs": [
        {
          "output_type": "stream",
          "name": "stdout",
          "text": [
            "2\n",
            "3\n",
            "4\n"
          ]
        }
      ],
      "source": [
        "for number in range(2, 5):\n",
        "    print(number)"
      ]
    },
    {
      "cell_type": "code",
      "execution_count": 9,
      "metadata": {
        "id": "IA5ifC3ggxt1",
        "outputId": "c746f898-4fba-4a17-95f7-2f5767ddd963",
        "colab": {
          "base_uri": "https://localhost:8080/"
        }
      },
      "outputs": [
        {
          "output_type": "stream",
          "name": "stdout",
          "text": [
            "0\n",
            "2\n",
            "4\n",
            "6\n",
            "8\n"
          ]
        }
      ],
      "source": [
        "for number in range(0, 10, 2):  # last one is step\n",
        "    print(number)"
      ]
    }
  ],
  "metadata": {
    "kernelspec": {
      "display_name": "Python 3",
      "language": "python",
      "name": "python3"
    },
    "language_info": {
      "codemirror_mode": {
        "name": "ipython",
        "version": 3
      },
      "file_extension": ".py",
      "mimetype": "text/x-python",
      "name": "python",
      "nbconvert_exporter": "python",
      "pygments_lexer": "ipython3",
      "version": "3.5.4"
    },
    "colab": {
      "provenance": [],
      "include_colab_link": true
    }
  },
  "nbformat": 4,
  "nbformat_minor": 0
}