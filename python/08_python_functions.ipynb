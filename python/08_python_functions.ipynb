{
  "cells": [
    {
      "cell_type": "markdown",
      "metadata": {
        "id": "view-in-github",
        "colab_type": "text"
      },
      "source": [
        "<a href=\"https://colab.research.google.com/github/junxnone/samples/blob/main/python/08_python_functions.ipynb\" target=\"_parent\"><img src=\"https://colab.research.google.com/assets/colab-badge.svg\" alt=\"Open In Colab\"/></a>"
      ]
    },
    {
      "cell_type": "markdown",
      "metadata": {
        "id": "TxRBrOVdv-ML"
      },
      "source": [
        "# Functions"
      ]
    },
    {
      "cell_type": "code",
      "execution_count": 1,
      "metadata": {
        "id": "uowRfqtvv-MN",
        "outputId": "be2449da-365f-41e2-d3a7-0ce30abe1ca8",
        "colab": {
          "base_uri": "https://localhost:8080/"
        }
      },
      "outputs": [
        {
          "output_type": "stream",
          "name": "stdout",
          "text": [
            "type: <class 'function'>\n",
            "Hello world!\n"
          ]
        }
      ],
      "source": [
        "def my_first_function():\n",
        "    print(\"Hello world!\")\n",
        "\n",
        "\n",
        "print(f\"type: {type(my_first_function)}\")\n",
        "\n",
        "my_first_function()  # Calling a function"
      ]
    },
    {
      "cell_type": "markdown",
      "metadata": {
        "id": "vIdS4VbGv-MO"
      },
      "source": [
        "### Arguments"
      ]
    },
    {
      "cell_type": "code",
      "execution_count": 2,
      "metadata": {
        "id": "MZZqKkiHv-MO",
        "outputId": "193c39a1-cb11-402b-ad3a-31843e01cc34",
        "colab": {
          "base_uri": "https://localhost:8080/"
        }
      },
      "outputs": [
        {
          "output_type": "stream",
          "name": "stdout",
          "text": [
            "Hello John Doe and Superman!\n"
          ]
        }
      ],
      "source": [
        "def greet_us(name1, name2):\n",
        "    print(f\"Hello {name1} and {name2}!\")\n",
        "\n",
        "\n",
        "greet_us(\"John Doe\", \"Superman\")"
      ]
    },
    {
      "cell_type": "code",
      "execution_count": 3,
      "metadata": {
        "id": "_472Ri8Ev-MO",
        "outputId": "7151fdd1-644e-494e-a098-df1d232fc640",
        "colab": {
          "base_uri": "https://localhost:8080/"
        }
      },
      "outputs": [
        {
          "output_type": "stream",
          "name": "stdout",
          "text": [
            "pretty: mixed case\n"
          ]
        }
      ],
      "source": [
        "# Function with return value\n",
        "def strip_and_lowercase(original):\n",
        "    modified = original.strip().lower()\n",
        "    return modified\n",
        "\n",
        "\n",
        "uggly_string = \"  MixED CaSe \"\n",
        "pretty = strip_and_lowercase(uggly_string)\n",
        "print(f\"pretty: {pretty}\")"
      ]
    },
    {
      "cell_type": "markdown",
      "metadata": {
        "id": "g6LEX0LJv-MP"
      },
      "source": [
        "### Keyword arguments"
      ]
    },
    {
      "cell_type": "code",
      "execution_count": 4,
      "metadata": {
        "id": "H-eUjDmgv-MP",
        "outputId": "89f07440-be21-4b3c-d636-34dc370196c1",
        "colab": {
          "base_uri": "https://localhost:8080/"
        }
      },
      "outputs": [
        {
          "output_type": "stream",
          "name": "stdout",
          "text": [
            "4\n",
            "4\n",
            "4\n",
            "4\n"
          ]
        }
      ],
      "source": [
        "def my_fancy_calculation(first, second, third):\n",
        "    return first + second - third\n",
        "\n",
        "\n",
        "print(my_fancy_calculation(3, 2, 1))\n",
        "\n",
        "print(my_fancy_calculation(first=3, second=2, third=1))\n",
        "\n",
        "# With keyword arguments you can mix the order\n",
        "print(my_fancy_calculation(third=1, first=3, second=2))\n",
        "\n",
        "# You can mix arguments and keyword arguments but you have to start with arguments\n",
        "print(my_fancy_calculation(3, third=1, second=2))"
      ]
    },
    {
      "cell_type": "markdown",
      "metadata": {
        "id": "DuHKHD3Pv-MP"
      },
      "source": [
        "### Default arguments"
      ]
    },
    {
      "cell_type": "code",
      "execution_count": 5,
      "metadata": {
        "id": "4gkLHVzVv-MQ",
        "outputId": "fef77386-4707-4924-8fb5-4286f1b551fe",
        "colab": {
          "base_uri": "https://localhost:8080/"
        }
      },
      "outputs": [
        {
          "output_type": "stream",
          "name": "stdout",
          "text": [
            "{'name': 'John Doe', 'age': 82, 'salary': 300}\n",
            "{'name': 'Lisa Doe', 'age': 22, 'salary': 10000, 'job': 'hacker'}\n"
          ]
        }
      ],
      "source": [
        "def create_person_info(name, age, job=None, salary=300):\n",
        "    info = {\"name\": name, \"age\": age, \"salary\": salary}\n",
        "\n",
        "    # Add 'job' key only if it's provided as parameter\n",
        "    if job:\n",
        "        info.update(dict(job=job))\n",
        "\n",
        "    return info\n",
        "\n",
        "\n",
        "person1 = create_person_info(\"John Doe\", 82)  # use default values for job and salary\n",
        "person2 = create_person_info(\"Lisa Doe\", 22, \"hacker\", 10000)\n",
        "print(person1)\n",
        "print(person2)"
      ]
    },
    {
      "cell_type": "markdown",
      "metadata": {
        "id": "CexlmEeSv-MQ"
      },
      "source": [
        "#### 不要使用可变对象作为默认参数\n",
        "- 可变参数会在多次调用中共享该对象，任何改变都是共享的\n",
        "- 可以使用 None 作为默认参数，在函数内部再初始化"
      ]
    },
    {
      "cell_type": "code",
      "execution_count": 6,
      "metadata": {
        "id": "-RfT3p3Uv-MQ",
        "outputId": "900b17a9-3958-4ae7-c3e8-f93eca57a8fe",
        "colab": {
          "base_uri": "https://localhost:8080/"
        }
      },
      "outputs": [
        {
          "output_type": "stream",
          "name": "stdout",
          "text": [
            "[100]\n",
            "[100, 105]\n",
            "[100, 105]\n",
            "[]\n",
            "[100, 105]\n"
          ]
        }
      ],
      "source": [
        "def append_if_multiple_of_five(number, magical_list=[]):\n",
        "    if number % 5 == 0:\n",
        "        magical_list.append(number)\n",
        "    return magical_list\n",
        "\n",
        "\n",
        "print(append_if_multiple_of_five(100))\n",
        "print(append_if_multiple_of_five(105))\n",
        "print(append_if_multiple_of_five(123))\n",
        "print(append_if_multiple_of_five(123, []))\n",
        "print(append_if_multiple_of_five(123))"
      ]
    },
    {
      "cell_type": "markdown",
      "metadata": {
        "id": "Ggldy2kCv-MQ"
      },
      "source": [
        "Here's how you can achieve desired behavior:"
      ]
    },
    {
      "cell_type": "code",
      "execution_count": 7,
      "metadata": {
        "id": "0bkdQ5qGv-MQ",
        "outputId": "a8184bb3-0052-4bb8-c60a-557ca6d09d70",
        "colab": {
          "base_uri": "https://localhost:8080/"
        }
      },
      "outputs": [
        {
          "output_type": "stream",
          "name": "stdout",
          "text": [
            "[100]\n",
            "[105]\n",
            "[]\n",
            "[]\n",
            "[]\n"
          ]
        }
      ],
      "source": [
        "def append_if_multiple_of_five(number, magical_list=None):\n",
        "    if not magical_list:\n",
        "        magical_list = []\n",
        "    if number % 5 == 0:\n",
        "        magical_list.append(number)\n",
        "    return magical_list\n",
        "\n",
        "\n",
        "print(append_if_multiple_of_five(100))\n",
        "print(append_if_multiple_of_five(105))\n",
        "print(append_if_multiple_of_five(123))\n",
        "print(append_if_multiple_of_five(123, []))\n",
        "print(append_if_multiple_of_five(123))"
      ]
    },
    {
      "cell_type": "markdown",
      "metadata": {
        "id": "D4A84wSTv-MR"
      },
      "source": [
        "### Docstrings\n",
        "Strings for documenting your functions, methods, modules and variables."
      ]
    },
    {
      "cell_type": "code",
      "execution_count": 8,
      "metadata": {
        "id": "fRwUygpcv-MR",
        "outputId": "bf5c936a-ad30-4e12-8000-ffd61c1f577e",
        "colab": {
          "base_uri": "https://localhost:8080/"
        }
      },
      "outputs": [
        {
          "output_type": "stream",
          "name": "stdout",
          "text": [
            "Help on function print_sum in module __main__:\n",
            "\n",
            "print_sum(val1, val2)\n",
            "    Function which prints the sum of given arguments.\n",
            "\n",
            "None\n"
          ]
        }
      ],
      "source": [
        "def print_sum(val1, val2):\n",
        "    \"\"\"Function which prints the sum of given arguments.\"\"\"\n",
        "    print(f\"sum: {val1 + val2}\")\n",
        "\n",
        "\n",
        "print(help(print_sum))"
      ]
    },
    {
      "cell_type": "code",
      "execution_count": 9,
      "metadata": {
        "id": "78CXXxogv-MR",
        "outputId": "9fb77770-3f98-4ac6-b464-ccf97a9e2556",
        "colab": {
          "base_uri": "https://localhost:8080/"
        }
      },
      "outputs": [
        {
          "output_type": "stream",
          "name": "stdout",
          "text": [
            "Help on function calculate_sum in module __main__:\n",
            "\n",
            "calculate_sum(val1, val2)\n",
            "    This is a longer docstring defining also the args and the return value.\n",
            "    \n",
            "    Args:\n",
            "        val1: The first parameter.\n",
            "        val2: The second parameter.\n",
            "    \n",
            "    Returns:\n",
            "        The sum of val1 and val2.\n",
            "\n",
            "None\n"
          ]
        }
      ],
      "source": [
        "def calculate_sum(val1, val2):\n",
        "    \"\"\"This is a longer docstring defining also the args and the return value.\n",
        "\n",
        "    Args:\n",
        "        val1: The first parameter.\n",
        "        val2: The second parameter.\n",
        "\n",
        "    Returns:\n",
        "        The sum of val1 and val2.\n",
        "\n",
        "    \"\"\"\n",
        "    return val1 + val2\n",
        "\n",
        "\n",
        "print(help(calculate_sum))"
      ]
    },
    {
      "cell_type": "markdown",
      "metadata": {
        "id": "nMjhIg-Cv-MR"
      },
      "source": [
        "### [`pass`](https://docs.python.org/3/reference/simple_stmts.html#the-pass-statement) statement\n",
        "`pass` 作为一个占位符使用，当执行时，什么也不做。"
      ]
    },
    {
      "cell_type": "code",
      "execution_count": 10,
      "metadata": {
        "id": "vHcjAE3Pv-MR"
      },
      "outputs": [],
      "source": [
        "def my_function(some_argument):\n",
        "    pass\n",
        "\n",
        "\n",
        "def my_other_function():\n",
        "    pass"
      ]
    }
  ],
  "metadata": {
    "kernelspec": {
      "display_name": "Python 3 (ipykernel)",
      "language": "python",
      "name": "python3"
    },
    "language_info": {
      "codemirror_mode": {
        "name": "ipython",
        "version": 3
      },
      "file_extension": ".py",
      "mimetype": "text/x-python",
      "name": "python",
      "nbconvert_exporter": "python",
      "pygments_lexer": "ipython3",
      "version": "3.11.0"
    },
    "colab": {
      "provenance": [],
      "toc_visible": true,
      "include_colab_link": true
    }
  },
  "nbformat": 4,
  "nbformat_minor": 0
}