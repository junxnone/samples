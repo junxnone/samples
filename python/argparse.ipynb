{
  "nbformat": 4,
  "nbformat_minor": 0,
  "metadata": {
    "colab": {
      "name": "argparse.ipynb",
      "provenance": [],
      "collapsed_sections": [],
      "include_colab_link": true
    },
    "kernelspec": {
      "name": "python3",
      "display_name": "Python 3"
    }
  },
  "cells": [
    {
      "cell_type": "markdown",
      "metadata": {
        "id": "view-in-github",
        "colab_type": "text"
      },
      "source": [
        "<a href=\"https://colab.research.google.com/github/junxnone/examples/blob/master/python/argparse.ipynb\" target=\"_parent\"><img src=\"https://colab.research.google.com/assets/colab-badge.svg\" alt=\"Open In Colab\"/></a>"
      ]
    },
    {
      "cell_type": "markdown",
      "metadata": {
        "id": "tjnZRSVtAnlh",
        "colab_type": "text"
      },
      "source": [
        "# argparse\n",
        "- parse_args() 默认情况下无参数，[会从sys.argv中自动识别命令行参数作为参数](https://docs.python.org/3/library/argparse.html#parsing-arguments)"
      ]
    },
    {
      "cell_type": "code",
      "metadata": {
        "id": "BrW5RPGWACUl",
        "colab_type": "code",
        "colab": {}
      },
      "source": [
        "import argparse"
      ],
      "execution_count": 0,
      "outputs": []
    },
    {
      "cell_type": "markdown",
      "metadata": {
        "id": "eP6PLL_wB6Td",
        "colab_type": "text"
      },
      "source": [
        "# parser example"
      ]
    },
    {
      "cell_type": "code",
      "metadata": {
        "id": "FjlGiW-cAFLP",
        "colab_type": "code",
        "colab": {
          "base_uri": "https://localhost:8080/",
          "height": 51
        },
        "outputId": "85883e03-8db2-4127-ae08-65a4cf21768b"
      },
      "source": [
        "parser = argparse.ArgumentParser(description='Process some integers.')\n",
        "parser.add_argument('integers', metavar='N', type=int, nargs='+',\n",
        "                    help='an integer for the accumulator')\n",
        "parser.add_argument('--sum', dest='accumulate', action='store_const',\n",
        "                    const=sum, default=max,\n",
        "                    help='sum the integers (default: find the max)')\n",
        "\n",
        "args = parser.parse_args('--sum 1 25'.split())\n",
        "print(parser.parse_args([\"1\",\"25\",\"--sum\"]))\n",
        "print(args.accumulate(args.integers))"
      ],
      "execution_count": 2,
      "outputs": [
        {
          "output_type": "stream",
          "text": [
            "Namespace(accumulate=<built-in function sum>, integers=[1, 25])\n",
            "26\n"
          ],
          "name": "stdout"
        }
      ]
    },
    {
      "cell_type": "markdown",
      "metadata": {
        "id": "n0nZKdWJEcoF",
        "colab_type": "text"
      },
      "source": [
        "# 打印帮助信息"
      ]
    },
    {
      "cell_type": "code",
      "metadata": {
        "id": "l2ZapLEQDkWO",
        "colab_type": "code",
        "colab": {
          "base_uri": "https://localhost:8080/",
          "height": 187
        },
        "outputId": "05ddca07-e61f-460a-916a-27d1df7009fa"
      },
      "source": [
        "parser.print_help()"
      ],
      "execution_count": 3,
      "outputs": [
        {
          "output_type": "stream",
          "text": [
            "usage: ipykernel_launcher.py [-h] [--sum] N [N ...]\n",
            "\n",
            "Process some integers.\n",
            "\n",
            "positional arguments:\n",
            "  N           an integer for the accumulator\n",
            "\n",
            "optional arguments:\n",
            "  -h, --help  show this help message and exit\n",
            "  --sum       sum the integers (default: find the max)\n"
          ],
          "name": "stdout"
        }
      ]
    },
    {
      "cell_type": "markdown",
      "metadata": {
        "id": "DJdusrjHCAEC",
        "colab_type": "text"
      },
      "source": [
        "# Adding arguments\n",
        "- add_argument()\n",
        "  - name/flags: `'-f'` 和 `'--foo'`\n",
        "  - help: 帮助信息，会在 `-h`/ `--help` 时显示\n",
        "  - type: 输入转换的类型( int/float/str/ )\n",
        "  - action: \n",
        "    - store: default, 只是存储参数\n",
        "    - store_const:\n",
        "    - store_true: 如有该参数则为True\n",
        "    - store_false: 如没有该参数则为True\n",
        "    - append: 累加到后面作为参数列表的元素，单个参数可指定多次\n",
        "    - append_const:\n",
        "    - count: 计数\n",
        "    - help: default 自动生成，可手动指定\n",
        "    - version: 定义程序版本号\n",
        "    - extend: 一个参数可以指定多个值，并指定多次，会存储为list\n",
        "    - 自定义action: 定义实现内容\n",
        "  - nargs: \n",
        "    - N: 1,2, 后面跟几个参数\n",
        "    - ?:\n",
        "    - *: 后面可以跟多个参数\n",
        "    - +: 同 `*`，如果没有参数会报错\n",
        "    - argparse.REMAINDER\n",
        "  - choices: 可选值，定义参数空间，不在此list则报错\n",
        "  - required： 定义必选参数，无此参数则报错\n",
        "  - dest: "
      ]
    },
    {
      "cell_type": "code",
      "metadata": {
        "id": "6fxWyyGfBxZ9",
        "colab_type": "code",
        "colab": {
          "base_uri": "https://localhost:8080/",
          "height": 85
        },
        "outputId": "8ade88e3-32c1-4ebd-cefc-6aade613c5ab"
      },
      "source": [
        "parser = argparse.ArgumentParser()\n",
        "parser.add_argument('--foo', '-f', action='store_true')\n",
        "parser.add_argument('--bar', action='store_false')\n",
        "parser.add_argument('--baz', action='store_false')\n",
        "parser.add_argument('--fool', action='store_const', const=42)\n",
        "\n",
        "print(parser.parse_args(\"\"))\n",
        "print(parser.parse_args(\"--fool\".split()))\n",
        "print(parser.parse_args('--foo'.split()))\n",
        "print(parser.parse_args('--bar -f'.split()))"
      ],
      "execution_count": 4,
      "outputs": [
        {
          "output_type": "stream",
          "text": [
            "Namespace(bar=True, baz=True, foo=False, fool=None)\n",
            "Namespace(bar=True, baz=True, foo=False, fool=42)\n",
            "Namespace(bar=True, baz=True, foo=True, fool=None)\n",
            "Namespace(bar=False, baz=True, foo=True, fool=None)\n"
          ],
          "name": "stdout"
        }
      ]
    },
    {
      "cell_type": "markdown",
      "metadata": {
        "id": "g5glzMSIJ_ot",
        "colab_type": "text"
      },
      "source": [
        "## --verbose 实现 log 打印level\n"
      ]
    },
    {
      "cell_type": "code",
      "metadata": {
        "id": "u3Tx7HiQG3tB",
        "colab_type": "code",
        "colab": {
          "base_uri": "https://localhost:8080/",
          "height": 34
        },
        "outputId": "67fc3abb-b576-4ce4-c213-c8d293f9418d"
      },
      "source": [
        "parser = argparse.ArgumentParser()\n",
        "parser.add_argument('--verbose', '-v', action='count')\n",
        "parser.parse_args(['-vvv'])"
      ],
      "execution_count": 5,
      "outputs": [
        {
          "output_type": "execute_result",
          "data": {
            "text/plain": [
              "Namespace(verbose=3)"
            ]
          },
          "metadata": {
            "tags": []
          },
          "execution_count": 5
        }
      ]
    },
    {
      "cell_type": "markdown",
      "metadata": {
        "id": "APCrYzgKPSBw",
        "colab_type": "text"
      },
      "source": [
        "# parse_args()\n",
        "- `-foo FOO`\n",
        "- `-foo=FOO`\n",
        "- `-xX`\n",
        "- `-xyzZ`"
      ]
    },
    {
      "cell_type": "code",
      "metadata": {
        "id": "9tPtEFC0PVCs",
        "colab_type": "code",
        "colab": {
          "base_uri": "https://localhost:8080/",
          "height": 51
        },
        "outputId": "773764dc-ac43-423f-8819-da24e2be242d"
      },
      "source": [
        "parser = argparse.ArgumentParser(prog='PROG')\n",
        "parser.add_argument('-x')\n",
        "parser.add_argument('--foo')\n",
        "print(parser.parse_args(['-x', 'X']))\n",
        "print(parser.parse_args(['-xX']))"
      ],
      "execution_count": 6,
      "outputs": [
        {
          "output_type": "stream",
          "text": [
            "Namespace(foo=None, x='X')\n",
            "Namespace(foo=None, x='X')\n"
          ],
          "name": "stdout"
        }
      ]
    },
    {
      "cell_type": "code",
      "metadata": {
        "id": "BQIdNjgXP54T",
        "colab_type": "code",
        "colab": {
          "base_uri": "https://localhost:8080/",
          "height": 34
        },
        "outputId": "466abdaf-ae7a-445e-f451-ac5dfa539c43"
      },
      "source": [
        "parser = argparse.ArgumentParser(prog='PROG')\n",
        "parser.add_argument('-x', action='store_true')\n",
        "parser.add_argument('-y', action='store_true')\n",
        "parser.add_argument('-z')\n",
        "parser.parse_args(['-xyzZ'])"
      ],
      "execution_count": 7,
      "outputs": [
        {
          "output_type": "execute_result",
          "data": {
            "text/plain": [
              "Namespace(x=True, y=True, z='Z')"
            ]
          },
          "metadata": {
            "tags": []
          },
          "execution_count": 7
        }
      ]
    },
    {
      "cell_type": "markdown",
      "metadata": {
        "id": "TVl1MSsCQiN3",
        "colab_type": "text"
      },
      "source": [
        "# add_subparsers()"
      ]
    },
    {
      "cell_type": "code",
      "metadata": {
        "id": "t5pFKZEDQ4eb",
        "colab_type": "code",
        "colab": {
          "base_uri": "https://localhost:8080/",
          "height": 51
        },
        "outputId": "1bbcd79f-1f05-4063-d345-d75434fc6f7c"
      },
      "source": [
        "parser = argparse.ArgumentParser(prog='PROG')\n",
        "parser.add_argument('--foo', action='store_true', help='foo help')\n",
        "subparsers = parser.add_subparsers(help='sub-command help')\n",
        "\n",
        "# create the parser for the \"a\" command\n",
        "parser_a = subparsers.add_parser('a', help='a help')\n",
        "parser_a.add_argument('bar', type=int, help='bar help')\n",
        "# create the parser for the \"b\" command\n",
        "parser_b = subparsers.add_parser('b', help='b help')\n",
        "parser_b.add_argument('--baz', choices='XYZ', help='baz help')\n",
        "\n",
        "# parse some argument lists\n",
        "print(parser.parse_args(['a', '12']))\n",
        "print(parser.parse_args(['--foo', 'b', '--baz', 'Z']))"
      ],
      "execution_count": 8,
      "outputs": [
        {
          "output_type": "stream",
          "text": [
            "Namespace(bar=12, foo=False)\n",
            "Namespace(baz='Z', foo=True)\n"
          ],
          "name": "stdout"
        }
      ]
    },
    {
      "cell_type": "code",
      "metadata": {
        "id": "vwi64---RMJa",
        "colab_type": "code",
        "colab": {
          "base_uri": "https://localhost:8080/",
          "height": 187
        },
        "outputId": "3ee8dfaf-40f0-4bf3-f4cc-5366799edd5c"
      },
      "source": [
        "parser.print_help()"
      ],
      "execution_count": 9,
      "outputs": [
        {
          "output_type": "stream",
          "text": [
            "usage: PROG [-h] [--foo] {a,b} ...\n",
            "\n",
            "positional arguments:\n",
            "  {a,b}       sub-command help\n",
            "    a         a help\n",
            "    b         b help\n",
            "\n",
            "optional arguments:\n",
            "  -h, --help  show this help message and exit\n",
            "  --foo       foo help\n"
          ],
          "name": "stdout"
        }
      ]
    },
    {
      "cell_type": "code",
      "metadata": {
        "id": "iPlau4GqR8SK",
        "colab_type": "code",
        "colab": {
          "base_uri": "https://localhost:8080/",
          "height": 265
        },
        "outputId": "2eb923d3-6bff-4388-a4dc-a2478820e162"
      },
      "source": [
        "parser.parse_args(['a','--help'])"
      ],
      "execution_count": 10,
      "outputs": [
        {
          "output_type": "stream",
          "text": [
            "usage: PROG a [-h] bar\n",
            "\n",
            "positional arguments:\n",
            "  bar         bar help\n",
            "\n",
            "optional arguments:\n",
            "  -h, --help  show this help message and exit\n"
          ],
          "name": "stdout"
        },
        {
          "output_type": "error",
          "ename": "SystemExit",
          "evalue": "ignored",
          "traceback": [
            "An exception has occurred, use %tb to see the full traceback.\n",
            "\u001b[0;31mSystemExit\u001b[0m\u001b[0;31m:\u001b[0m 0\n"
          ]
        },
        {
          "output_type": "stream",
          "text": [
            "/usr/local/lib/python3.6/dist-packages/IPython/core/interactiveshell.py:2890: UserWarning: To exit: use 'exit', 'quit', or Ctrl-D.\n",
            "  warn(\"To exit: use 'exit', 'quit', or Ctrl-D.\", stacklevel=1)\n"
          ],
          "name": "stderr"
        }
      ]
    },
    {
      "cell_type": "markdown",
      "metadata": {
        "id": "LPGv-gE0SZmY",
        "colab_type": "text"
      },
      "source": [
        "# add_argument_group()"
      ]
    },
    {
      "cell_type": "code",
      "metadata": {
        "id": "HUbLMWzTSauT",
        "colab_type": "code",
        "colab": {
          "base_uri": "https://localhost:8080/",
          "height": 204
        },
        "outputId": "6b200dc7-b6dd-4fbc-afbd-2edd3974e2c1"
      },
      "source": [
        "parser = argparse.ArgumentParser(prog='PROG', add_help=False)\n",
        "group1 = parser.add_argument_group('group1', 'group1 description')\n",
        "group1.add_argument('foo', help='foo help')\n",
        "group2 = parser.add_argument_group('group2', 'group2 description')\n",
        "group2.add_argument('--bar', help='bar help')\n",
        "parser.print_help()"
      ],
      "execution_count": 11,
      "outputs": [
        {
          "output_type": "stream",
          "text": [
            "usage: PROG [--bar BAR] foo\n",
            "\n",
            "group1:\n",
            "  group1 description\n",
            "\n",
            "  foo        foo help\n",
            "\n",
            "group2:\n",
            "  group2 description\n",
            "\n",
            "  --bar BAR  bar help\n"
          ],
          "name": "stdout"
        }
      ]
    },
    {
      "cell_type": "code",
      "metadata": {
        "id": "xtHi8kTgS_bD",
        "colab_type": "code",
        "colab": {
          "base_uri": "https://localhost:8080/",
          "height": 34
        },
        "outputId": "b16c8388-c542-4780-805e-c3585f9d8928"
      },
      "source": [
        "parser.print_usage()"
      ],
      "execution_count": 12,
      "outputs": [
        {
          "output_type": "stream",
          "text": [
            "usage: PROG [--bar BAR] foo\n"
          ],
          "name": "stdout"
        }
      ]
    }
  ]
}