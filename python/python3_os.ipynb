{
  "nbformat": 4,
  "nbformat_minor": 0,
  "metadata": {
    "kernelspec": {
      "display_name": "Python 3",
      "language": "python",
      "name": "python3"
    },
    "language_info": {
      "codemirror_mode": {
        "name": "ipython",
        "version": 3
      },
      "file_extension": ".py",
      "mimetype": "text/x-python",
      "name": "python",
      "nbconvert_exporter": "python",
      "pygments_lexer": "ipython3",
      "version": "3.5.2"
    },
    "colab": {
      "name": "python3_os.ipynb",
      "provenance": [],
      "toc_visible": true
    }
  },
  "cells": [
    {
      "cell_type": "code",
      "metadata": {
        "id": "jw8it8qfUkR0",
        "colab_type": "code",
        "colab": {}
      },
      "source": [
        "import os\n",
        "from shutil import *\n",
        "from pwd import getpwnam\n",
        "import datetime"
      ],
      "execution_count": 0,
      "outputs": []
    },
    {
      "cell_type": "markdown",
      "metadata": {
        "id": "JXhAxECYUkR5",
        "colab_type": "text"
      },
      "source": [
        "# makedirs"
      ]
    },
    {
      "cell_type": "code",
      "metadata": {
        "id": "5ZOjUP_JUkR7",
        "colab_type": "code",
        "colab": {}
      },
      "source": [
        "if not os.path.exists(\"tmp\"):\n",
        "  os.makedirs(\"tmp\")\n",
        "if not os.path.exists(\"tmp/test\"):\n",
        "  os.makedirs(\"tmp/test\",0o776)\n",
        "if os.path.isdir(\"tmp\"):\n",
        "    os.chmod(\"tmp\",0o777)"
      ],
      "execution_count": 0,
      "outputs": []
    },
    {
      "cell_type": "code",
      "metadata": {
        "id": "tCniPoirUkSC",
        "colab_type": "code",
        "colab": {}
      },
      "source": [
        "#x=getpwnam('guest').pw_uid\n",
        "#os.chown(\"tmp\", x, x)"
      ],
      "execution_count": 0,
      "outputs": []
    },
    {
      "cell_type": "markdown",
      "metadata": {
        "id": "cR_oKxXJUkSv",
        "colab_type": "text"
      },
      "source": [
        "> Need run with root"
      ]
    },
    {
      "cell_type": "markdown",
      "metadata": {
        "id": "c0mvWS-ZUkSV",
        "colab_type": "text"
      },
      "source": [
        "# split\n",
        "- list the directory\n",
        "- split the name and extention"
      ]
    },
    {
      "cell_type": "code",
      "metadata": {
        "scrolled": true,
        "id": "yITnDGDtUkSY",
        "colab_type": "code",
        "colab": {
          "base_uri": "https://localhost:8080/",
          "height": 176
        },
        "outputId": "08bc7abd-33bb-4d2d-bf88-e9707dc2e1e3"
      },
      "source": [
        "imglist = os.listdir(\"./\")\n",
        "for image in imglist:\n",
        "    print(image)\n",
        "    (fn,ex) = os.path.splitext(image)\n",
        "    print(fn)\n",
        "    print(ex)"
      ],
      "execution_count": 4,
      "outputs": [
        {
          "output_type": "stream",
          "text": [
            ".config\n",
            ".config\n",
            "\n",
            "tmp\n",
            "tmp\n",
            "\n",
            "sample_data\n",
            "sample_data\n",
            "\n"
          ],
          "name": "stdout"
        }
      ]
    },
    {
      "cell_type": "markdown",
      "metadata": {
        "id": "qbGiYXZCXVhU",
        "colab_type": "text"
      },
      "source": [
        "# copy / move files\n"
      ]
    },
    {
      "cell_type": "code",
      "metadata": {
        "id": "iPq7tbyxXGRU",
        "colab_type": "code",
        "colab": {
          "base_uri": "https://localhost:8080/",
          "height": 34
        },
        "outputId": "ac73297c-814f-46f2-b050-7b5b7be0b3df"
      },
      "source": [
        "copyfile(\"./.config/active_config\", \"./active_config.bk\") # copy 文件"
      ],
      "execution_count": 5,
      "outputs": [
        {
          "output_type": "execute_result",
          "data": {
            "text/plain": [
              "'./active_config.bk'"
            ]
          },
          "metadata": {
            "tags": []
          },
          "execution_count": 5
        }
      ]
    },
    {
      "cell_type": "code",
      "metadata": {
        "id": "1oKhCHiaXqaC",
        "colab_type": "code",
        "colab": {
          "base_uri": "https://localhost:8080/",
          "height": 34
        },
        "outputId": "f1a11f7f-37d8-4d27-ac67-09611aa44fa8"
      },
      "source": [
        "move(\"./active_config.bk\", \"./active_config.bk.1\") # 重命名或 移动文件"
      ],
      "execution_count": 6,
      "outputs": [
        {
          "output_type": "execute_result",
          "data": {
            "text/plain": [
              "'./active_config.bk.1'"
            ]
          },
          "metadata": {
            "tags": []
          },
          "execution_count": 6
        }
      ]
    },
    {
      "cell_type": "code",
      "metadata": {
        "id": "TXttmqCicg3R",
        "colab_type": "code",
        "colab": {
          "base_uri": "https://localhost:8080/",
          "height": 34
        },
        "outputId": "34c07eab-c713-4a5a-a0a9-34eb43d51f17"
      },
      "source": [
        "copytree(\"./tmp\",\"./tmp_bk\") # copy 目录"
      ],
      "execution_count": 7,
      "outputs": [
        {
          "output_type": "execute_result",
          "data": {
            "text/plain": [
              "'./tmp_bk'"
            ]
          },
          "metadata": {
            "tags": []
          },
          "execution_count": 7
        }
      ]
    },
    {
      "cell_type": "code",
      "metadata": {
        "id": "jXaw_3p9cr5-",
        "colab_type": "code",
        "colab": {}
      },
      "source": [
        "os.remove(\"active_config.bk.1\") # 移除文件"
      ],
      "execution_count": 0,
      "outputs": []
    },
    {
      "cell_type": "code",
      "metadata": {
        "id": "e8RdXkDIc5WI",
        "colab_type": "code",
        "colab": {}
      },
      "source": [
        "rmtree(\"tmp_bk\") # 移除整个目录"
      ],
      "execution_count": 0,
      "outputs": []
    },
    {
      "cell_type": "code",
      "metadata": {
        "id": "JMcfHnWJaFbb",
        "colab_type": "code",
        "colab": {
          "base_uri": "https://localhost:8080/",
          "height": 34
        },
        "outputId": "8df0e20a-02ef-4697-9121-eaa1a1822af6"
      },
      "source": [
        "!ls "
      ],
      "execution_count": 10,
      "outputs": [
        {
          "output_type": "stream",
          "text": [
            "sample_data  tmp\n"
          ],
          "name": "stdout"
        }
      ]
    },
    {
      "cell_type": "markdown",
      "metadata": {
        "id": "KcgPcQbJaySD",
        "colab_type": "text"
      },
      "source": [
        "# dirname /basename\n",
        "- os.path.dirname 去掉 path 最后'/' 及之后的内容\n",
        "- os.path.basename 获取文件名\n"
      ]
    },
    {
      "cell_type": "code",
      "metadata": {
        "id": "vqw9bMqpZ_do",
        "colab_type": "code",
        "colab": {
          "base_uri": "https://localhost:8080/",
          "height": 52
        },
        "outputId": "0934efcb-788f-4712-d790-b861db1689ed"
      },
      "source": [
        "t1_path = '.config/logs'\n",
        "t2_path = '.config/logs/'\n",
        "print(os.path.dirname(t1_path))\n",
        "print(os.path.dirname(t2_path))"
      ],
      "execution_count": 11,
      "outputs": [
        {
          "output_type": "stream",
          "text": [
            ".config\n",
            ".config/logs\n"
          ],
          "name": "stdout"
        }
      ]
    },
    {
      "cell_type": "code",
      "metadata": {
        "id": "1aWb5M6Mb_6o",
        "colab_type": "code",
        "colab": {
          "base_uri": "https://localhost:8080/",
          "height": 34
        },
        "outputId": "b7ba1bf8-67ca-45f8-bc36-c2ed3b6fe100"
      },
      "source": [
        "os.path.basename('./.config/.active_config')"
      ],
      "execution_count": 12,
      "outputs": [
        {
          "output_type": "execute_result",
          "data": {
            "text/plain": [
              "'.active_config'"
            ]
          },
          "metadata": {
            "tags": []
          },
          "execution_count": 12
        }
      ]
    },
    {
      "cell_type": "code",
      "metadata": {
        "id": "cAVZZC8LcUhM",
        "colab_type": "code",
        "colab": {}
      },
      "source": [
        "os.mknod(\"test_{}.txt\".format(datetime.datetime.now().strftime('%Y_%m_%d_%H_%M_%S'))) # 创建空文件"
      ],
      "execution_count": 0,
      "outputs": []
    },
    {
      "cell_type": "code",
      "metadata": {
        "id": "tj379-q-efEO",
        "colab_type": "code",
        "colab": {
          "base_uri": "https://localhost:8080/",
          "height": 34
        },
        "outputId": "33abfcc4-71ce-4e9b-fb18-80855eaea670"
      },
      "source": [
        "!ls"
      ],
      "execution_count": 14,
      "outputs": [
        {
          "output_type": "stream",
          "text": [
            "sample_data  test_2019_10_30_07_04_40.txt  tmp\n"
          ],
          "name": "stdout"
        }
      ]
    }
  ]
}