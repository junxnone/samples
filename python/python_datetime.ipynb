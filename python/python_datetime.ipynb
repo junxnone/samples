{
  "nbformat": 4,
  "nbformat_minor": 0,
  "metadata": {
    "colab": {
      "name": "python_datetime.ipynb",
      "provenance": [],
      "include_colab_link": true
    },
    "kernelspec": {
      "name": "python3",
      "display_name": "Python 3"
    }
  },
  "cells": [
    {
      "cell_type": "markdown",
      "metadata": {
        "id": "view-in-github",
        "colab_type": "text"
      },
      "source": [
        "<a href=\"https://colab.research.google.com/github/junxnone/examples/blob/master/python/python_datetime.ipynb\" target=\"_parent\"><img src=\"https://colab.research.google.com/assets/colab-badge.svg\" alt=\"Open In Colab\"/></a>"
      ]
    },
    {
      "cell_type": "code",
      "metadata": {
        "id": "7FKrrw6vdr_1",
        "colab_type": "code",
        "colab": {}
      },
      "source": [
        "from datetime import datetime"
      ],
      "execution_count": 0,
      "outputs": []
    },
    {
      "cell_type": "code",
      "metadata": {
        "id": "c6jetsrxdwzv",
        "colab_type": "code",
        "colab": {
          "base_uri": "https://localhost:8080/",
          "height": 34
        },
        "outputId": "a784ed4a-b8d7-4bf6-b059-e9c177d7ad47"
      },
      "source": [
        "print(datetime.now())"
      ],
      "execution_count": 2,
      "outputs": [
        {
          "output_type": "stream",
          "text": [
            "2019-11-02 09:42:02.179274\n"
          ],
          "name": "stdout"
        }
      ]
    },
    {
      "cell_type": "code",
      "metadata": {
        "id": "Wovn6YcsdzsK",
        "colab_type": "code",
        "colab": {
          "base_uri": "https://localhost:8080/",
          "height": 34
        },
        "outputId": "7ed56de7-2ba1-4b3f-8ef3-619da61f23f1"
      },
      "source": [
        "print(datetime.utcnow())"
      ],
      "execution_count": 3,
      "outputs": [
        {
          "output_type": "stream",
          "text": [
            "2019-11-02 09:42:02.193228\n"
          ],
          "name": "stdout"
        }
      ]
    },
    {
      "cell_type": "code",
      "metadata": {
        "id": "F_rh8URMd97_",
        "colab_type": "code",
        "colab": {
          "base_uri": "https://localhost:8080/",
          "height": 34
        },
        "outputId": "c72678de-6e8d-4dea-b757-30f87eebe5f3"
      },
      "source": [
        "print(datetime(2017, 5, 23, 12, 20))"
      ],
      "execution_count": 4,
      "outputs": [
        {
          "output_type": "stream",
          "text": [
            "2017-05-23 12:20:00\n"
          ],
          "name": "stdout"
        }
      ]
    },
    {
      "cell_type": "markdown",
      "metadata": {
        "id": "DILtg8HieU1a",
        "colab_type": "text"
      },
      "source": [
        "# 字符串转换成datetime类型"
      ]
    },
    {
      "cell_type": "code",
      "metadata": {
        "id": "wIOczzGreKvN",
        "colab_type": "code",
        "colab": {
          "base_uri": "https://localhost:8080/",
          "height": 102
        },
        "outputId": "3547bff1-8c11-4acb-9827-b4a925135f92"
      },
      "source": [
        "print(datetime.strptime('2017/9/30','%Y/%m/%d'))\n",
        "print(datetime.strptime('2017年9月30日星期六','%Y年%m月%d日星期六'))\n",
        "print(datetime.strptime('2017年9月30日星期六8时42分24秒','%Y年%m月%d日星期六%H时%M分%S秒'))\n",
        "print(datetime.strptime('9/30/2017','%m/%d/%Y'))\n",
        "print(datetime.strptime('9/30/2017 8:42:50 ','%m/%d/%Y %H:%M:%S '))\n"
      ],
      "execution_count": 5,
      "outputs": [
        {
          "output_type": "stream",
          "text": [
            "2017-09-30 00:00:00\n",
            "2017-09-30 00:00:00\n",
            "2017-09-30 08:42:24\n",
            "2017-09-30 00:00:00\n",
            "2017-09-30 08:42:50\n"
          ],
          "name": "stdout"
        }
      ]
    },
    {
      "cell_type": "markdown",
      "metadata": {
        "id": "j0YVT7c0epqs",
        "colab_type": "text"
      },
      "source": [
        "# datetime类型转换成字符串"
      ]
    },
    {
      "cell_type": "code",
      "metadata": {
        "id": "HiHEFFlVespp",
        "colab_type": "code",
        "colab": {
          "base_uri": "https://localhost:8080/",
          "height": 85
        },
        "outputId": "ff043163-b52c-4da8-967e-c2e1d75fef90"
      },
      "source": [
        "print(datetime(2017,9,28,10,3,43).strftime('%Y年%m月%d日%A,%H时%M分%S秒'))\n",
        "print(datetime(2017,9,28,10,3,43).strftime('%A,%B %d,%Y'))\n",
        "print(datetime(2017,9,28,10,3,43).strftime('%m/%d/%Y %I:%M:%S%p'))\n",
        "print(datetime(2017,9,28,10,3,43).strftime('%B %d,%Y'))"
      ],
      "execution_count": 6,
      "outputs": [
        {
          "output_type": "stream",
          "text": [
            "2017年09月28日Thursday,10时03分43秒\n",
            "Thursday,September 28,2017\n",
            "09/28/2017 10:03:43AM\n",
            "September 28,2017\n"
          ],
          "name": "stdout"
        }
      ]
    },
    {
      "cell_type": "code",
      "metadata": {
        "id": "9E224phrfChB",
        "colab_type": "code",
        "colab": {
          "base_uri": "https://localhost:8080/",
          "height": 34
        },
        "outputId": "3dc8cf6d-f002-40cc-80a4-f35d600fd3cf"
      },
      "source": [
        "print(datetime.now().strftime(\"现在是%Y年，%m月，%d日, %H时，%M分，%S秒\"))"
      ],
      "execution_count": 7,
      "outputs": [
        {
          "output_type": "stream",
          "text": [
            "现在是2019年，11月，02日, 09时，42分，02秒\n"
          ],
          "name": "stdout"
        }
      ]
    }
  ]
}