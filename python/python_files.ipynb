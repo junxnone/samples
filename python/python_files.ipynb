{
  "nbformat": 4,
  "nbformat_minor": 0,
  "metadata": {
    "colab": {
      "name": "python_files.ipynb",
      "provenance": [],
      "collapsed_sections": [],
      "include_colab_link": true
    },
    "kernelspec": {
      "name": "python3",
      "display_name": "Python 3"
    }
  },
  "cells": [
    {
      "cell_type": "markdown",
      "metadata": {
        "id": "view-in-github",
        "colab_type": "text"
      },
      "source": [
        "<a href=\"https://colab.research.google.com/github/junxnone/examples/blob/master/python/python_files.ipynb\" target=\"_parent\"><img src=\"https://colab.research.google.com/assets/colab-badge.svg\" alt=\"Open In Colab\"/></a>"
      ]
    },
    {
      "cell_type": "markdown",
      "metadata": {
        "id": "Qc5-4b3tProa",
        "colab_type": "text"
      },
      "source": [
        " # python read/write files\n",
        " > 非特殊文件，csv可以使用pandas，json等其他特殊格式都有各自的package\n",
        "\n",
        " ## Reference\n",
        " - [Python 文件读写](https://www.runoob.com/python3/python3-file-methods.html)\n",
        " - [Python3 读写文件](https://www.cnblogs.com/yunlong-study/p/9592926.html)\n",
        "\n",
        "\n",
        " ## API\n",
        " - open\n",
        " > open(file, mode='r', buffering=-1, encoding=None, errors=None, newline=None, closefd=True, opener=None)\n",
        "- file: 必需，文件路径（相对或者绝对路径）。\n",
        "- mode: 可选，文件打开模式\n",
        "- buffering: 设置缓冲\n",
        "- encoding: 一般使用utf8\n",
        "- errors: 报错级别\n",
        "- newline: 区分换行符\n",
        "- closefd: 传入的file参数类型\n",
        "- opener:\n",
        "\n",
        "- file.close() 关闭文件。关闭后文件不能再进行读写操作。\n",
        "- file.flush() 刷新文件内部缓冲，直接把内部缓冲区的数据立刻写入文件, 而不是被动的等待输出缓冲区写入。\n",
        "- file.fileno() 返回一个整型的文件描述符(file descriptor FD 整型), 可以用在如os模块的read方法等一些底层操作上。\n",
        "- file.isatty() 如果文件连接到一个终端设备返回 True，否则返回 False。\n",
        "- file.next() Python 3 中的 File 对象不支持 next() 方法。返回文件下一行。\n",
        "- file.read([size]) 从文件读取指定的字节数，如果未给定或为负则读取所有。\n",
        "- file.readline([size]) 读取整行，包括 \"\\n\" 字符。\n",
        "- file.readlines([sizeint]) 读取所有行并返回列表，若给定sizeint>0，返回总和大约为sizeint字节的行, 实际读取值可能比 sizeint 较大, 因为需要填充缓冲区。\n",
        "- file.seek(offset[, whence]) 移动文件读取指针到指定位置\n",
        "- file.tell() 返回文件当前位置。\n",
        "- file.truncate([size]) 从文件的首行首字符开始截断，截断文件为 size 个字符，无 size 表示从当前位置截断；截断之后后面的所有字符被删除，其中 Widnows 系统下的换行代表2个字符大小。\n",
        "- file.write(str) 将字符串写入文件，返回的是写入的字符长度。\n",
        "- file.writelines(sequence) 向文件写入一个序列字符串列表，如果需要换行则要自己加入每行的换行符。"
      ]
    },
    {
      "cell_type": "code",
      "metadata": {
        "id": "1ERrbHuTPB-e",
        "colab_type": "code",
        "colab": {}
      },
      "source": [
        "f = open(\"test.txt\",'w+')\n",
        "f.write(\"hello,world!\")\n",
        "f.close()"
      ],
      "execution_count": 0,
      "outputs": []
    },
    {
      "cell_type": "code",
      "metadata": {
        "id": "OSbL39KMU8H7",
        "colab_type": "code",
        "colab": {
          "base_uri": "https://localhost:8080/",
          "height": 34
        },
        "outputId": "1d7ebaf8-3921-42b4-c6d4-c844efeb1c40"
      },
      "source": [
        "!cat test.txt"
      ],
      "execution_count": 2,
      "outputs": [
        {
          "output_type": "stream",
          "text": [
            "hello,world!"
          ],
          "name": "stdout"
        }
      ]
    },
    {
      "cell_type": "code",
      "metadata": {
        "id": "VKTp5A8lVEwU",
        "colab_type": "code",
        "colab": {}
      },
      "source": [
        "text_list = ['hello, ','world! ','here ','is ','the ','world!']\n",
        "f = open(\"test1.txt\",'w+')\n",
        "f.writelines(text_list)\n",
        "f.close()"
      ],
      "execution_count": 0,
      "outputs": []
    },
    {
      "cell_type": "code",
      "metadata": {
        "id": "WiyfNk4OXn8t",
        "colab_type": "code",
        "colab": {
          "base_uri": "https://localhost:8080/",
          "height": 34
        },
        "outputId": "5c8b7cb7-bdad-4eb3-e4ef-5c93ff02179d"
      },
      "source": [
        "!cat test1.txt"
      ],
      "execution_count": 4,
      "outputs": [
        {
          "output_type": "stream",
          "text": [
            "hello, world! here is the world!"
          ],
          "name": "stdout"
        }
      ]
    },
    {
      "cell_type": "code",
      "metadata": {
        "id": "GMAN6tPFg0nr",
        "colab_type": "code",
        "colab": {
          "base_uri": "https://localhost:8080/",
          "height": 34
        },
        "outputId": "e79dab6f-8059-4f62-eb24-9e5a71b631a8"
      },
      "source": [
        "f = open(\"test1.txt\",'r+')\n",
        "ll = f.readline()\n",
        "print(ll)\n",
        "f.close()"
      ],
      "execution_count": 5,
      "outputs": [
        {
          "output_type": "stream",
          "text": [
            "hello, world! here is the world!\n"
          ],
          "name": "stdout"
        }
      ]
    },
    {
      "cell_type": "markdown",
      "metadata": {
        "id": "KHoDA9aNmKe2",
        "colab_type": "text"
      },
      "source": [
        "**保证无论是否出错都能正确地关闭文件**"
      ]
    },
    {
      "cell_type": "code",
      "metadata": {
        "id": "7dZpxr6Xl5lM",
        "colab_type": "code",
        "colab": {
          "base_uri": "https://localhost:8080/",
          "height": 34
        },
        "outputId": "9c27879e-7dfb-4e33-b869-cea2b03fc0c6"
      },
      "source": [
        "try:\n",
        "  f = open(\"test1.txt\",'r+')\n",
        "  ll = f.readline()\n",
        "  print(ll)\n",
        "finally:\n",
        "  if f:\n",
        "    f.close()"
      ],
      "execution_count": 6,
      "outputs": [
        {
          "output_type": "stream",
          "text": [
            "hello, world! here is the world!\n"
          ],
          "name": "stdout"
        }
      ]
    },
    {
      "cell_type": "code",
      "metadata": {
        "id": "TJODx3AfmUU0",
        "colab_type": "code",
        "colab": {
          "base_uri": "https://localhost:8080/",
          "height": 34
        },
        "outputId": "9aba531d-b1f9-4058-8134-2ae56e4851c1"
      },
      "source": [
        "with open(\"test1.txt\", 'r') as f:\n",
        "    print(f.readline())"
      ],
      "execution_count": 7,
      "outputs": [
        {
          "output_type": "stream",
          "text": [
            "hello, world! here is the world!\n"
          ],
          "name": "stdout"
        }
      ]
    }
  ]
}