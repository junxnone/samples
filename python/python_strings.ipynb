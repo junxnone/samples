{
  "cells": [
    {
      "cell_type": "markdown",
      "metadata": {
        "id": "view-in-github",
        "colab_type": "text"
      },
      "source": [
        "<a href=\"https://colab.research.google.com/github/junxnone/samples/blob/main/python/python_strings.ipynb\" target=\"_parent\"><img src=\"https://colab.research.google.com/assets/colab-badge.svg\" alt=\"Open In Colab\"/></a>"
      ]
    },
    {
      "cell_type": "markdown",
      "metadata": {
        "id": "X2c32x8HcSqX"
      },
      "source": [
        "# [Strings](https://docs.python.org/3/library/stdtypes.html#text-sequence-type-str)"
      ]
    },
    {
      "cell_type": "code",
      "execution_count": 1,
      "metadata": {
        "id": "xD40-MdXcSqc"
      },
      "outputs": [],
      "source": [
        "my_string = \"Python is my favorite programming language!\""
      ]
    },
    {
      "cell_type": "code",
      "execution_count": 2,
      "metadata": {
        "id": "hhgVLWHYcSqe",
        "outputId": "31c2136d-d7b1-40a2-a89d-abc61b4c4696",
        "colab": {
          "base_uri": "https://localhost:8080/",
          "height": 36
        }
      },
      "outputs": [
        {
          "output_type": "execute_result",
          "data": {
            "text/plain": [
              "'Python is my favorite programming language!'"
            ],
            "application/vnd.google.colaboratory.intrinsic+json": {
              "type": "string"
            }
          },
          "metadata": {},
          "execution_count": 2
        }
      ],
      "source": [
        "my_string"
      ]
    },
    {
      "cell_type": "code",
      "execution_count": 3,
      "metadata": {
        "id": "2G-iej9acSqe",
        "outputId": "d7196d58-fdd0-46c4-af2c-b31926148396",
        "colab": {
          "base_uri": "https://localhost:8080/"
        }
      },
      "outputs": [
        {
          "output_type": "execute_result",
          "data": {
            "text/plain": [
              "str"
            ]
          },
          "metadata": {},
          "execution_count": 3
        }
      ],
      "source": [
        "type(my_string)"
      ]
    },
    {
      "cell_type": "code",
      "execution_count": 4,
      "metadata": {
        "id": "POL1zFK-cSqf",
        "outputId": "f269a489-b881-457e-946e-1e3926245fdd",
        "colab": {
          "base_uri": "https://localhost:8080/"
        }
      },
      "outputs": [
        {
          "output_type": "execute_result",
          "data": {
            "text/plain": [
              "43"
            ]
          },
          "metadata": {},
          "execution_count": 4
        }
      ],
      "source": [
        "len(my_string)"
      ]
    },
    {
      "cell_type": "markdown",
      "metadata": {
        "id": "iPZh1pyTcSqf"
      },
      "source": [
        "### Respecting [PEP8](https://www.python.org/dev/peps/pep-0008/#maximum-line-length) with long strings"
      ]
    },
    {
      "cell_type": "code",
      "execution_count": 5,
      "metadata": {
        "id": "5PzcI9ybcSqg",
        "outputId": "a554045f-5c6f-4375-d650-42328f4ce145",
        "colab": {
          "base_uri": "https://localhost:8080/",
          "height": 54
        }
      },
      "outputs": [
        {
          "output_type": "execute_result",
          "data": {
            "text/plain": [
              "'Lorem ipsum dolor sit amet, consectetur adipiscing elit.Pellentesque eget tincidunt felis. Ut ac vestibulum est.In sed ipsum sit amet sapien scelerisque bibendum. Sed sagittis purus eu diam fermentum pellentesque.'"
            ],
            "application/vnd.google.colaboratory.intrinsic+json": {
              "type": "string"
            }
          },
          "metadata": {},
          "execution_count": 5
        }
      ],
      "source": [
        "long_story = (\n",
        "    \"Lorem ipsum dolor sit amet, consectetur adipiscing elit.\"\n",
        "    \"Pellentesque eget tincidunt felis. Ut ac vestibulum est.\"\n",
        "    \"In sed ipsum sit amet sapien scelerisque bibendum. Sed \"\n",
        "    \"sagittis purus eu diam fermentum pellentesque.\"\n",
        ")\n",
        "long_story"
      ]
    },
    {
      "cell_type": "markdown",
      "metadata": {
        "id": "OJQ4l0CocSqg"
      },
      "source": [
        "## `str.replace()`"
      ]
    },
    {
      "cell_type": "markdown",
      "metadata": {
        "id": "ZeYP7dZncSqh"
      },
      "source": [
        "### 使用 `help` 查看相关用法"
      ]
    },
    {
      "cell_type": "code",
      "execution_count": 6,
      "metadata": {
        "id": "JGSdR6aocSqh",
        "outputId": "e1356894-3d22-4f6e-f39a-5ea08aedf06a",
        "colab": {
          "base_uri": "https://localhost:8080/"
        }
      },
      "outputs": [
        {
          "output_type": "stream",
          "name": "stdout",
          "text": [
            "Help on method_descriptor:\n",
            "\n",
            "replace(self, old, new, count=-1, /)\n",
            "    Return a copy with all occurrences of substring old replaced by new.\n",
            "    \n",
            "      count\n",
            "        Maximum number of occurrences to replace.\n",
            "        -1 (the default value) means replace all occurrences.\n",
            "    \n",
            "    If the optional argument count is given, only the first count occurrences are\n",
            "    replaced.\n",
            "\n"
          ]
        }
      ],
      "source": [
        "help(str.replace)"
      ]
    },
    {
      "cell_type": "markdown",
      "metadata": {
        "id": "3EydNea1cSqh"
      },
      "source": [
        "This will not modify `my_string` because replace is not done in-place."
      ]
    },
    {
      "cell_type": "code",
      "execution_count": 7,
      "metadata": {
        "id": "r1X0Pd_gcSqi",
        "outputId": "629c7fb2-1f57-4828-d257-3d8644f9fd53",
        "colab": {
          "base_uri": "https://localhost:8080/"
        }
      },
      "outputs": [
        {
          "output_type": "stream",
          "name": "stdout",
          "text": [
            "Python is my favorite programming language!\n"
          ]
        }
      ],
      "source": [
        "my_string.replace(\"a\", \"?\")\n",
        "print(my_string)"
      ]
    },
    {
      "cell_type": "markdown",
      "metadata": {
        "id": "I1PPZ60ZcSqi"
      },
      "source": [
        "You have to store the return value of `replace` instead."
      ]
    },
    {
      "cell_type": "code",
      "execution_count": 8,
      "metadata": {
        "id": "L3waevwycSqi",
        "outputId": "9ce4c41b-f1c8-45cc-e1bd-ca798ec84674",
        "colab": {
          "base_uri": "https://localhost:8080/"
        }
      },
      "outputs": [
        {
          "output_type": "stream",
          "name": "stdout",
          "text": [
            "Python will be my favorite programming language!\n"
          ]
        }
      ],
      "source": [
        "my_modified_string = my_string.replace(\"is\", \"will be\")\n",
        "print(my_modified_string)"
      ]
    },
    {
      "cell_type": "markdown",
      "metadata": {
        "id": "wlub8-XAcSqi"
      },
      "source": [
        "## f-strings"
      ]
    },
    {
      "cell_type": "code",
      "execution_count": 9,
      "metadata": {
        "id": "DCu7ky1ycSqi",
        "outputId": "ad963d66-108a-4d6b-8923-ec08f0ad9561",
        "colab": {
          "base_uri": "https://localhost:8080/"
        }
      },
      "outputs": [
        {
          "output_type": "stream",
          "name": "stdout",
          "text": [
            "My name is John Doe, you can call me John.\n",
            "I'm 88 years old.\n"
          ]
        }
      ],
      "source": [
        "first_name = \"John\"\n",
        "last_name = \"Doe\"\n",
        "age = 88\n",
        "print(f\"My name is {first_name} {last_name}, you can call me {first_name}.\")\n",
        "print(f\"I'm {age} years old.\")"
      ]
    },
    {
      "cell_type": "code",
      "execution_count": 10,
      "metadata": {
        "id": "WJdqVZHJcSqj",
        "outputId": "59dc219e-431d-4fcd-d5cd-15b575ce55b6",
        "colab": {
          "base_uri": "https://localhost:8080/"
        }
      },
      "outputs": [
        {
          "output_type": "stream",
          "name": "stdout",
          "text": [
            "Use '=' to also print the variable name like this: age=88\n"
          ]
        }
      ],
      "source": [
        "print(f\"Use '=' to also print the variable name like this: {age=}\")"
      ]
    },
    {
      "cell_type": "markdown",
      "metadata": {
        "id": "WYJeL2zOcSqj"
      },
      "source": [
        "## `str.join()`"
      ]
    },
    {
      "cell_type": "code",
      "execution_count": 11,
      "metadata": {
        "id": "1eKH9PCfcSqj"
      },
      "outputs": [],
      "source": [
        "pandas = \"pandas\"\n",
        "numpy = \"numpy\"\n",
        "requests = \"requests\"\n",
        "cool_python_libs = \", \".join([pandas, numpy, requests])"
      ]
    },
    {
      "cell_type": "code",
      "execution_count": 12,
      "metadata": {
        "id": "ThQZlCs9cSqj",
        "outputId": "6b6a9728-00f5-4b1e-aac0-a41754118085",
        "colab": {
          "base_uri": "https://localhost:8080/"
        }
      },
      "outputs": [
        {
          "output_type": "stream",
          "name": "stdout",
          "text": [
            "Some cool python libraries: pandas, numpy, requests\n"
          ]
        }
      ],
      "source": [
        "print(f\"Some cool python libraries: {cool_python_libs}\")"
      ]
    },
    {
      "cell_type": "markdown",
      "metadata": {
        "id": "09RIaq7LcSqj"
      },
      "source": [
        "Alternative (not as [Pythonic](http://docs.python-guide.org/en/latest/writing/style/#idioms) and [slower](https://waymoot.org/home/python_string/)):"
      ]
    },
    {
      "cell_type": "code",
      "execution_count": 13,
      "metadata": {
        "id": "zL1N04klcSqj",
        "outputId": "c39c9b2d-630c-4192-9e48-61fa71d3fdf3",
        "colab": {
          "base_uri": "https://localhost:8080/"
        }
      },
      "outputs": [
        {
          "output_type": "stream",
          "name": "stdout",
          "text": [
            "Some cool python libraries: pandas, numpy, requests\n",
            "Some cool python libraries: pandas, numpy, requests\n"
          ]
        }
      ],
      "source": [
        "cool_python_libs = pandas + \", \" + numpy + \", \" + requests\n",
        "print(f\"Some cool python libraries: {cool_python_libs}\")\n",
        "\n",
        "cool_python_libs = pandas\n",
        "cool_python_libs += \", \" + numpy\n",
        "cool_python_libs += \", \" + requests\n",
        "print(f\"Some cool python libraries: {cool_python_libs}\")"
      ]
    },
    {
      "cell_type": "markdown",
      "metadata": {
        "id": "QwkB2D-tcSqk"
      },
      "source": [
        "## `str.upper(), str.lower(), str.title()`"
      ]
    },
    {
      "cell_type": "code",
      "execution_count": 14,
      "metadata": {
        "id": "6J_jW4FEcSqk"
      },
      "outputs": [],
      "source": [
        "mixed_case = \"PyTHoN hackER\""
      ]
    },
    {
      "cell_type": "code",
      "execution_count": 15,
      "metadata": {
        "id": "KAaN8Ya-cSqk",
        "outputId": "72e36295-5f4b-4345-9062-585ed914bb6c",
        "colab": {
          "base_uri": "https://localhost:8080/",
          "height": 36
        }
      },
      "outputs": [
        {
          "output_type": "execute_result",
          "data": {
            "text/plain": [
              "'PYTHON HACKER'"
            ],
            "application/vnd.google.colaboratory.intrinsic+json": {
              "type": "string"
            }
          },
          "metadata": {},
          "execution_count": 15
        }
      ],
      "source": [
        "mixed_case.upper()"
      ]
    },
    {
      "cell_type": "code",
      "execution_count": 16,
      "metadata": {
        "id": "GVQ34l8JcSqk",
        "outputId": "a2d24538-67b1-4f4a-c794-081f2cdb4480",
        "colab": {
          "base_uri": "https://localhost:8080/",
          "height": 36
        }
      },
      "outputs": [
        {
          "output_type": "execute_result",
          "data": {
            "text/plain": [
              "'python hacker'"
            ],
            "application/vnd.google.colaboratory.intrinsic+json": {
              "type": "string"
            }
          },
          "metadata": {},
          "execution_count": 16
        }
      ],
      "source": [
        "mixed_case.lower()"
      ]
    },
    {
      "cell_type": "code",
      "execution_count": 17,
      "metadata": {
        "id": "2rikz1g5cSqk",
        "outputId": "e8eb80b8-c9b0-4fe6-b252-788a8d9f8103",
        "colab": {
          "base_uri": "https://localhost:8080/",
          "height": 36
        }
      },
      "outputs": [
        {
          "output_type": "execute_result",
          "data": {
            "text/plain": [
              "'Python Hacker'"
            ],
            "application/vnd.google.colaboratory.intrinsic+json": {
              "type": "string"
            }
          },
          "metadata": {},
          "execution_count": 17
        }
      ],
      "source": [
        "mixed_case.title()"
      ]
    },
    {
      "cell_type": "markdown",
      "metadata": {
        "id": "O9o2Fft2cSqk"
      },
      "source": [
        "## `str.strip()`\n",
        "- default: `/n, /r, /t`"
      ]
    },
    {
      "cell_type": "code",
      "source": [
        "help(str.strip)"
      ],
      "metadata": {
        "id": "7IfoOElNdhut",
        "outputId": "967f61ef-e774-476d-9cd9-0a51c4640d3b",
        "colab": {
          "base_uri": "https://localhost:8080/"
        }
      },
      "execution_count": 26,
      "outputs": [
        {
          "output_type": "stream",
          "name": "stdout",
          "text": [
            "Help on method_descriptor:\n",
            "\n",
            "strip(self, chars=None, /)\n",
            "    Return a copy of the string with leading and trailing whitespace removed.\n",
            "    \n",
            "    If chars is given and not None, remove characters in chars instead.\n",
            "\n"
          ]
        }
      ]
    },
    {
      "cell_type": "code",
      "execution_count": 18,
      "metadata": {
        "id": "cMG0rlmHcSqk",
        "outputId": "76920112-6e7c-48d9-edca-daece5d8e26a",
        "colab": {
          "base_uri": "https://localhost:8080/"
        }
      },
      "outputs": [
        {
          "output_type": "stream",
          "name": "stdout",
          "text": [
            "ugly:  \n",
            " \t Some story to tell \n",
            "stripped: Some story to tell\n"
          ]
        }
      ],
      "source": [
        "ugly_formatted = \" \\n \\t Some story to tell \"\n",
        "stripped = ugly_formatted.strip()\n",
        "\n",
        "print(f\"ugly: {ugly_formatted}\")\n",
        "print(f\"stripped: {stripped}\")"
      ]
    },
    {
      "cell_type": "markdown",
      "metadata": {
        "id": "0U1uxCNZcSqk"
      },
      "source": [
        "## `str.split()`"
      ]
    },
    {
      "cell_type": "code",
      "execution_count": 19,
      "metadata": {
        "id": "U2FnBt32cSql",
        "outputId": "27d51c5c-a29a-4f6c-f6c0-c34c373886cd",
        "colab": {
          "base_uri": "https://localhost:8080/"
        }
      },
      "outputs": [
        {
          "output_type": "stream",
          "name": "stdout",
          "text": [
            "['three', 'different', 'words']\n"
          ]
        }
      ],
      "source": [
        "sentence = \"three different words\"\n",
        "words = sentence.split()\n",
        "print(words)"
      ]
    },
    {
      "cell_type": "code",
      "execution_count": 20,
      "metadata": {
        "id": "Vd2Pp_d4cSql",
        "outputId": "99761c63-e9e0-4f34-aa9e-a28ce94223c8",
        "colab": {
          "base_uri": "https://localhost:8080/"
        }
      },
      "outputs": [
        {
          "output_type": "execute_result",
          "data": {
            "text/plain": [
              "list"
            ]
          },
          "metadata": {},
          "execution_count": 20
        }
      ],
      "source": [
        "type(words)"
      ]
    },
    {
      "cell_type": "code",
      "execution_count": 21,
      "metadata": {
        "id": "3eueiHZxcSql",
        "outputId": "faf13cce-3fbe-4368-edd9-688be9bc0298",
        "colab": {
          "base_uri": "https://localhost:8080/"
        }
      },
      "outputs": [
        {
          "output_type": "stream",
          "name": "stdout",
          "text": [
            "['01001', '101101', '11100000']\n"
          ]
        }
      ],
      "source": [
        "secret_binary_data = \"01001,101101,11100000\"\n",
        "binaries = secret_binary_data.split(\",\")\n",
        "print(binaries)"
      ]
    },
    {
      "cell_type": "markdown",
      "metadata": {
        "id": "PICPhCFFcSql"
      },
      "source": [
        "## Calling multiple methods in a row"
      ]
    },
    {
      "cell_type": "code",
      "execution_count": 22,
      "metadata": {
        "id": "ZSSM-U5FcSql",
        "outputId": "48f08f7c-bf83-4675-a3de-47f166e0b956",
        "colab": {
          "base_uri": "https://localhost:8080/"
        }
      },
      "outputs": [
        {
          "output_type": "stream",
          "name": "stdout",
          "text": [
            "this looks good\n"
          ]
        }
      ],
      "source": [
        "ugly_mixed_case = \"   ThIS LooKs BAd \"\n",
        "pretty = ugly_mixed_case.strip().lower().replace(\"bad\", \"good\")\n",
        "print(pretty)"
      ]
    },
    {
      "cell_type": "markdown",
      "metadata": {
        "id": "UnNd2e3ocSql"
      },
      "source": [
        "Note that execution order is from left to right. Thus, this won't work:"
      ]
    },
    {
      "cell_type": "code",
      "execution_count": 23,
      "metadata": {
        "id": "WzG5MARpcSqm",
        "outputId": "be2d7315-78b5-4d03-d83b-29f3b9282dd6",
        "colab": {
          "base_uri": "https://localhost:8080/"
        }
      },
      "outputs": [
        {
          "output_type": "stream",
          "name": "stdout",
          "text": [
            "this looks bad\n"
          ]
        }
      ],
      "source": [
        "pretty = ugly_mixed_case.replace(\"bad\", \"good\").strip().lower()\n",
        "print(pretty)"
      ]
    },
    {
      "cell_type": "markdown",
      "metadata": {
        "id": "RRydH5cUcSqm"
      },
      "source": [
        "## [Escape characters](http://python-reference.readthedocs.io/en/latest/docs/str/escapes.html#escape-characters)"
      ]
    },
    {
      "cell_type": "code",
      "execution_count": 24,
      "metadata": {
        "id": "KU3RjigncSqm",
        "outputId": "52bd3654-7642-41ed-aa30-c500f75c91d0",
        "colab": {
          "base_uri": "https://localhost:8080/"
        }
      },
      "outputs": [
        {
          "output_type": "stream",
          "name": "stdout",
          "text": [
            "First line\n",
            "Second line\n"
          ]
        }
      ],
      "source": [
        "two_lines = \"First line\\nSecond line\"\n",
        "print(two_lines)"
      ]
    },
    {
      "cell_type": "code",
      "execution_count": 25,
      "metadata": {
        "id": "kK6z0yCXcSqt",
        "outputId": "217da336-fd3f-4032-a0ed-a20e695e445f",
        "colab": {
          "base_uri": "https://localhost:8080/"
        }
      },
      "outputs": [
        {
          "output_type": "stream",
          "name": "stdout",
          "text": [
            "\tThis will be indented\n"
          ]
        }
      ],
      "source": [
        "indented = \"\\tThis will be indented\"\n",
        "print(indented)"
      ]
    }
  ],
  "metadata": {
    "kernelspec": {
      "display_name": "Python 3 (ipykernel)",
      "language": "python",
      "name": "python3"
    },
    "language_info": {
      "codemirror_mode": {
        "name": "ipython",
        "version": 3
      },
      "file_extension": ".py",
      "mimetype": "text/x-python",
      "name": "python",
      "nbconvert_exporter": "python",
      "pygments_lexer": "ipython3",
      "version": "3.11.0"
    },
    "colab": {
      "provenance": [],
      "toc_visible": true,
      "include_colab_link": true
    }
  },
  "nbformat": 4,
  "nbformat_minor": 0
}