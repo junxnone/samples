{
  "nbformat": 4,
  "nbformat_minor": 0,
  "metadata": {
    "colab": {
      "name": "python_tqdm.ipynb",
      "provenance": [],
      "include_colab_link": true
    },
    "kernelspec": {
      "name": "python3",
      "display_name": "Python 3"
    }
  },
  "cells": [
    {
      "cell_type": "markdown",
      "metadata": {
        "id": "view-in-github",
        "colab_type": "text"
      },
      "source": [
        "<a href=\"https://colab.research.google.com/github/junxnone/examples/blob/master/python/python_tqdm.ipynb\" target=\"_parent\"><img src=\"https://colab.research.google.com/assets/colab-badge.svg\" alt=\"Open In Colab\"/></a>"
      ]
    },
    {
      "cell_type": "code",
      "metadata": {
        "id": "PIVUckJncPZt",
        "colab_type": "code",
        "colab": {}
      },
      "source": [
        "from tqdm import tqdm\n",
        "from tqdm._tqdm import trange\n",
        "import time"
      ],
      "execution_count": 0,
      "outputs": []
    },
    {
      "cell_type": "markdown",
      "metadata": {
        "id": "9vAGwRtbd7VV",
        "colab_type": "text"
      },
      "source": [
        "- trange"
      ]
    },
    {
      "cell_type": "code",
      "metadata": {
        "id": "C5s2uTRPcmcP",
        "colab_type": "code",
        "outputId": "c34b450a-2f09-4f18-ab9a-1272812337ea",
        "colab": {
          "base_uri": "https://localhost:8080/",
          "height": 34
        }
      },
      "source": [
        "for j in trange(100, desc= 'preprocessing images', unit= ' images'):\n",
        "  time.sleep(0.1)"
      ],
      "execution_count": 2,
      "outputs": [
        {
          "output_type": "stream",
          "text": [
            "preprocessing images: 100%|██████████| 100/100 [00:10<00:00,  9.85 images/s]\n"
          ],
          "name": "stderr"
        }
      ]
    },
    {
      "cell_type": "markdown",
      "metadata": {
        "id": "7zqpGOAmd5Lx",
        "colab_type": "text"
      },
      "source": [
        "- list"
      ]
    },
    {
      "cell_type": "code",
      "metadata": {
        "id": "o8lmuYfGc5Kj",
        "colab_type": "code",
        "outputId": "7d0f5122-e84e-4d82-d0e4-f4169dbf2ab6",
        "colab": {
          "base_uri": "https://localhost:8080/",
          "height": 34
        }
      },
      "source": [
        "for i in tqdm(range(100)):\n",
        "  time.sleep(0.1)"
      ],
      "execution_count": 3,
      "outputs": [
        {
          "output_type": "stream",
          "text": [
            "100%|██████████| 100/100 [00:10<00:00,  9.85it/s]\n"
          ],
          "name": "stderr"
        }
      ]
    },
    {
      "cell_type": "code",
      "metadata": {
        "id": "GW_dhgCQdw5S",
        "colab_type": "code",
        "outputId": "5bee9a53-3b9a-4d34-fd8e-9c9a38f4a49e",
        "colab": {
          "base_uri": "https://localhost:8080/",
          "height": 34
        }
      },
      "source": [
        "text = \"\"\n",
        "for char in tqdm([\"a\", \"b\", \"c\", \"d\"]):\n",
        "    time.sleep(0.25)\n",
        "    text = text + char"
      ],
      "execution_count": 4,
      "outputs": [
        {
          "output_type": "stream",
          "text": [
            "100%|██████████| 4/4 [00:01<00:00,  3.98it/s]\n"
          ],
          "name": "stderr"
        }
      ]
    },
    {
      "cell_type": "markdown",
      "metadata": {
        "id": "igkINhWyeXSr",
        "colab_type": "text"
      },
      "source": [
        "- set_description"
      ]
    },
    {
      "cell_type": "code",
      "metadata": {
        "id": "e7ZXNn3oeB31",
        "colab_type": "code",
        "outputId": "79df46b0-6bd2-4649-a456-ac38a400ffb8",
        "colab": {
          "base_uri": "https://localhost:8080/",
          "height": 34
        }
      },
      "source": [
        "pbar = tqdm([\"a\", \"b\", \"c\", \"d\"])\n",
        "for char in pbar:\n",
        "    time.sleep(0.25)\n",
        "    pbar.set_description(\"Processing %s\" % char)"
      ],
      "execution_count": 5,
      "outputs": [
        {
          "output_type": "stream",
          "text": [
            "Processing d: 100%|██████████| 4/4 [00:01<00:00,  3.95it/s]\n"
          ],
          "name": "stderr"
        }
      ]
    },
    {
      "cell_type": "markdown",
      "metadata": {
        "id": "5XfmAI_peTsr",
        "colab_type": "text"
      },
      "source": [
        "- update"
      ]
    },
    {
      "cell_type": "code",
      "metadata": {
        "id": "Jd4KU5TZeQkp",
        "colab_type": "code",
        "outputId": "f2203985-0521-45de-8226-3112fd810ac4",
        "colab": {
          "base_uri": "https://localhost:8080/",
          "height": 34
        }
      },
      "source": [
        "with tqdm(total=100) as pbar:\n",
        "    for i in range(10):\n",
        "        time.sleep(0.1)\n",
        "        pbar.update(10)"
      ],
      "execution_count": 6,
      "outputs": [
        {
          "output_type": "stream",
          "text": [
            "100%|██████████| 100/100 [00:01<00:00, 98.59it/s]\n"
          ],
          "name": "stderr"
        }
      ]
    },
    {
      "cell_type": "code",
      "metadata": {
        "id": "CWHJLYXKejbi",
        "colab_type": "code",
        "outputId": "8bc4861d-c2a0-4e23-b35d-b43d8265b7eb",
        "colab": {
          "base_uri": "https://localhost:8080/",
          "height": 34
        }
      },
      "source": [
        "pbar = tqdm(total=100)\n",
        "for i in range(10):\n",
        "    time.sleep(0.1)\n",
        "    pbar.update(10)\n",
        "pbar.close()"
      ],
      "execution_count": 7,
      "outputs": [
        {
          "output_type": "stream",
          "text": [
            "100%|██████████| 100/100 [00:01<00:00, 98.67it/s]\n"
          ],
          "name": "stderr"
        }
      ]
    },
    {
      "cell_type": "markdown",
      "metadata": {
        "id": "MjtazQyCkCHW",
        "colab_type": "text"
      },
      "source": [
        "- looks tqdm.pandas not work with jupyter"
      ]
    },
    {
      "cell_type": "code",
      "metadata": {
        "id": "ggeJGMgxhr7-",
        "colab_type": "code",
        "colab": {}
      },
      "source": [
        "# import pandas as pd\n",
        "# import numpy as np\n",
        "# from tqdm import  tqdm\n",
        "\n",
        "\n",
        "# df = pd.DataFrame(np.random.randint(0, 100, (100000, 6)))\n",
        "# tqdm.pandas(desc=\"my bar!\")\n",
        "# df.progress_apply(lambda x: x**2)"
      ],
      "execution_count": 0,
      "outputs": []
    },
    {
      "cell_type": "code",
      "metadata": {
        "id": "iEQjzO_qEkSl",
        "colab_type": "code",
        "outputId": "c9698b41-c1e4-4a23-cf2e-ff58f8ffbeb1",
        "colab": {
          "base_uri": "https://localhost:8080/",
          "height": 153
        }
      },
      "source": [
        "from tqdm import tqdm, trange\n",
        "from time import sleep\n",
        "\n",
        "bar = trange(20)\n",
        "for i in bar:\n",
        "    # Print using tqdm class method .write()\n",
        "    sleep(0.1)\n",
        "    if not (i % 3):\n",
        "        tqdm.write(\"Done task %i\" % i)\n",
        "    # Can also use bar.write()"
      ],
      "execution_count": 9,
      "outputs": [
        {
          "output_type": "stream",
          "text": [
            " 10%|█         | 2/20 [00:00<00:01,  9.71it/s]"
          ],
          "name": "stderr"
        },
        {
          "output_type": "stream",
          "text": [
            "Done task 0\n"
          ],
          "name": "stdout"
        },
        {
          "output_type": "stream",
          "text": [
            " 25%|██▌       | 5/20 [00:00<00:01,  9.73it/s]"
          ],
          "name": "stderr"
        },
        {
          "output_type": "stream",
          "text": [
            "Done task 3\n"
          ],
          "name": "stdout"
        },
        {
          "output_type": "stream",
          "text": [
            " 40%|████      | 8/20 [00:00<00:01,  9.74it/s]"
          ],
          "name": "stderr"
        },
        {
          "output_type": "stream",
          "text": [
            "Done task 6\n"
          ],
          "name": "stdout"
        },
        {
          "output_type": "stream",
          "text": [
            " 55%|█████▌    | 11/20 [00:01<00:00,  9.75it/s]"
          ],
          "name": "stderr"
        },
        {
          "output_type": "stream",
          "text": [
            "Done task 9\n"
          ],
          "name": "stdout"
        },
        {
          "output_type": "stream",
          "text": [
            " 70%|███████   | 14/20 [00:01<00:00,  9.66it/s]"
          ],
          "name": "stderr"
        },
        {
          "output_type": "stream",
          "text": [
            "Done task 12\n"
          ],
          "name": "stdout"
        },
        {
          "output_type": "stream",
          "text": [
            " 85%|████████▌ | 17/20 [00:01<00:00,  9.76it/s]"
          ],
          "name": "stderr"
        },
        {
          "output_type": "stream",
          "text": [
            "Done task 15\n"
          ],
          "name": "stdout"
        },
        {
          "output_type": "stream",
          "text": [
            "100%|██████████| 20/20 [00:02<00:00,  9.65it/s]"
          ],
          "name": "stderr"
        },
        {
          "output_type": "stream",
          "text": [
            "Done task 18\n"
          ],
          "name": "stdout"
        },
        {
          "output_type": "stream",
          "text": [
            "\n"
          ],
          "name": "stderr"
        }
      ]
    },
    {
      "cell_type": "markdown",
      "metadata": {
        "id": "u0IKBgFMDADS",
        "colab_type": "text"
      },
      "source": [
        "- jupyter notebook：tqdm.auto\n",
        "- ThreadPool"
      ]
    },
    {
      "cell_type": "code",
      "metadata": {
        "id": "G9UJUe4tBxSs",
        "colab_type": "code",
        "outputId": "9f0599b5-68c6-469d-99d5-7683a26d1b1e",
        "colab": {
          "base_uri": "https://localhost:8080/",
          "height": 51
        }
      },
      "source": [
        "from time import sleep\n",
        "from tqdm.auto import tqdm, trange\n",
        "from concurrent.futures import ThreadPoolExecutor\n",
        "\n",
        "L = list(range(9))\n",
        "\n",
        "def progresser(n):\n",
        "    interval = 0.001 / (n + 2)\n",
        "    total = 5000\n",
        "    text = \"#{}, est. {:<04.2}s\".format(n, interval * total)\n",
        "    for _ in trange(total, desc=text):\n",
        "        sleep(interval)\n",
        "    if n == 6:\n",
        "        tqdm.write(\"n == 6 completed.\")\n",
        "        tqdm.write(\"`tqdm.write()` is thread-safe in py3!\")\n",
        "\n",
        "if __name__ == '__main__':\n",
        "    with ThreadPoolExecutor() as p:\n",
        "        p.map(progresser, L)"
      ],
      "execution_count": 10,
      "outputs": [
        {
          "output_type": "display_data",
          "data": {
            "application/vnd.jupyter.widget-view+json": {
              "model_id": "a44b4b61322d4f69a37e8dbd9dae6fe6",
              "version_minor": 0,
              "version_major": 2
            },
            "text/plain": [
              "HBox(children=(IntProgress(value=0, description='#1, est. 1.70s', max=5000, style=ProgressStyle(description_wi…"
            ]
          },
          "metadata": {
            "tags": []
          }
        },
        {
          "output_type": "display_data",
          "data": {
            "application/vnd.jupyter.widget-view+json": {
              "model_id": "3b0dadb2b39e4f2e9af792d823efb7a3",
              "version_minor": 0,
              "version_major": 2
            },
            "text/plain": [
              "HBox(children=(IntProgress(value=0, description='#4, est. 0.83s', max=5000, style=ProgressStyle(description_wi…"
            ]
          },
          "metadata": {
            "tags": []
          }
        },
        {
          "output_type": "display_data",
          "data": {
            "application/vnd.jupyter.widget-view+json": {
              "model_id": "2408590c51134a95887d2d17932959a5",
              "version_minor": 0,
              "version_major": 2
            },
            "text/plain": [
              "HBox(children=(IntProgress(value=0, description='#0, est. 2.50s', max=5000, style=ProgressStyle(description_wi…"
            ]
          },
          "metadata": {
            "tags": []
          }
        },
        {
          "output_type": "display_data",
          "data": {
            "application/vnd.jupyter.widget-view+json": {
              "model_id": "a22912282a244aeebcbb349b4e95e734",
              "version_minor": 0,
              "version_major": 2
            },
            "text/plain": [
              "HBox(children=(IntProgress(value=0, description='#3, est. 1.00s', max=5000, style=ProgressStyle(description_wi…"
            ]
          },
          "metadata": {
            "tags": []
          }
        },
        {
          "output_type": "display_data",
          "data": {
            "application/vnd.jupyter.widget-view+json": {
              "model_id": "901a3ea8bfe84252bc4f3c2fb2e475ea",
              "version_minor": 0,
              "version_major": 2
            },
            "text/plain": [
              "HBox(children=(IntProgress(value=0, description='#2, est. 1.20s', max=5000, style=ProgressStyle(description_wi…"
            ]
          },
          "metadata": {
            "tags": []
          }
        },
        {
          "output_type": "display_data",
          "data": {
            "application/vnd.jupyter.widget-view+json": {
              "model_id": "7bd2d398a65c4dac9fd6ef40a758f996",
              "version_minor": 0,
              "version_major": 2
            },
            "text/plain": [
              "HBox(children=(IntProgress(value=0, description='#7, est. 0.56s', max=5000, style=ProgressStyle(description_wi…"
            ]
          },
          "metadata": {
            "tags": []
          }
        },
        {
          "output_type": "display_data",
          "data": {
            "application/vnd.jupyter.widget-view+json": {
              "model_id": "c69a4873c811467db95f82d98021d0a9",
              "version_minor": 0,
              "version_major": 2
            },
            "text/plain": [
              "HBox(children=(IntProgress(value=0, description='#8, est. 0.50s', max=5000, style=ProgressStyle(description_wi…"
            ]
          },
          "metadata": {
            "tags": []
          }
        },
        {
          "output_type": "display_data",
          "data": {
            "application/vnd.jupyter.widget-view+json": {
              "model_id": "47dde65430b84cf29e60d3c69738244e",
              "version_minor": 0,
              "version_major": 2
            },
            "text/plain": [
              "HBox(children=(IntProgress(value=0, description='#5, est. 0.71s', max=5000, style=ProgressStyle(description_wi…"
            ]
          },
          "metadata": {
            "tags": []
          }
        },
        {
          "output_type": "display_data",
          "data": {
            "application/vnd.jupyter.widget-view+json": {
              "model_id": "2809818177164c079f3bddd5f424f801",
              "version_minor": 0,
              "version_major": 2
            },
            "text/plain": [
              "HBox(children=(IntProgress(value=0, description='#6, est. 0.62s', max=5000, style=ProgressStyle(description_wi…"
            ]
          },
          "metadata": {
            "tags": []
          }
        },
        {
          "output_type": "stream",
          "text": [
            "\r\r\r\r\r\rn == 6 completed.\n",
            "\r\r\r\r\r\r`tqdm.write()` is thread-safe in py3!\n"
          ],
          "name": "stdout"
        }
      ]
    },
    {
      "cell_type": "markdown",
      "metadata": {
        "id": "bGbHEfoVC9_t",
        "colab_type": "text"
      },
      "source": [
        "- callback"
      ]
    },
    {
      "cell_type": "code",
      "metadata": {
        "id": "VScocw8lCtLt",
        "colab_type": "code",
        "outputId": "51559b3c-b78e-439f-ed3b-8ffbf07c0b30",
        "colab": {
          "base_uri": "https://localhost:8080/",
          "height": 34
        }
      },
      "source": [
        "import urllib.request, os\n",
        "from tqdm import tqdm\n",
        "\n",
        "class TqdmUpTo(tqdm):\n",
        "    \"\"\"Provides `update_to(n)` which uses `tqdm.update(delta_n)`.\"\"\"\n",
        "    def update_to(self, b=1, bsize=1, tsize=None):\n",
        "        \"\"\"\n",
        "        b  : int, optional\n",
        "            Number of blocks transferred so far [default: 1].\n",
        "        bsize  : int, optional\n",
        "            Size of each block (in tqdm units) [default: 1].\n",
        "        tsize  : int, optional\n",
        "            Total size (in tqdm units). If [default: None] remains unchanged.\n",
        "        \"\"\"\n",
        "        if tsize is not None:\n",
        "            self.total = tsize\n",
        "        self.update(b * bsize - self.n)  # will also set self.n = b * bsize\n",
        "\n",
        "eg_link = \"https://caspersci.uk.to/matryoshka.zip\"\n",
        "with TqdmUpTo(unit='B', unit_scale=True, miniters=1,\n",
        "              desc=eg_link.split('/')[-1]) as t:  # all optional kwargs\n",
        "    urllib.request.urlretrieve(eg_link, filename=os.devnull,\n",
        "                       reporthook=t.update_to, data=None)"
      ],
      "execution_count": 11,
      "outputs": [
        {
          "output_type": "stream",
          "text": [
            "matryoshka.zip: 262kB [00:01, 145kB/s]                           \n"
          ],
          "name": "stderr"
        }
      ]
    },
    {
      "cell_type": "markdown",
      "metadata": {
        "id": "qPMEK92FBHQD",
        "colab_type": "text"
      },
      "source": [
        "# 命令行使用tqdm"
      ]
    },
    {
      "cell_type": "code",
      "metadata": {
        "id": "v9z75rWIAjKa",
        "colab_type": "code",
        "outputId": "b9cd3a78-c6a3-47c4-eefe-745727553b03",
        "colab": {
          "base_uri": "https://localhost:8080/",
          "height": 102
        }
      },
      "source": [
        "!time find . -name '*.py' -type f -exec cat \\{} \\; | wc -l"
      ],
      "execution_count": 12,
      "outputs": [
        {
          "output_type": "stream",
          "text": [
            "0\n",
            "\n",
            "real\t0m0.005s\n",
            "user\t0m0.004s\n",
            "sys\t0m0.006s\n"
          ],
          "name": "stdout"
        }
      ]
    },
    {
      "cell_type": "code",
      "metadata": {
        "id": "fm43mt_4AkQM",
        "colab_type": "code",
        "outputId": "5a3e258a-6312-489a-80d7-629702755477",
        "colab": {
          "base_uri": "https://localhost:8080/",
          "height": 119
        }
      },
      "source": [
        "!time find . -name '*.py' -type f -exec cat \\{} \\; | tqdm | wc -l"
      ],
      "execution_count": 13,
      "outputs": [
        {
          "output_type": "stream",
          "text": [
            "\r0it [00:00, ?it/s]\n",
            "0\n",
            "\n",
            "real\t0m0.054s\n",
            "user\t0m0.040s\n",
            "sys\t0m0.021s\n"
          ],
          "name": "stdout"
        }
      ]
    },
    {
      "cell_type": "code",
      "metadata": {
        "id": "sAmbX5TIAuIE",
        "colab_type": "code",
        "outputId": "e121c0b9-9977-462f-b312-72873b6dd3be",
        "colab": {
          "base_uri": "https://localhost:8080/",
          "height": 34
        }
      },
      "source": [
        "!find /usr/lib -name '*.py' -type f -exec cat \\{} \\; |tqdm --unit loc --unit_scale --total 857366 >> /dev/null"
      ],
      "execution_count": 14,
      "outputs": [
        {
          "output_type": "stream",
          "text": [
            " 71% 607k/857k [00:04<00:01, 139kloc/s]\n"
          ],
          "name": "stdout"
        }
      ]
    }
  ]
}