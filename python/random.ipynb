{
  "nbformat": 4,
  "nbformat_minor": 0,
  "metadata": {
    "colab": {
      "name": "random.ipynb",
      "provenance": [],
      "include_colab_link": true
    },
    "kernelspec": {
      "name": "python3",
      "display_name": "Python 3"
    }
  },
  "cells": [
    {
      "cell_type": "markdown",
      "metadata": {
        "id": "view-in-github",
        "colab_type": "text"
      },
      "source": [
        "<a href=\"https://colab.research.google.com/github/junxnone/examples/blob/master/python/random.ipynb\" target=\"_parent\"><img src=\"https://colab.research.google.com/assets/colab-badge.svg\" alt=\"Open In Colab\"/></a>"
      ]
    },
    {
      "cell_type": "markdown",
      "metadata": {
        "id": "SFiV5VNDh__O",
        "colab_type": "text"
      },
      "source": [
        "# random package\n",
        "- [random](https://docs.python.org/3/library/random.html)\n",
        "- [numpy.random](https://docs.scipy.org/doc/numpy-1.16.0/reference/routines.random.html)\n",
        "- [secrets](https://docs.python.org/3/library/secrets.html#module-secrets)"
      ]
    },
    {
      "cell_type": "code",
      "metadata": {
        "id": "NeI4hrghPd2_",
        "colab_type": "code",
        "colab": {}
      },
      "source": [
        "import numpy as np\n",
        "import secrets\n",
        "import random"
      ],
      "execution_count": 0,
      "outputs": []
    },
    {
      "cell_type": "markdown",
      "metadata": {
        "id": "UVccGp_Vf9up",
        "colab_type": "text"
      },
      "source": [
        "# 1 random\n",
        "> random package 中指定如果用于安全的部分需要使用 secrts package\n",
        "\n",
        "- choice : 在sequence 中随机选择\n",
        "- choices： 在指定 weights的sequence 中随机选择\n",
        "- shuffle: 打乱sequence，直接改变sequence\n",
        "- sample：在sequence 随机选择k个\n",
        "- random ：  [0.0, 1.0)\n",
        "- uniform(a,b) : a<= N <=b\n",
        "- randrange(start,stop[,step]): 从start到stop的范围，指定step 中选择\n",
        "- seed() : 指定随机种子：提供可重复性\n",
        "- Real-valued distributions\n",
        "  - gauss\n",
        "  - betavariate\n",
        "  - expovariate\n",
        "  - gammavariate\n",
        "  - lognormvariate\n",
        "  - normalvariate\n",
        "  - vonmisesvariate\n",
        "  - paretovariate\n",
        "  - weibullvariate"
      ]
    },
    {
      "cell_type": "code",
      "metadata": {
        "id": "1UijqgqXgEPz",
        "colab_type": "code",
        "colab": {
          "base_uri": "https://localhost:8080/",
          "height": 153
        },
        "outputId": "7e1fe5e7-f17b-4d10-8355-712f8691a012"
      },
      "source": [
        "random.seed(10)\n",
        "print(random.random())\n",
        "print(random.uniform(2.5,10.0))\n",
        "print(random.randrange(10))\n",
        "print(random.randrange(0, 101, 2))\n",
        "print(random.choice(['win', 'lose', 'draw']))\n",
        "dest = 'ace two three four'.split()\n",
        "random.shuffle(dest) # return None\n",
        "print(dest) \n",
        "print(random.sample(dest,2))\n",
        "print(random.choices(['red', 'black', 'green'], [18, 18, 2], k=6))"
      ],
      "execution_count": 2,
      "outputs": [
        {
          "output_type": "stream",
          "text": [
            "0.5714025946899135\n",
            "5.716667910063359\n",
            "9\n",
            "0\n",
            "win\n",
            "['ace', 'three', 'two', 'four']\n",
            "['three', 'ace']\n",
            "['black', 'red', 'red', 'green', 'green', 'red']\n"
          ],
          "name": "stdout"
        }
      ]
    },
    {
      "cell_type": "markdown",
      "metadata": {
        "id": "ydIyyRjRgAdz",
        "colab_type": "text"
      },
      "source": [
        "# 2 numpy.random\n",
        "- rand\n",
        "- randn\n",
        "- randint ： [start,end]\n",
        "- random_integers : [start,end)\n",
        "- random_sample\n",
        "- random\n",
        "- ranf\n",
        "- sample\n",
        "- choice : 第一个参数是int或array，最后一个参数类似weights\n",
        "- bytes\n",
        "- shuffle : 多维时，只shuffle 第一维\n",
        "- permutation\n",
        "- distributions\n",
        "  - beta\n",
        "  - gamma\n",
        "  - laplace\n",
        "  - logistic\n",
        "  - normal\n",
        "  - ..."
      ]
    },
    {
      "cell_type": "code",
      "metadata": {
        "id": "W52nrMmiPhc6",
        "colab_type": "code",
        "colab": {
          "base_uri": "https://localhost:8080/",
          "height": 119
        },
        "outputId": "6dc3d23f-c283-41f0-fd3f-1befd93e6f7b"
      },
      "source": [
        "print(np.random.random())\n",
        "print(np.random.rand())\n",
        "print(np.random.randint(1, 100))\n",
        "print(np.random.random_integers(1, 100)) # 不推荐使用"
      ],
      "execution_count": 3,
      "outputs": [
        {
          "output_type": "stream",
          "text": [
            "0.9535307388150521\n",
            "0.5546663848830805\n",
            "67\n",
            "26\n"
          ],
          "name": "stdout"
        },
        {
          "output_type": "stream",
          "text": [
            "/usr/local/lib/python3.6/dist-packages/ipykernel_launcher.py:4: DeprecationWarning: This function is deprecated. Please call randint(1, 100 + 1) instead\n",
            "  after removing the cwd from sys.path.\n"
          ],
          "name": "stderr"
        }
      ]
    },
    {
      "cell_type": "markdown",
      "metadata": {
        "id": "XiKXaViGDyy-",
        "colab_type": "text"
      },
      "source": [
        "## shuffle vs permutation"
      ]
    },
    {
      "cell_type": "code",
      "metadata": {
        "id": "otQq1pzylqjE",
        "colab_type": "code",
        "colab": {
          "base_uri": "https://localhost:8080/",
          "height": 221
        },
        "outputId": "6d75d8f9-fff7-4ec9-e677-ee6b0154c128"
      },
      "source": [
        "arr = np.arange(10)\n",
        "arrp = np.random.permutation(arr)\n",
        "print(arr)\n",
        "print(arrp)\n",
        "np.random.shuffle(arr)\n",
        "print(arr)\n",
        "\n",
        "\n",
        "arr3 = np.arange(9).reshape((3, 3))\n",
        "arr3p = np.random.permutation(arr3)\n",
        "print(arr3)\n",
        "print(arr3p)\n",
        "np.random.shuffle(arr3)\n",
        "print(arr3)\n",
        "\n"
      ],
      "execution_count": 4,
      "outputs": [
        {
          "output_type": "stream",
          "text": [
            "[0 1 2 3 4 5 6 7 8 9]\n",
            "[0 2 3 1 9 8 7 4 6 5]\n",
            "[9 3 1 2 4 8 0 7 5 6]\n",
            "[[0 1 2]\n",
            " [3 4 5]\n",
            " [6 7 8]]\n",
            "[[0 1 2]\n",
            " [3 4 5]\n",
            " [6 7 8]]\n",
            "[[3 4 5]\n",
            " [6 7 8]\n",
            " [0 1 2]]\n"
          ],
          "name": "stdout"
        }
      ]
    },
    {
      "cell_type": "markdown",
      "metadata": {
        "id": "79C4uUtOBIRY",
        "colab_type": "text"
      },
      "source": [
        "# secrets\n",
        "> secure random \n",
        "\n",
        "\n",
        "- secrets.SystemRandom()\n",
        "- secrets.choice() : 随机选择非空sequence\n",
        "- secrets.randbelow(n) ： [0,n)\n",
        "- secrets.randbits(k) : 随机返回k bits int\n",
        "- secrets.token_bytes()\n",
        "- secrets.token_hex()\n",
        "- secrets.token_urlsafe()\n",
        "- secrets.compare_digest()\n",
        "\n",
        "\n",
        "\n"
      ]
    },
    {
      "cell_type": "code",
      "metadata": {
        "id": "LGnANuQEQZS7",
        "colab_type": "code",
        "colab": {
          "base_uri": "https://localhost:8080/",
          "height": 102
        },
        "outputId": "369b1566-3374-4389-9694-185be66b8a01"
      },
      "source": [
        "  print(secrets.randbelow(100)/100.0)\n",
        "  print(secrets.randbits(10))\n",
        "  print(secrets.token_bytes(5))\n",
        "  print(secrets.token_hex(5))\n",
        "  print(secrets.token_urlsafe(5))"
      ],
      "execution_count": 5,
      "outputs": [
        {
          "output_type": "stream",
          "text": [
            "0.6\n",
            "871\n",
            "b'\\xd0L\\x7f\\xe2\\xdf'\n",
            "4ceba71e99\n",
            "bcsRz2o\n"
          ],
          "name": "stdout"
        }
      ]
    },
    {
      "cell_type": "code",
      "metadata": {
        "id": "OkvT9Sq6QBxb",
        "colab_type": "code",
        "colab": {
          "base_uri": "https://localhost:8080/",
          "height": 34
        },
        "outputId": "7fe623cd-9b02-45fd-aa16-7e2766c6a1c6"
      },
      "source": [
        "cnt = 0\n",
        "for i in range(0,100000):\n",
        "  if secrets.randbelow(100)/100.0 < 0.5:\n",
        "    cnt+=1\n",
        "print(cnt)"
      ],
      "execution_count": 6,
      "outputs": [
        {
          "output_type": "stream",
          "text": [
            "49815\n"
          ],
          "name": "stdout"
        }
      ]
    }
  ]
}