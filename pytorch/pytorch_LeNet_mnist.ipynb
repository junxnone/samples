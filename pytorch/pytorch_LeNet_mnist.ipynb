{
  "nbformat": 4,
  "nbformat_minor": 0,
  "metadata": {
    "colab": {
      "name": "pytorch_LeNet_mnist.ipynb",
      "provenance": [],
      "collapsed_sections": [],
      "authorship_tag": "ABX9TyPJUYQN/JQb0rYf8dx0Pn2w",
      "include_colab_link": true
    },
    "kernelspec": {
      "name": "python3",
      "display_name": "Python 3"
    },
    "accelerator": "GPU"
  },
  "cells": [
    {
      "cell_type": "markdown",
      "metadata": {
        "id": "view-in-github",
        "colab_type": "text"
      },
      "source": [
        "<a href=\"https://colab.research.google.com/github/junxnone/examples/blob/master/pytorch/pytorch_LeNet_mnist.ipynb\" target=\"_parent\"><img src=\"https://colab.research.google.com/assets/colab-badge.svg\" alt=\"Open In Colab\"/></a>"
      ]
    },
    {
      "cell_type": "code",
      "metadata": {
        "id": "bCZ23RAhQuQC",
        "colab_type": "code",
        "colab": {}
      },
      "source": [
        "import torch\n",
        "import torch.nn as nn\n",
        "import torch.nn.functional as F\n",
        "import torch.optim as optim\n",
        "from torchvision import datasets,transforms\n",
        "import torchvision\n",
        "from torch.autograd import Variable\n",
        "from torch.utils.data import DataLoader\n",
        "import cv2"
      ],
      "execution_count": 0,
      "outputs": []
    },
    {
      "cell_type": "markdown",
      "metadata": {
        "id": "jYkz5fbUcRV1",
        "colab_type": "text"
      },
      "source": [
        "# 定义 LeNet"
      ]
    },
    {
      "cell_type": "code",
      "metadata": {
        "id": "V0e1R_YKbT0d",
        "colab_type": "code",
        "colab": {}
      },
      "source": [
        "class LeNet(nn.Module):\n",
        "    def __init__(self):\n",
        "        super(LeNet, self).__init__()\n",
        "        self.conv1 = nn.Sequential(\n",
        "            nn.Conv2d(1, 6, 3, 1, 2),\n",
        "            nn.ReLU(),\n",
        "            nn.MaxPool2d(2, 2)\n",
        "        )\n",
        "\n",
        "        self.conv2 = nn.Sequential(\n",
        "            nn.Conv2d(6, 16, 5),\n",
        "            nn.ReLU(),\n",
        "            nn.MaxPool2d(2, 2)\n",
        "        )\n",
        "\n",
        "        self.fc1 = nn.Sequential(\n",
        "            nn.Linear(16 * 5 * 5, 120),\n",
        "            nn.BatchNorm1d(120),\n",
        "            nn.ReLU()\n",
        "        )\n",
        "\n",
        "        self.fc2 = nn.Sequential(\n",
        "            nn.Linear(120, 84),\n",
        "            nn.BatchNorm1d(84),\n",
        "            nn.ReLU()\n",
        "        )\n",
        "\n",
        "        self.fc3 = nn.Linear(84, 10)\n",
        "\n",
        "    #         self.sfx = nn.Softmax()\n",
        "\n",
        "    def forward(self, x):\n",
        "        x = self.conv1(x)\n",
        "        x = self.conv2(x)\n",
        "        #         print(x.shape)\n",
        "        x = x.view(x.size()[0], -1)\n",
        "        x = self.fc1(x)\n",
        "        x = self.fc2(x)\n",
        "        x = self.fc3(x)\n",
        "        #         x = self.sfx(x)\n",
        "        return x"
      ],
      "execution_count": 0,
      "outputs": []
    },
    {
      "cell_type": "markdown",
      "metadata": {
        "id": "VUWISl0UcURe",
        "colab_type": "text"
      },
      "source": [
        "# 预处理数据"
      ]
    },
    {
      "cell_type": "code",
      "metadata": {
        "id": "oBhrP1lNbacV",
        "colab_type": "code",
        "colab": {}
      },
      "source": [
        "batch_size = 64\n",
        "\n",
        "train_dataset = datasets.MNIST(root = './data/',\n",
        "                              train=True,\n",
        "                              transform = transforms.ToTensor(),\n",
        "                              download=True)\n",
        "test_dataset =datasets.MNIST(root = './data/',\n",
        "                            train=False,\n",
        "                            transform=transforms.ToTensor(),\n",
        "                            download=True)\n",
        "\n",
        "train_loader = torch.utils.data.DataLoader(dataset = train_dataset,\n",
        "                                          batch_size = batch_size,\n",
        "                                          shuffle = True)\n",
        "test_loader = torch.utils.data.DataLoader(dataset = test_dataset,\n",
        "                                         batch_size = batch_size,\n",
        "                                         shuffle = False)"
      ],
      "execution_count": 0,
      "outputs": []
    },
    {
      "cell_type": "markdown",
      "metadata": {
        "id": "ZiTOriQJcWN4",
        "colab_type": "text"
      },
      "source": [
        "# 定义Model"
      ]
    },
    {
      "cell_type": "code",
      "metadata": {
        "id": "SqjNkd_nbcsp",
        "colab_type": "code",
        "colab": {}
      },
      "source": [
        "LR = 0.001\n",
        "Momentum = 0.9\n",
        "device = torch.device('cuda' if torch.cuda.is_available() else 'cpu')\n",
        "net = LeNet().to(device)\n",
        "criterion = nn.CrossEntropyLoss()\n",
        "optimizer = optim.SGD(net.parameters(),lr=LR,momentum=Momentum)"
      ],
      "execution_count": 0,
      "outputs": []
    },
    {
      "cell_type": "markdown",
      "metadata": {
        "id": "sqeLJBZJcaSK",
        "colab_type": "text"
      },
      "source": [
        "# Training"
      ]
    },
    {
      "cell_type": "code",
      "metadata": {
        "id": "WI-vVdumbn9p",
        "colab_type": "code",
        "colab": {
          "base_uri": "https://localhost:8080/",
          "height": 170
        },
        "outputId": "4c6be096-1855-4ff3-a939-233222ea07d8"
      },
      "source": [
        "epoch = 1\n",
        "\n",
        "for epoch in range(epoch):\n",
        "    sum_loss = 0.0\n",
        "    for i, data in enumerate(train_loader):\n",
        "        inputs, labels = data\n",
        "        inputs, labels = Variable(inputs).cuda(), Variable(labels).cuda()\n",
        "        optimizer.zero_grad()\n",
        "        outputs = net(inputs)\n",
        "        loss = criterion(outputs, labels)\n",
        "        loss.backward()\n",
        "        optimizer.step()\n",
        "\n",
        "        # print(loss)\n",
        "        sum_loss += loss.item()\n",
        "        if i % 100 == 99:\n",
        "            print('[%d,%d] loss:%.03f' % (epoch + 1, i + 1, sum_loss / 100))\n",
        "            sum_loss = 0.0"
      ],
      "execution_count": 5,
      "outputs": [
        {
          "output_type": "stream",
          "text": [
            "[1,100] loss:1.551\n",
            "[1,200] loss:0.761\n",
            "[1,300] loss:0.495\n",
            "[1,400] loss:0.365\n",
            "[1,500] loss:0.303\n",
            "[1,600] loss:0.255\n",
            "[1,700] loss:0.225\n",
            "[1,800] loss:0.196\n",
            "[1,900] loss:0.184\n"
          ],
          "name": "stdout"
        }
      ]
    },
    {
      "cell_type": "markdown",
      "metadata": {
        "id": "bLQ54HwPcceY",
        "colab_type": "text"
      },
      "source": [
        "# Test"
      ]
    },
    {
      "cell_type": "code",
      "metadata": {
        "id": "rdQlU2xcbj2e",
        "colab_type": "code",
        "colab": {
          "base_uri": "https://localhost:8080/",
          "height": 51
        },
        "outputId": "04a078f8-e425-4824-9f44-a77ec819d392"
      },
      "source": [
        "net.eval()\n",
        "correct = 0\n",
        "total = 0\n",
        "for data_test in test_loader:\n",
        "    images, labels = data_test\n",
        "    images, labels = Variable(images).cuda(), Variable(labels).cuda()\n",
        "    output_test = net(images)\n",
        "    # print(\"output_test:\",output_test.shape)\n",
        "\n",
        "    _, predicted = torch.max(output_test, 1)\n",
        "    # print(\"predicted:\",predicted.shape)\n",
        "    total += labels.size(0)\n",
        "    correct += (predicted == labels).sum()\n",
        "print(\"correct1: \",correct)\n",
        "print(\"Test acc: {0}\".format(correct.item() / len(test_dataset)))#.cpu().numpy()"
      ],
      "execution_count": 6,
      "outputs": [
        {
          "output_type": "stream",
          "text": [
            "correct1:  tensor(9688, device='cuda:0')\n",
            "Test acc: 0.9688\n"
          ],
          "name": "stdout"
        }
      ]
    }
  ]
}