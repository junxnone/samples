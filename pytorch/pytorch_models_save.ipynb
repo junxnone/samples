{
  "nbformat": 4,
  "nbformat_minor": 0,
  "metadata": {
    "colab": {
      "provenance": [],
      "authorship_tag": "ABX9TyMWNxarCeJ2X4UOHqW9h1cI",
      "include_colab_link": true
    },
    "kernelspec": {
      "name": "python3",
      "display_name": "Python 3"
    },
    "language_info": {
      "name": "python"
    }
  },
  "cells": [
    {
      "cell_type": "markdown",
      "metadata": {
        "id": "view-in-github",
        "colab_type": "text"
      },
      "source": [
        "<a href=\"https://colab.research.google.com/github/junxnone/samples/blob/main/pytorch/pytorch_models_save.ipynb\" target=\"_parent\"><img src=\"https://colab.research.google.com/assets/colab-badge.svg\" alt=\"Open In Colab\"/></a>"
      ]
    },
    {
      "cell_type": "code",
      "execution_count": 1,
      "metadata": {
        "colab": {
          "base_uri": "https://localhost:8080/"
        },
        "id": "9bnzcGELdaEq",
        "outputId": "d82b44d4-9682-4cb2-9e91-10c7dee6c9b8"
      },
      "outputs": [
        {
          "output_type": "stream",
          "name": "stdout",
          "text": [
            "Collecting torchinfo\n",
            "  Downloading torchinfo-1.8.0-py3-none-any.whl.metadata (21 kB)\n",
            "Downloading torchinfo-1.8.0-py3-none-any.whl (23 kB)\n",
            "Installing collected packages: torchinfo\n",
            "Successfully installed torchinfo-1.8.0\n"
          ]
        }
      ],
      "source": [
        "!pip install torchinfo"
      ]
    },
    {
      "cell_type": "code",
      "source": [
        "from torchinfo import summary\n",
        "import torch\n",
        "from torch import nn\n",
        "\n",
        "class LSTMNet(nn.Module):\n",
        "    def __init__(self, vocab_size=20, embed_dim=300, hidden_dim=512, num_layers=2):\n",
        "        super().__init__()\n",
        "        self.hidden_dim = hidden_dim\n",
        "        self.embedding = nn.Embedding(vocab_size, embed_dim)\n",
        "        self.encoder = nn.LSTM(embed_dim, hidden_dim, num_layers=num_layers, batch_first=True)\n",
        "        self.decoder = nn.Linear(hidden_dim, vocab_size)\n",
        "\n",
        "    def forward(self, x):\n",
        "        embed = self.embedding(x)\n",
        "        out, hidden = self.encoder(embed)\n",
        "        out = self.decoder(out)\n",
        "        out = out.view(-1, out.size(2))\n",
        "        return out, hidden\n",
        "\n",
        "summary(\n",
        "    LSTMNet(),\n",
        "    (1, 100),\n",
        "    dtypes=[torch.long],\n",
        "    verbose=0,\n",
        "    col_width=16,\n",
        "    col_names=[\"kernel_size\", \"output_size\", \"num_params\", \"mult_adds\"],\n",
        "    row_settings=[\"var_names\"],\n",
        ")"
      ],
      "metadata": {
        "colab": {
          "base_uri": "https://localhost:8080/"
        },
        "id": "27HWeBtVdr8z",
        "outputId": "e7acae36-bb3a-44c2-945f-b153e3c88beb"
      },
      "execution_count": 30,
      "outputs": [
        {
          "output_type": "execute_result",
          "data": {
            "text/plain": [
              "========================================================================================================\n",
              "Layer (type (var_name))                  Kernel Shape     Output Shape     Param #          Mult-Adds\n",
              "========================================================================================================\n",
              "LSTMNet (LSTMNet)                        --               [100, 20]        --               --\n",
              "├─Embedding (embedding)                  --               [1, 100, 300]    6,000            6,000\n",
              "├─LSTM (encoder)                         --               [1, 100, 512]    3,768,320        376,832,000\n",
              "├─Linear (decoder)                       --               [1, 100, 20]     10,260           10,260\n",
              "========================================================================================================\n",
              "Total params: 3,784,580\n",
              "Trainable params: 3,784,580\n",
              "Non-trainable params: 0\n",
              "Total mult-adds (M): 376.85\n",
              "========================================================================================================\n",
              "Input size (MB): 0.00\n",
              "Forward/backward pass size (MB): 0.67\n",
              "Params size (MB): 15.14\n",
              "Estimated Total Size (MB): 15.80\n",
              "========================================================================================================"
            ]
          },
          "metadata": {},
          "execution_count": 30
        }
      ]
    },
    {
      "cell_type": "markdown",
      "source": [
        "# 保存结构和参数"
      ],
      "metadata": {
        "id": "oM8OxLIBeqi4"
      }
    },
    {
      "cell_type": "code",
      "source": [
        "torch.save(LSTMNet(), 'LSTMNet.pt')\n",
        "load_model = torch.load(\"LSTMNet.pt\")"
      ],
      "metadata": {
        "id": "NpAdigd0d5PW"
      },
      "execution_count": 7,
      "outputs": []
    },
    {
      "cell_type": "code",
      "source": [
        "!ls LSTMNet.pt -alh"
      ],
      "metadata": {
        "colab": {
          "base_uri": "https://localhost:8080/"
        },
        "id": "XgaSc7u5emzE",
        "outputId": "14471fb6-ed3a-442c-daaa-ef8e8889d39d"
      },
      "execution_count": 10,
      "outputs": [
        {
          "output_type": "stream",
          "name": "stdout",
          "text": [
            "-rw-r--r-- 1 root root 15M Aug  5 07:38 LSTMNet.pt\n"
          ]
        }
      ]
    },
    {
      "cell_type": "code",
      "source": [
        "type(load_model)"
      ],
      "metadata": {
        "colab": {
          "base_uri": "https://localhost:8080/",
          "height": 186
        },
        "id": "0yZ4itTDelPq",
        "outputId": "c46c1b28-e8a0-4ecc-f56f-8d43eaddeaa8"
      },
      "execution_count": 9,
      "outputs": [
        {
          "output_type": "execute_result",
          "data": {
            "text/plain": [
              "__main__.LSTMNet"
            ],
            "text/html": [
              "<div style=\"max-width:800px; border: 1px solid var(--colab-border-color);\"><style>\n",
              "      pre.function-repr-contents {\n",
              "        overflow-x: auto;\n",
              "        padding: 8px 12px;\n",
              "        max-height: 500px;\n",
              "      }\n",
              "\n",
              "      pre.function-repr-contents.function-repr-contents-collapsed {\n",
              "        cursor: pointer;\n",
              "        max-height: 100px;\n",
              "      }\n",
              "    </style>\n",
              "    <pre style=\"white-space: initial; background:\n",
              "         var(--colab-secondary-surface-color); padding: 8px 12px;\n",
              "         border-bottom: 1px solid var(--colab-border-color);\"><b>LSTMNet</b><br/>def _wrapped_call_impl(*args, **kwargs)</pre><pre class=\"function-repr-contents function-repr-contents-collapsed\" style=\"\"><a class=\"filepath\" style=\"display:none\" href=\"#\"></a>Base class for all neural network modules.\n",
              "\n",
              "Your models should also subclass this class.\n",
              "\n",
              "Modules can also contain other Modules, allowing to nest them in\n",
              "a tree structure. You can assign the submodules as regular attributes::\n",
              "\n",
              "    import torch.nn as nn\n",
              "    import torch.nn.functional as F\n",
              "\n",
              "    class Model(nn.Module):\n",
              "        def __init__(self):\n",
              "            super().__init__()\n",
              "            self.conv1 = nn.Conv2d(1, 20, 5)\n",
              "            self.conv2 = nn.Conv2d(20, 20, 5)\n",
              "\n",
              "        def forward(self, x):\n",
              "            x = F.relu(self.conv1(x))\n",
              "            return F.relu(self.conv2(x))\n",
              "\n",
              "Submodules assigned in this way will be registered, and will have their\n",
              "parameters converted too when you call :meth:`to`, etc.\n",
              "\n",
              ".. note::\n",
              "    As per the example above, an ``__init__()`` call to the parent class\n",
              "    must be made before assignment on the child.\n",
              "\n",
              ":ivar training: Boolean represents whether this module is in training or\n",
              "                evaluation mode.\n",
              ":vartype training: bool</pre></div>"
            ]
          },
          "metadata": {},
          "execution_count": 9
        }
      ]
    },
    {
      "cell_type": "code",
      "source": [
        "summary(\n",
        "    load_model,\n",
        "    (1, 100),\n",
        "    dtypes=[torch.long],\n",
        "    verbose=2,\n",
        "    col_width=16,\n",
        "    col_names=[\"kernel_size\", \"output_size\", \"num_params\", \"mult_adds\"],\n",
        "    row_settings=[\"var_names\"],\n",
        ")"
      ],
      "metadata": {
        "colab": {
          "base_uri": "https://localhost:8080/"
        },
        "id": "p9y9bDfUezkX",
        "outputId": "1cea763d-4149-433a-ecbe-eaa9658ce184"
      },
      "execution_count": 12,
      "outputs": [
        {
          "output_type": "stream",
          "name": "stdout",
          "text": [
            "========================================================================================================\n",
            "Layer (type (var_name))                  Kernel Shape     Output Shape     Param #          Mult-Adds\n",
            "========================================================================================================\n",
            "LSTMNet (LSTMNet)                        --               [100, 20]        --               --\n",
            "├─Embedding (embedding)                  --               [1, 100, 300]    6,000            6,000\n",
            "│    └─weight                            [300, 20]                         └─6,000\n",
            "├─LSTM (encoder)                         --               [1, 100, 512]    3,768,320        376,832,000\n",
            "│    └─weight_ih_l0                      [2048, 300]                       ├─614,400\n",
            "│    └─weight_hh_l0                      [2048, 512]                       ├─1,048,576\n",
            "│    └─bias_ih_l0                        [2048]                            ├─2,048\n",
            "│    └─bias_hh_l0                        [2048]                            ├─2,048\n",
            "│    └─weight_ih_l1                      [2048, 512]                       ├─1,048,576\n",
            "│    └─weight_hh_l1                      [2048, 512]                       ├─1,048,576\n",
            "│    └─bias_ih_l1                        [2048]                            ├─2,048\n",
            "│    └─bias_hh_l1                        [2048]                            └─2,048\n",
            "├─Linear (decoder)                       --               [1, 100, 20]     10,260           10,260\n",
            "│    └─weight                            [512, 20]                         ├─10,240\n",
            "│    └─bias                              [20]                              └─20\n",
            "========================================================================================================\n",
            "Total params: 3,784,580\n",
            "Trainable params: 3,784,580\n",
            "Non-trainable params: 0\n",
            "Total mult-adds (M): 376.85\n",
            "========================================================================================================\n",
            "Input size (MB): 0.00\n",
            "Forward/backward pass size (MB): 0.67\n",
            "Params size (MB): 15.14\n",
            "Estimated Total Size (MB): 15.80\n",
            "========================================================================================================\n"
          ]
        },
        {
          "output_type": "execute_result",
          "data": {
            "text/plain": [
              "========================================================================================================\n",
              "Layer (type (var_name))                  Kernel Shape     Output Shape     Param #          Mult-Adds\n",
              "========================================================================================================\n",
              "LSTMNet (LSTMNet)                        --               [100, 20]        --               --\n",
              "├─Embedding (embedding)                  --               [1, 100, 300]    6,000            6,000\n",
              "│    └─weight                            [300, 20]                         └─6,000\n",
              "├─LSTM (encoder)                         --               [1, 100, 512]    3,768,320        376,832,000\n",
              "│    └─weight_ih_l0                      [2048, 300]                       ├─614,400\n",
              "│    └─weight_hh_l0                      [2048, 512]                       ├─1,048,576\n",
              "│    └─bias_ih_l0                        [2048]                            ├─2,048\n",
              "│    └─bias_hh_l0                        [2048]                            ├─2,048\n",
              "│    └─weight_ih_l1                      [2048, 512]                       ├─1,048,576\n",
              "│    └─weight_hh_l1                      [2048, 512]                       ├─1,048,576\n",
              "│    └─bias_ih_l1                        [2048]                            ├─2,048\n",
              "│    └─bias_hh_l1                        [2048]                            └─2,048\n",
              "├─Linear (decoder)                       --               [1, 100, 20]     10,260           10,260\n",
              "│    └─weight                            [512, 20]                         ├─10,240\n",
              "│    └─bias                              [20]                              └─20\n",
              "========================================================================================================\n",
              "Total params: 3,784,580\n",
              "Trainable params: 3,784,580\n",
              "Non-trainable params: 0\n",
              "Total mult-adds (M): 376.85\n",
              "========================================================================================================\n",
              "Input size (MB): 0.00\n",
              "Forward/backward pass size (MB): 0.67\n",
              "Params size (MB): 15.14\n",
              "Estimated Total Size (MB): 15.80\n",
              "========================================================================================================"
            ]
          },
          "metadata": {},
          "execution_count": 12
        }
      ]
    },
    {
      "cell_type": "markdown",
      "source": [
        "## 仅保存参数\n",
        "- 用于模型加载保存的不同的权重"
      ],
      "metadata": {
        "id": "DCWYBOr1hlxm"
      }
    },
    {
      "cell_type": "code",
      "source": [
        "torch.save(LSTMNet().state_dict(), 'LSTMNet_state_dict.pt')\n",
        "load_model = LSTMNet()\n",
        "state_dict = torch.load(\"LSTMNet_state_dict.pt\")\n",
        "print(type(state_dict))\n",
        "load_model.load_state_dict(state_dict)\n",
        "print(type(load_model))\n",
        "!ls LSTMNet_state_dict.pt -alh\n",
        "summary(\n",
        "    load_model,\n",
        "    (1, 100),\n",
        "    dtypes=[torch.long],\n",
        "    verbose=2,\n",
        "    col_width=16,\n",
        "    col_names=[\"kernel_size\", \"output_size\", \"num_params\", \"mult_adds\"],\n",
        "    row_settings=[\"var_names\"],\n",
        ")\n"
      ],
      "metadata": {
        "colab": {
          "base_uri": "https://localhost:8080/"
        },
        "id": "Sd-b85x6e7mS",
        "outputId": "a2bdc155-f89f-43cb-f095-7c098667fbcf"
      },
      "execution_count": 24,
      "outputs": [
        {
          "output_type": "stream",
          "name": "stdout",
          "text": [
            "<class 'collections.OrderedDict'>\n",
            "<class '__main__.LSTMNet'>\n",
            "-rw-r--r-- 1 root root 15M Aug  5 07:51 LSTMNet_state_dict.pt\n",
            "========================================================================================================\n",
            "Layer (type (var_name))                  Kernel Shape     Output Shape     Param #          Mult-Adds\n",
            "========================================================================================================\n",
            "LSTMNet (LSTMNet)                        --               [100, 20]        --               --\n",
            "├─Embedding (embedding)                  --               [1, 100, 300]    6,000            6,000\n",
            "│    └─weight                            [300, 20]                         └─6,000\n",
            "├─LSTM (encoder)                         --               [1, 100, 512]    3,768,320        376,832,000\n",
            "│    └─weight_ih_l0                      [2048, 300]                       ├─614,400\n",
            "│    └─weight_hh_l0                      [2048, 512]                       ├─1,048,576\n",
            "│    └─bias_ih_l0                        [2048]                            ├─2,048\n",
            "│    └─bias_hh_l0                        [2048]                            ├─2,048\n",
            "│    └─weight_ih_l1                      [2048, 512]                       ├─1,048,576\n",
            "│    └─weight_hh_l1                      [2048, 512]                       ├─1,048,576\n",
            "│    └─bias_ih_l1                        [2048]                            ├─2,048\n",
            "│    └─bias_hh_l1                        [2048]                            └─2,048\n",
            "├─Linear (decoder)                       --               [1, 100, 20]     10,260           10,260\n",
            "│    └─weight                            [512, 20]                         ├─10,240\n",
            "│    └─bias                              [20]                              └─20\n",
            "========================================================================================================\n",
            "Total params: 3,784,580\n",
            "Trainable params: 3,784,580\n",
            "Non-trainable params: 0\n",
            "Total mult-adds (M): 376.85\n",
            "========================================================================================================\n",
            "Input size (MB): 0.00\n",
            "Forward/backward pass size (MB): 0.67\n",
            "Params size (MB): 15.14\n",
            "Estimated Total Size (MB): 15.80\n",
            "========================================================================================================\n"
          ]
        },
        {
          "output_type": "execute_result",
          "data": {
            "text/plain": [
              "========================================================================================================\n",
              "Layer (type (var_name))                  Kernel Shape     Output Shape     Param #          Mult-Adds\n",
              "========================================================================================================\n",
              "LSTMNet (LSTMNet)                        --               [100, 20]        --               --\n",
              "├─Embedding (embedding)                  --               [1, 100, 300]    6,000            6,000\n",
              "│    └─weight                            [300, 20]                         └─6,000\n",
              "├─LSTM (encoder)                         --               [1, 100, 512]    3,768,320        376,832,000\n",
              "│    └─weight_ih_l0                      [2048, 300]                       ├─614,400\n",
              "│    └─weight_hh_l0                      [2048, 512]                       ├─1,048,576\n",
              "│    └─bias_ih_l0                        [2048]                            ├─2,048\n",
              "│    └─bias_hh_l0                        [2048]                            ├─2,048\n",
              "│    └─weight_ih_l1                      [2048, 512]                       ├─1,048,576\n",
              "│    └─weight_hh_l1                      [2048, 512]                       ├─1,048,576\n",
              "│    └─bias_ih_l1                        [2048]                            ├─2,048\n",
              "│    └─bias_hh_l1                        [2048]                            └─2,048\n",
              "├─Linear (decoder)                       --               [1, 100, 20]     10,260           10,260\n",
              "│    └─weight                            [512, 20]                         ├─10,240\n",
              "│    └─bias                              [20]                              └─20\n",
              "========================================================================================================\n",
              "Total params: 3,784,580\n",
              "Trainable params: 3,784,580\n",
              "Non-trainable params: 0\n",
              "Total mult-adds (M): 376.85\n",
              "========================================================================================================\n",
              "Input size (MB): 0.00\n",
              "Forward/backward pass size (MB): 0.67\n",
              "Params size (MB): 15.14\n",
              "Estimated Total Size (MB): 15.80\n",
              "========================================================================================================"
            ]
          },
          "metadata": {},
          "execution_count": 24
        }
      ]
    },
    {
      "cell_type": "code",
      "source": [
        "type(state_dict)\n",
        "for key in state_dict.keys():\n",
        "    print(f'{key}  : {state_dict[key].shape}')\n"
      ],
      "metadata": {
        "colab": {
          "base_uri": "https://localhost:8080/"
        },
        "id": "Mkht8TLWf-7P",
        "outputId": "203e8013-3c36-4e56-e4c0-3b269418587c"
      },
      "execution_count": 25,
      "outputs": [
        {
          "output_type": "stream",
          "name": "stdout",
          "text": [
            "embedding.weight  : torch.Size([20, 300])\n",
            "encoder.weight_ih_l0  : torch.Size([2048, 300])\n",
            "encoder.weight_hh_l0  : torch.Size([2048, 512])\n",
            "encoder.bias_ih_l0  : torch.Size([2048])\n",
            "encoder.bias_hh_l0  : torch.Size([2048])\n",
            "encoder.weight_ih_l1  : torch.Size([2048, 512])\n",
            "encoder.weight_hh_l1  : torch.Size([2048, 512])\n",
            "encoder.bias_ih_l1  : torch.Size([2048])\n",
            "encoder.bias_hh_l1  : torch.Size([2048])\n",
            "decoder.weight  : torch.Size([20, 512])\n",
            "decoder.bias  : torch.Size([20])\n"
          ]
        }
      ]
    }
  ]
}