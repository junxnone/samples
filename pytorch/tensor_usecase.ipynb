{
  "nbformat": 4,
  "nbformat_minor": 0,
  "metadata": {
    "colab": {
      "name": "tensor_usecase.ipynb",
      "provenance": [],
      "authorship_tag": "ABX9TyO08Ns40F/zNBGb/bQnByzf",
      "include_colab_link": true
    },
    "kernelspec": {
      "name": "python3",
      "display_name": "Python 3"
    }
  },
  "cells": [
    {
      "cell_type": "markdown",
      "metadata": {
        "id": "view-in-github",
        "colab_type": "text"
      },
      "source": [
        "<a href=\"https://colab.research.google.com/github/junxnone/examples/blob/master/pytorch/tensor_usecase.ipynb\" target=\"_parent\"><img src=\"https://colab.research.google.com/assets/colab-badge.svg\" alt=\"Open In Colab\"/></a>"
      ]
    },
    {
      "cell_type": "code",
      "metadata": {
        "id": "a3Lr_hNQFNlF"
      },
      "source": [
        "%matplotlib inline\r\n",
        "import seaborn as sns\r\n",
        "import matplotlib.pyplot as plt\r\n",
        "import torch"
      ],
      "execution_count": 1,
      "outputs": []
    },
    {
      "cell_type": "code",
      "metadata": {
        "id": "kfqzx70hFjP6"
      },
      "source": [
        "def plot_matrix(m, dfmt = '.1f'):\r\n",
        "  f, ax = plt.subplots(figsize=tuple(m.T.size()))\r\n",
        "  ax = sns.heatmap(m, annot=True, fmt=dfmt,cbar=False)"
      ],
      "execution_count": 2,
      "outputs": []
    },
    {
      "cell_type": "markdown",
      "metadata": {
        "id": "-ywTyKDuHXNr"
      },
      "source": [
        "# APIs\r\n",
        "\r\n",
        "method | Description\r\n",
        "-- | --\r\n",
        "torch.ones() | 创建值为`1`的tensor\r\n",
        "torch.empty() | 创建值为空tensor，不初始化\r\n",
        "torch.rand() | 随机数 tensor\r\n",
        "torch.tensor() | 根据输入创建 tensor\r\n",
        "tensor.new_ones() | 创建相同 dtype 的 tensor 值为 1 \r\n",
        "torch.vstack() | 竖直拼接\r\n",
        "torch.hstack() | 水平拼接\r\n",
        "torch.where() | 条件选择\r\n",
        "torch.transpose() | 转置\r\n",
        "torch.reshape() | 改变形状\r\n",
        "torch.full() | 创建值为 x 的 tensor\r\n",
        "torch.eye() | 对角tensor\r\n",
        "\r\n"
      ]
    },
    {
      "cell_type": "code",
      "metadata": {
        "colab": {
          "base_uri": "https://localhost:8080/",
          "height": 157
        },
        "id": "sE2yprzDFgNx",
        "outputId": "e0248b38-5417-4626-dc2d-719b6685eb76"
      },
      "source": [
        "x = torch.ones(2, 2)\r\n",
        "plot_matrix(x)"
      ],
      "execution_count": 3,
      "outputs": [
        {
          "output_type": "display_data",
          "data": {
            "image/png": "[encoded data removed]",
            "text/plain": [
              "<Figure size 144x144 with 1 Axes>"
            ]
          },
          "metadata": {
            "tags": [],
            "needs_background": "light"
          }
        }
      ]
    },
    {
      "cell_type": "code",
      "metadata": {
        "colab": {
          "base_uri": "https://localhost:8080/",
          "height": 157
        },
        "id": "POu_GMfAFmtX",
        "outputId": "8c6e96ca-43a1-432d-90ff-1dde8e360d06"
      },
      "source": [
        "x = torch.rand(2,2)\r\n",
        "plot_matrix(x)"
      ],
      "execution_count": 4,
      "outputs": [
        {
          "output_type": "display_data",
          "data": {
            "image/png": "[encoded data removed]",
            "text/plain": [
              "<Figure size 144x144 with 1 Axes>"
            ]
          },
          "metadata": {
            "tags": [],
            "needs_background": "light"
          }
        }
      ]
    },
    {
      "cell_type": "code",
      "metadata": {
        "colab": {
          "base_uri": "https://localhost:8080/",
          "height": 157
        },
        "id": "oYH7kr6mJC4x",
        "outputId": "018528ab-1d29-41bb-a23d-7a0db0334c4f"
      },
      "source": [
        "x = torch.zeros(2,2)\r\n",
        "plot_matrix(x)"
      ],
      "execution_count": 5,
      "outputs": [
        {
          "output_type": "display_data",
          "data": {
            "image/png": "[encoded data removed]",
            "text/plain": [
              "<Figure size 144x144 with 1 Axes>"
            ]
          },
          "metadata": {
            "tags": [],
            "needs_background": "light"
          }
        }
      ]
    },
    {
      "cell_type": "code",
      "metadata": {
        "colab": {
          "base_uri": "https://localhost:8080/",
          "height": 157
        },
        "id": "BOaJdZDLJLdT",
        "outputId": "7228af5e-0c54-4997-b45f-90c768dfc40a"
      },
      "source": [
        "x = torch.tensor([[5.5, 3],[4, 8]])\r\n",
        "plot_matrix(x)"
      ],
      "execution_count": 6,
      "outputs": [
        {
          "output_type": "display_data",
          "data": {
            "image/png": "[encoded data removed]",
            "text/plain": [
              "<Figure size 144x144 with 1 Axes>"
            ]
          },
          "metadata": {
            "tags": [],
            "needs_background": "light"
          }
        }
      ]
    },
    {
      "cell_type": "code",
      "metadata": {
        "colab": {
          "base_uri": "https://localhost:8080/",
          "height": 320
        },
        "id": "gA8v3MzxJSoM",
        "outputId": "6e54926d-e879-447c-e1cf-7f523fd7956e"
      },
      "source": [
        "x = x.new_ones(5, 3, dtype=torch.double)\r\n",
        "plot_matrix(x)"
      ],
      "execution_count": 7,
      "outputs": [
        {
          "output_type": "display_data",
          "data": {
            "image/png": "[encoded data removed]",
            "text/plain": [
              "<Figure size 216x360 with 1 Axes>"
            ]
          },
          "metadata": {
            "tags": [],
            "needs_background": "light"
          }
        }
      ]
    },
    {
      "cell_type": "code",
      "metadata": {
        "colab": {
          "base_uri": "https://localhost:8080/"
        },
        "id": "y40E1KxhJcdi",
        "outputId": "c2f2e3c0-287c-46f2-b514-96e21a8623e3"
      },
      "source": [
        "print(x.size())\r\n",
        "print(torch.is_tensor(x))\r\n",
        "print(torch.is_complex(x))\r\n",
        "print(torch.is_floating_point(x))\r\n",
        "print(torch.is_nonzero(x[0][0]))\r\n",
        "print(torch.numel(x))"
      ],
      "execution_count": 8,
      "outputs": [
        {
          "output_type": "stream",
          "text": [
            "torch.Size([5, 3])\n",
            "True\n",
            "False\n",
            "True\n",
            "True\n",
            "15\n"
          ],
          "name": "stdout"
        }
      ]
    },
    {
      "cell_type": "code",
      "metadata": {
        "colab": {
          "base_uri": "https://localhost:8080/",
          "height": 211
        },
        "id": "oHCvmcMrqgsm",
        "outputId": "c6ff417a-841d-442e-8ef2-b8a7e62925a0"
      },
      "source": [
        "x = torch.eye(3,3)\r\n",
        "plot_matrix(x)"
      ],
      "execution_count": 9,
      "outputs": [
        {
          "output_type": "display_data",
          "data": {
            "image/png": "[encoded data removed]",
            "text/plain": [
              "<Figure size 216x216 with 1 Axes>"
            ]
          },
          "metadata": {
            "tags": [],
            "needs_background": "light"
          }
        }
      ]
    },
    {
      "cell_type": "code",
      "metadata": {
        "colab": {
          "base_uri": "https://localhost:8080/",
          "height": 211
        },
        "id": "zGlSwI9usixy",
        "outputId": "124c1f98-a132-45aa-813a-7f4f8325982f"
      },
      "source": [
        "y = torch.full((3,3), 6)\r\n",
        "plot_matrix(y, '')"
      ],
      "execution_count": 10,
      "outputs": [
        {
          "output_type": "display_data",
          "data": {
            "image/png": "[encoded data removed]",
            "text/plain": [
              "<Figure size 216x216 with 1 Axes>"
            ]
          },
          "metadata": {
            "tags": [],
            "needs_background": "light"
          }
        }
      ]
    },
    {
      "cell_type": "code",
      "metadata": {
        "colab": {
          "base_uri": "https://localhost:8080/",
          "height": 211
        },
        "id": "Rd63QtyHsxXi",
        "outputId": "4a5a582d-4ef8-46af-9028-c3cd5db60aa6"
      },
      "source": [
        "z = torch.hstack((x, y))\r\n",
        "plot_matrix(z)"
      ],
      "execution_count": 11,
      "outputs": [
        {
          "output_type": "display_data",
          "data": {
            "image/png": "[encoded data removed]",
            "text/plain": [
              "<Figure size 432x216 with 1 Axes>"
            ]
          },
          "metadata": {
            "tags": [],
            "needs_background": "light"
          }
        }
      ]
    },
    {
      "cell_type": "code",
      "metadata": {
        "colab": {
          "base_uri": "https://localhost:8080/",
          "height": 374
        },
        "id": "y136ZcwotyPn",
        "outputId": "e930ee4a-dc05-46ff-f380-a89e734623c7"
      },
      "source": [
        "z = torch.vstack((x, y))\r\n",
        "plot_matrix(z)"
      ],
      "execution_count": 12,
      "outputs": [
        {
          "output_type": "display_data",
          "data": {
            "image/png": "[encoded data removed]",
            "text/plain": [
              "<Figure size 216x432 with 1 Axes>"
            ]
          },
          "metadata": {
            "tags": [],
            "needs_background": "light"
          }
        }
      ]
    },
    {
      "cell_type": "code",
      "metadata": {
        "colab": {
          "base_uri": "https://localhost:8080/",
          "height": 211
        },
        "id": "y-4DxV1vu4_g",
        "outputId": "16e06f59-219e-47d2-fe66-21e1e3472882"
      },
      "source": [
        "z = torch.transpose(z, 0, 1)\r\n",
        "plot_matrix(z)"
      ],
      "execution_count": 13,
      "outputs": [
        {
          "output_type": "display_data",
          "data": {
            "image/png": "[encoded data removed]",
            "text/plain": [
              "<Figure size 432x216 with 1 Axes>"
            ]
          },
          "metadata": {
            "tags": [],
            "needs_background": "light"
          }
        }
      ]
    },
    {
      "cell_type": "code",
      "metadata": {
        "colab": {
          "base_uri": "https://localhost:8080/",
          "height": 102
        },
        "id": "NYIxG_zLuJmq",
        "outputId": "1e85bbd1-014c-4b70-a148-8ec1762363b0"
      },
      "source": [
        "z = torch.reshape(x, (1,-1))\r\n",
        "plot_matrix(z)"
      ],
      "execution_count": 14,
      "outputs": [
        {
          "output_type": "display_data",
          "data": {
            "image/png": "[encoded data removed]",
            "text/plain": [
              "<Figure size 648x72 with 1 Axes>"
            ]
          },
          "metadata": {
            "tags": [],
            "needs_background": "light"
          }
        }
      ]
    },
    {
      "cell_type": "code",
      "metadata": {
        "colab": {
          "base_uri": "https://localhost:8080/",
          "height": 211
        },
        "id": "DwdznEvDubWC",
        "outputId": "5118d1ad-1c22-4d2c-a1fb-f68bf08b993b"
      },
      "source": [
        "x = torch.full((3,3),2)\r\n",
        "y = torch.tensor([[1, 2, 3], [2, 3, 4], [3, 4, 5]])\r\n",
        "z = torch.where(x > y, x, y)\r\n",
        "plot_matrix(z)"
      ],
      "execution_count": 15,
      "outputs": [
        {
          "output_type": "display_data",
          "data": {
            "image/png": "[encoded data removed]",
            "text/plain": [
              "<Figure size 216x216 with 1 Axes>"
            ]
          },
          "metadata": {
            "tags": [],
            "needs_background": "light"
          }
        }
      ]
    }
  ]
}