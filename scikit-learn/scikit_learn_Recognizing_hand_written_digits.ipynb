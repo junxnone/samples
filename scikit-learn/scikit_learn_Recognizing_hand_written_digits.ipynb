{
  "nbformat": 4,
  "nbformat_minor": 0,
  "metadata": {
    "colab": {
      "name": "scikit-learn_Recognizing_hand-written_digits.ipynb",
      "provenance": [],
      "authorship_tag": "ABX9TyMAfE7a/CkhU7u6VCfcMJMJ",
      "include_colab_link": true
    },
    "kernelspec": {
      "name": "python3",
      "display_name": "Python 3"
    }
  },
  "cells": [
    {
      "cell_type": "markdown",
      "metadata": {
        "id": "view-in-github",
        "colab_type": "text"
      },
      "source": [
        "<a href=\"https://colab.research.google.com/github/junxnone/examples/blob/master/scikit-learn/scikit_learn_Recognizing_hand_written_digits.ipynb\" target=\"_parent\"><img src=\"https://colab.research.google.com/assets/colab-badge.svg\" alt=\"Open In Colab\"/></a>"
      ]
    },
    {
      "cell_type": "code",
      "metadata": {
        "id": "zJHpkx_J5oN3"
      },
      "source": [
        "import matplotlib.pyplot as plt\r\n",
        "from sklearn import datasets, svm, metrics\r\n",
        "from sklearn.model_selection import train_test_split"
      ],
      "execution_count": 1,
      "outputs": []
    },
    {
      "cell_type": "code",
      "metadata": {
        "colab": {
          "base_uri": "https://localhost:8080/",
          "height": 118
        },
        "id": "ajorgmEO5sHO",
        "outputId": "8cfaadd3-8830-4865-cd8e-497817e30d4c"
      },
      "source": [
        "digits = datasets.load_digits()\r\n",
        "\r\n",
        "_, axes = plt.subplots(nrows=1, ncols=10, figsize=(15, 3))\r\n",
        "for ax, image, label in zip(axes, digits.images, digits.target):\r\n",
        "    ax.set_axis_off()\r\n",
        "    ax.imshow(image, cmap=plt.cm.gray_r, interpolation='nearest')\r\n",
        "    ax.set_title('Training: %i' % label)"
      ],
      "execution_count": 8,
      "outputs": [
        {
          "output_type": "display_data",
          "data": {
            "image/png": "[encoded data removed]",
            "text/plain": [
              "<Figure size 1080x216 with 10 Axes>"
            ]
          },
          "metadata": {
            "tags": [],
            "needs_background": "light"
          }
        }
      ]
    },
    {
      "cell_type": "code",
      "metadata": {
        "id": "i1wCrnIe6A-H"
      },
      "source": [
        "n_samples = len(digits.images)\r\n",
        "data = digits.images.reshape((n_samples, -1))\r\n",
        "\r\n",
        "clf = svm.SVC(gamma=0.001)\r\n",
        "\r\n",
        "X_train, X_test, y_train, y_test = train_test_split(\r\n",
        "    data, digits.target, test_size=0.5, shuffle=False)\r\n",
        "\r\n",
        "clf.fit(X_train, y_train)\r\n",
        "\r\n",
        "predicted = clf.predict(X_test)"
      ],
      "execution_count": 42,
      "outputs": []
    },
    {
      "cell_type": "code",
      "metadata": {
        "colab": {
          "base_uri": "https://localhost:8080/"
        },
        "id": "6Rfmv66A7m1i",
        "outputId": "7353e01a-9514-40fe-9e1e-ab1abbc07cf0"
      },
      "source": [
        "X_test.reshape(-1,8,8).shape"
      ],
      "execution_count": 43,
      "outputs": [
        {
          "output_type": "execute_result",
          "data": {
            "text/plain": [
              "(899, 8, 8)"
            ]
          },
          "metadata": {
            "tags": []
          },
          "execution_count": 43
        }
      ]
    },
    {
      "cell_type": "code",
      "metadata": {
        "colab": {
          "base_uri": "https://localhost:8080/",
          "height": 168
        },
        "id": "vHscnlbA6H8a",
        "outputId": "decf7e95-4da0-4873-cea5-facd6097836f"
      },
      "source": [
        "_, axes = plt.subplots(nrows=1, ncols=4, figsize=(10, 3))\r\n",
        "for ax, image, prediction in zip(axes, X_test, predicted):\r\n",
        "    ax.set_axis_off()\r\n",
        "    image = image.reshape(8, 8)\r\n",
        "    ax.imshow(image, cmap=plt.cm.gray_r, interpolation='nearest')\r\n",
        "    ax.set_title(f'Prediction: {prediction}')"
      ],
      "execution_count": 50,
      "outputs": [
        {
          "output_type": "display_data",
          "data": {
            "image/png": "[encoded data removed]",
            "text/plain": [
              "<Figure size 720x216 with 4 Axes>"
            ]
          },
          "metadata": {
            "tags": [],
            "needs_background": "light"
          }
        }
      ]
    },
    {
      "cell_type": "code",
      "metadata": {
        "colab": {
          "base_uri": "https://localhost:8080/"
        },
        "id": "cwY7_peZ6UG4",
        "outputId": "dd3254bc-ff48-4a6d-cbda-092053bc5213"
      },
      "source": [
        "print(f\"Classification report for classifier {clf}:\\n\"\r\n",
        "      f\"{metrics.classification_report(y_test, predicted)}\\n\")"
      ],
      "execution_count": 30,
      "outputs": [
        {
          "output_type": "stream",
          "text": [
            "Classification report for classifier SVC(C=1.0, break_ties=False, cache_size=200, class_weight=None, coef0=0.0,\n",
            "    decision_function_shape='ovr', degree=3, gamma=0.001, kernel='rbf',\n",
            "    max_iter=-1, probability=False, random_state=None, shrinking=True,\n",
            "    tol=0.001, verbose=False):\n",
            "              precision    recall  f1-score   support\n",
            "\n",
            "           0       1.00      0.99      0.99        88\n",
            "           1       0.99      0.97      0.98        91\n",
            "           2       0.99      0.99      0.99        86\n",
            "           3       0.98      0.87      0.92        91\n",
            "           4       0.99      0.96      0.97        92\n",
            "           5       0.95      0.97      0.96        91\n",
            "           6       0.99      0.99      0.99        91\n",
            "           7       0.96      0.99      0.97        89\n",
            "           8       0.94      1.00      0.97        88\n",
            "           9       0.93      0.98      0.95        92\n",
            "\n",
            "    accuracy                           0.97       899\n",
            "   macro avg       0.97      0.97      0.97       899\n",
            "weighted avg       0.97      0.97      0.97       899\n",
            "\n",
            "\n"
          ],
          "name": "stdout"
        }
      ]
    },
    {
      "cell_type": "code",
      "metadata": {
        "colab": {
          "base_uri": "https://localhost:8080/",
          "height": 308
        },
        "id": "SQyMM5Kc6XHh",
        "outputId": "e1926e39-373b-43f3-eedb-261906eb77a9"
      },
      "source": [
        "disp = metrics.plot_confusion_matrix(clf, X_test, y_test)\r\n",
        "disp.figure_.suptitle(\"Confusion Matrix\")\r\n",
        "# print(f\"Confusion matrix:\\n{disp.confusion_matrix}\")\r\n",
        "plt.show()"
      ],
      "execution_count": 18,
      "outputs": [
        {
          "output_type": "display_data",
          "data": {
            "image/png": "[encoded data removed]",
            "text/plain": [
              "<Figure size 432x288 with 2 Axes>"
            ]
          },
          "metadata": {
            "tags": [],
            "needs_background": "light"
          }
        }
      ]
    },
    {
      "cell_type": "code",
      "metadata": {
        "id": "vb86jJLx6muD"
      },
      "source": [
        ""
      ],
      "execution_count": null,
      "outputs": []
    }
  ]
}