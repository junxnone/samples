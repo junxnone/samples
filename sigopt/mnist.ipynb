{
  "nbformat": 4,
  "nbformat_minor": 0,
  "metadata": {
    "colab": {
      "name": "sigopt_mnist.ipynb",
      "provenance": [],
      "collapsed_sections": [],
      "authorship_tag": "ABX9TyMX3R3GGfOFJe244UYZM8or",
      "include_colab_link": true
    },
    "kernelspec": {
      "name": "python3",
      "display_name": "Python 3"
    },
    "language_info": {
      "name": "python"
    },
    "accelerator": "GPU"
  },
  "cells": [
    {
      "cell_type": "markdown",
      "metadata": {
        "id": "view-in-github",
        "colab_type": "text"
      },
      "source": [
        "<a href=\"https://colab.research.google.com/github/junxnone/examples/blob/master/sigopt/mnist.ipynb\" target=\"_parent\"><img src=\"https://colab.research.google.com/assets/colab-badge.svg\" alt=\"Open In Colab\"/></a>"
      ]
    },
    {
      "cell_type": "code",
      "metadata": {
        "id": "3fSc5nE6YF9n"
      },
      "source": [
        "!pip -q install sigopt"
      ],
      "execution_count": null,
      "outputs": []
    },
    {
      "cell_type": "code",
      "metadata": {
        "id": "o3WCy8cmYQN1"
      },
      "source": [
        "!sigopt config\n",
        "import sigopt\n",
        "%load_ext sigopt"
      ],
      "execution_count": null,
      "outputs": []
    },
    {
      "cell_type": "code",
      "metadata": {
        "id": "EdCtju9aYell"
      },
      "source": [
        "import tensorflow as tf\n",
        "import numpy as np\n",
        "from tensorflow import keras\n",
        "from sklearn import metrics\n",
        "import sigopt"
      ],
      "execution_count": null,
      "outputs": []
    },
    {
      "cell_type": "code",
      "metadata": {
        "id": "65lbBGy0YtVy"
      },
      "source": [
        "\n",
        "def train():\n",
        "    mnist = keras.datasets.mnist\n",
        "    (train_images, train_labels), (val_images, val_labels) = mnist.load_data()\n",
        "\n",
        "    train_images = train_images / 255.0\n",
        "    val_images = val_images / 255.0\n",
        "\n",
        "    # Define Model\n",
        "    model = keras.Sequential([\n",
        "        keras.layers.Flatten(input_shape=(28, 28)),\n",
        "        keras.layers.Reshape(target_shape=(28, 28, 1)),\n",
        "        keras.layers.Conv2D(filters=32, kernel_size=(3, 3), activation=tf.nn.relu),\n",
        "        keras.layers.Conv2D(filters=64, kernel_size=(3, 3), activation=tf.nn.relu),\n",
        "        keras.layers.MaxPooling2D(pool_size=(2, 2)),\n",
        "        keras.layers.Dropout(0.25),\n",
        "        keras.layers.Flatten(input_shape=(28, 28)),\n",
        "        keras.layers.Dense(128, activation=tf.nn.relu),\n",
        "        keras.layers.Dropout(0.5),\n",
        "        keras.layers.Dense(10)\n",
        "    ])\n",
        "    sel_optimizer = sigopt.params.optimizer\n",
        "    sel_batchsize = sigopt.params.batch_size\n",
        "    sel_init_lr = sigopt.params.lr\n",
        "    print(f' select optimizer/batchsize/learing_rate {sel_optimizer} / {sel_batchsize} /{sel_init_lr}')\n",
        "\n",
        "    lr_schedule = keras.optimizers.schedules.ExponentialDecay(\n",
        "      initial_learning_rate=sel_init_lr,\n",
        "      decay_steps=50,\n",
        "      decay_rate=0.9)\n",
        "    if sel_optimizer == 'SGD':\n",
        "      optimizer = keras.optimizers.SGD(learning_rate=lr_schedule)\n",
        "    elif sel_optimizer == 'Adam':\n",
        "      optimizer = keras.optimizers.Adam(learning_rate=lr_schedule)\n",
        "    model.compile(optimizer=optimizer,\n",
        "                  loss=tf.keras.losses.SparseCategoricalCrossentropy(from_logits=True),\n",
        "                  metrics=['accuracy'])\n",
        "\n",
        "    model.fit(train_images, train_labels, batch_size=sel_batchsize, epochs=5, validation_data=(val_images, val_labels))\n",
        "\n",
        "\n",
        "    # Evalution\n",
        "    preds = model.predict(val_images)\n",
        "    preds_sort = np.argsort(-preds, axis=1)\n",
        "\n",
        "    preds_labels = []\n",
        "    for i in range(preds_sort.shape[0]):\n",
        "        preds_labels.append(preds_sort[i][0])\n",
        "\n",
        "    acc = metrics.accuracy_score(val_labels, preds_labels)\n",
        "    print(f'Accuracy is {acc}')\n",
        "\n",
        "    recall = metrics.recall_score(val_labels, preds_labels, average='macro')\n",
        "    print(f'Recall is {recall}')\n",
        "\n",
        "    precision = metrics.precision_score(val_labels, preds_labels, average='macro')\n",
        "    print(f'Precision is {precision}')\n",
        "\n",
        "    top3_acc = metrics.top_k_accuracy_score(val_labels, preds, k = 3)\n",
        "\n",
        "    print(f'top 3 acc is {top3_acc}')\n",
        " \n",
        "    return acc, top3_acc, recall, precision"
      ],
      "execution_count": 13,
      "outputs": []
    },
    {
      "cell_type": "code",
      "metadata": {
        "id": "VeAWkDARY6Zt"
      },
      "source": [
        "%%experiment\n",
        "{\n",
        "    'name': 'mnist colab',\n",
        "    'metrics': [\n",
        "        {\n",
        "            'name': 'accuracy',\n",
        "            'strategy': 'optimize',\n",
        "            'objective': 'maximize',\n",
        "        },\n",
        "        {\n",
        "            'name': 'recall',\n",
        "            'strategy': 'optimize',\n",
        "            'objective': 'maximize',\n",
        "        }\n",
        "    ],\n",
        "    'parameters': [\n",
        "        {\n",
        "            'name': 'batch_size',\n",
        "            'type': 'int',\n",
        "            'grid': [32, 64, 128, 256, 512]\n",
        "        },\n",
        "        {\n",
        "            'name': 'lr',\n",
        "            'type': 'double',\n",
        "            'bounds': {'min': 0.0001, 'max': 0.8}\n",
        "        },\n",
        "        {\n",
        "            'name': 'optimizer',\n",
        "            'type': 'categorical',\n",
        "            'categorical_values': [\"Adam\", \"SGD\"]\n",
        "        }\n",
        "    ],\n",
        "    'budget': 20\n",
        "}"
      ],
      "execution_count": null,
      "outputs": []
    },
    {
      "cell_type": "code",
      "metadata": {
        "id": "s-gbf5BFY2SD"
      },
      "source": [
        "%%optimize mnist_colab\n",
        "\n",
        "try:\n",
        "\n",
        "  # train\n",
        "  sigopt.log_dataset(\"Mnist\")\n",
        "  sigopt.log_model(type=\"CNN\")\n",
        "  sigopt.log_metadata(key=\"Dataset Source\", value=\"tensorflow.keras.datasets\")\n",
        "  val_acc, top3_acc, recall, precision = train()\n",
        "  sigopt.log_metric(name='accuracy', value=val_acc)\n",
        "  sigopt.log_metric(name='recall', value=recall)\n",
        "except Exception as e:\n",
        "  LOG.exception(e)\n",
        "  raise"
      ],
      "execution_count": null,
      "outputs": []
    },
    {
      "cell_type": "code",
      "metadata": {
        "id": "xLxO0_k-t2LV"
      },
      "source": [
        ""
      ],
      "execution_count": null,
      "outputs": []
    }
  ]
}