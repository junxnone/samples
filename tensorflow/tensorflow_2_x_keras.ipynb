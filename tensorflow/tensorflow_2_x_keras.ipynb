{
  "nbformat": 4,
  "nbformat_minor": 0,
  "metadata": {
    "colab": {
      "name": "tensorflow_2.x_keras.ipynb",
      "provenance": [],
      "include_colab_link": true
    },
    "kernelspec": {
      "name": "python3",
      "display_name": "Python 3"
    }
  },
  "cells": [
    {
      "cell_type": "markdown",
      "metadata": {
        "id": "view-in-github",
        "colab_type": "text"
      },
      "source": [
        "<a href=\"https://colab.research.google.com/github/junxnone/examples/blob/master/tensorflow/tensorflow_2_x_keras.ipynb\" target=\"_parent\"><img src=\"https://colab.research.google.com/assets/colab-badge.svg\" alt=\"Open In Colab\"/></a>"
      ]
    },
    {
      "cell_type": "code",
      "metadata": {
        "id": "L0kdEKbRNNR4",
        "colab_type": "code",
        "colab": {
          "base_uri": "https://localhost:8080/",
          "height": 68
        },
        "outputId": "975001d4-a9f6-4774-b1b3-a7766b768a09"
      },
      "source": [
        "%tensorflow_version 2.x\n",
        "import tensorflow as tf\n",
        "from tensorflow.keras import layers\n",
        "print(tf.__version__)\n",
        "print(tf.keras.__version__)"
      ],
      "execution_count": 1,
      "outputs": [
        {
          "output_type": "stream",
          "text": [
            "TensorFlow 2.x selected.\n",
            "2.0.0\n",
            "2.2.4-tf\n"
          ],
          "name": "stdout"
        }
      ]
    },
    {
      "cell_type": "markdown",
      "metadata": {
        "id": "eLOER7RDNgEa",
        "colab_type": "text"
      },
      "source": [
        "#1 定义model\n",
        "## 1.1 tf.keras.Sequential 模型\n",
        "- activation：激活函数。设置为内置函数的名称或可调用对象。默认情况下，系统不会应用任何激活函数。\n",
        "- kernel_initializer & bias_initializer：创建层权重（核和偏差）的初始化方案。此参数是一个名称或可调用对象，默认为 \"Glorot uniform\" 初始化器。\n",
        "\n",
        "- kernel_regularizer & bias_regularizer：应用层权重（核和偏差）的正则化方案，例如 L1 或 L2 正则化。默认情况下，系统不会应用正则化函数。"
      ]
    },
    {
      "cell_type": "code",
      "metadata": {
        "id": "IvPpkW5ZNS6c",
        "colab_type": "code",
        "colab": {}
      },
      "source": [
        "model = tf.keras.Sequential()\n",
        "model.add(layers.Dense(32, activation='relu'))\n",
        "model.add(layers.Dense(32, activation='relu'))\n",
        "model.add(layers.Dense(10, activation='softmax'))"
      ],
      "execution_count": 0,
      "outputs": []
    },
    {
      "cell_type": "code",
      "metadata": {
        "id": "2beXke0cOJal",
        "colab_type": "code",
        "colab": {
          "base_uri": "https://localhost:8080/",
          "height": 34
        },
        "outputId": "ce0dc670-f354-4b11-c3ba-8dcf94158414"
      },
      "source": [
        "layers.Dense(32, activation='sigmoid')  # 内置函数名称\n",
        "layers.Dense(32, activation=tf.sigmoid) # 可调用对象\n",
        "layers.Dense(32, kernel_initializer='orthogonal') # 名称\n",
        "layers.Dense(32, kernel_initializer=tf.keras.initializers.glorot_normal) # 可调用对象\n",
        "layers.Dense(32, kernel_regularizer=tf.keras.regularizers.l2(0.01)) # L2 正则化\n",
        "layers.Dense(32, kernel_regularizer=tf.keras.regularizers.l1(0.01)) # L1 正则化"
      ],
      "execution_count": 3,
      "outputs": [
        {
          "output_type": "execute_result",
          "data": {
            "text/plain": [
              "<tensorflow.python.keras.layers.core.Dense at 0x7efd5c8728d0>"
            ]
          },
          "metadata": {
            "tags": []
          },
          "execution_count": 3
        }
      ]
    },
    {
      "cell_type": "markdown",
      "metadata": {
        "id": "V8aBET_IPFSv",
        "colab_type": "text"
      },
      "source": [
        "#2 设置优化函数 - loss - metrics"
      ]
    },
    {
      "cell_type": "code",
      "metadata": {
        "id": "1J-__Yh7PA77",
        "colab_type": "code",
        "colab": {}
      },
      "source": [
        "model.compile(optimizer=tf.keras.optimizers.Adam(0.001),\n",
        "             loss=tf.keras.losses.categorical_crossentropy,\n",
        "             metrics=[tf.keras.metrics.categorical_accuracy])"
      ],
      "execution_count": 0,
      "outputs": []
    },
    {
      "cell_type": "markdown",
      "metadata": {
        "id": "_DTbDHd1QKS8",
        "colab_type": "text"
      },
      "source": [
        "# 3 输入\n",
        "## 3.1 numpy array\n"
      ]
    },
    {
      "cell_type": "code",
      "metadata": {
        "id": "bEYKB95MPPb3",
        "colab_type": "code",
        "colab": {
          "base_uri": "https://localhost:8080/",
          "height": 51
        },
        "outputId": "c139f9d2-7aff-4790-ee2b-dac83ec46428"
      },
      "source": [
        "import numpy as np\n",
        "\n",
        "train_x = np.random.random((1000, 72))\n",
        "train_y = np.random.random((1000, 10))\n",
        "\n",
        "val_x = np.random.random((200, 72))\n",
        "val_y = np.random.random((200, 10))\n",
        "\n",
        "print(\"train x/y shape is: {} {}\".format(train_x.shape,train_y.shape))\n",
        "print(\"val x/y shape is: {} {}\".format(val_x.shape,val_y.shape))"
      ],
      "execution_count": 5,
      "outputs": [
        {
          "output_type": "stream",
          "text": [
            "train x/y shape is: (1000, 72) (1000, 10)\n",
            "val x/y shape is: (200, 72) (200, 10)\n"
          ],
          "name": "stdout"
        }
      ]
    },
    {
      "cell_type": "code",
      "metadata": {
        "id": "tUK-haGwPzbF",
        "colab_type": "code",
        "colab": {
          "base_uri": "https://localhost:8080/",
          "height": 68
        },
        "outputId": "5a9fbc94-dbeb-4558-ead3-f1a30e127393"
      },
      "source": [
        "model.fit(train_x, train_y, epochs=1, batch_size=100,\n",
        "          validation_data=(val_x, val_y))"
      ],
      "execution_count": 6,
      "outputs": [
        {
          "output_type": "stream",
          "text": [
            "Train on 1000 samples, validate on 200 samples\n",
            "1000/1000 [==============================] - 1s 1ms/sample - loss: 12.3884 - categorical_accuracy: 0.1020 - val_loss: 12.7474 - val_categorical_accuracy: 0.0900\n"
          ],
          "name": "stdout"
        },
        {
          "output_type": "execute_result",
          "data": {
            "text/plain": [
              "<tensorflow.python.keras.callbacks.History at 0x7efd57ebbb70>"
            ]
          },
          "metadata": {
            "tags": []
          },
          "execution_count": 6
        }
      ]
    },
    {
      "cell_type": "markdown",
      "metadata": {
        "id": "ZizdfKAXRkXI",
        "colab_type": "text"
      },
      "source": [
        "## 3.2 tf.data"
      ]
    },
    {
      "cell_type": "code",
      "metadata": {
        "id": "asXgTR55PzRC",
        "colab_type": "code",
        "colab": {
          "base_uri": "https://localhost:8080/",
          "height": 68
        },
        "outputId": "ac9cf939-8904-480a-ab7d-4bd5e05677d7"
      },
      "source": [
        "dataset = tf.data.Dataset.from_tensor_slices((train_x, train_y))\n",
        "dataset = dataset.batch(32)\n",
        "dataset = dataset.repeat()\n",
        "dataset = dataset.shuffle(8)\n",
        "val_dataset = tf.data.Dataset.from_tensor_slices((val_x, val_y))\n",
        "val_dataset = val_dataset.batch(32)\n",
        "val_dataset = val_dataset.repeat()\n",
        "\n",
        "model.fit(dataset, epochs=1, steps_per_epoch=30, shuffle = True,\n",
        "          validation_data=val_dataset, validation_steps=3)"
      ],
      "execution_count": 7,
      "outputs": [
        {
          "output_type": "stream",
          "text": [
            "Train for 30 steps, validate for 3 steps\n",
            "30/30 [==============================] - 0s 13ms/step - loss: 16.0010 - categorical_accuracy: 0.1004 - val_loss: 21.9230 - val_categorical_accuracy: 0.1042\n"
          ],
          "name": "stdout"
        },
        {
          "output_type": "execute_result",
          "data": {
            "text/plain": [
              "<tensorflow.python.keras.callbacks.History at 0x7efd55063d68>"
            ]
          },
          "metadata": {
            "tags": []
          },
          "execution_count": 7
        }
      ]
    },
    {
      "cell_type": "code",
      "metadata": {
        "id": "NEYCcwubTbeQ",
        "colab_type": "code",
        "colab": {
          "base_uri": "https://localhost:8080/",
          "height": 34
        },
        "outputId": "06c3a764-05ad-4fce-a406-0824046c2346"
      },
      "source": [
        "from datetime import datetime\n",
        "\n",
        "curtime = datetime.now()\n",
        "model.save_weights('./checkpoint/{}'.format(curtime))\n",
        "model.load_weights('./checkpoint/{}'.format(curtime))\n"
      ],
      "execution_count": 8,
      "outputs": [
        {
          "output_type": "execute_result",
          "data": {
            "text/plain": [
              "<tensorflow.python.training.tracking.util.CheckpointLoadStatus at 0x7efd550bcf60>"
            ]
          },
          "metadata": {
            "tags": []
          },
          "execution_count": 8
        }
      ]
    },
    {
      "cell_type": "code",
      "metadata": {
        "id": "fALmHjwScGos",
        "colab_type": "code",
        "colab": {
          "base_uri": "https://localhost:8080/",
          "height": 119
        },
        "outputId": "aabc8286-8451-45ba-f0f9-410b7164105b"
      },
      "source": [
        "!ls checkpoint"
      ],
      "execution_count": 9,
      "outputs": [
        {
          "output_type": "stream",
          "text": [
            "'2019-11-02 09:30:18.423365.data-00000-of-00002'\n",
            "'2019-11-02 09:30:18.423365.data-00001-of-00002'\n",
            "'2019-11-02 09:30:18.423365.index'\n",
            "'2019-11-02 09:31:22.402181.data-00000-of-00001'\n",
            "'2019-11-02 09:31:22.402181.index'\n",
            " checkpoint\n"
          ],
          "name": "stdout"
        }
      ]
    },
    {
      "cell_type": "code",
      "metadata": {
        "id": "_glJpndcbgpT",
        "colab_type": "code",
        "colab": {}
      },
      "source": [
        "model.save_weights('./model.h5')\n",
        "model.load_weights('./model.h5')\n",
        "model.save('my_model.h5')"
      ],
      "execution_count": 0,
      "outputs": []
    },
    {
      "cell_type": "code",
      "metadata": {
        "id": "otU863QXbPXe",
        "colab_type": "code",
        "colab": {
          "base_uri": "https://localhost:8080/",
          "height": 34
        },
        "outputId": "66c0916f-6cd3-4cb2-e634-341bddef6f34"
      },
      "source": [
        "!ls "
      ],
      "execution_count": 11,
      "outputs": [
        {
          "output_type": "stream",
          "text": [
            "all_model.h5  checkpoint  model.h5  my_model.h5  sample_data\n"
          ],
          "name": "stdout"
        }
      ]
    }
  ]
}