{
  "nbformat": 4,
  "nbformat_minor": 0,
  "metadata": {
    "colab": {
      "name": "tf_extract_image_patches.ipynb",
      "provenance": [],
      "collapsed_sections": [],
      "authorship_tag": "ABX9TyNgBB6/10aDrs/iVmLtJw75",
      "include_colab_link": true
    },
    "kernelspec": {
      "name": "python3",
      "display_name": "Python 3"
    }
  },
  "cells": [
    {
      "cell_type": "markdown",
      "metadata": {
        "id": "view-in-github",
        "colab_type": "text"
      },
      "source": [
        "<a href=\"https://colab.research.google.com/github/junxnone/examples/blob/master/tensorflow/tf_extract_image_patches.ipynb\" target=\"_parent\"><img src=\"https://colab.research.google.com/assets/colab-badge.svg\" alt=\"Open In Colab\"/></a>"
      ]
    },
    {
      "cell_type": "markdown",
      "metadata": {
        "id": "hNuKT3FxXo6-",
        "colab_type": "text"
      },
      "source": [
        "- [tf.extract_image_patches()](https://www.tensorflow.org/api_docs/python/tf/image/extract_patches)\n",
        "\n",
        "```\n",
        "tf.image.extract_patches(\n",
        "    images,\n",
        "    sizes,\n",
        "    strides,\n",
        "    rates,\n",
        "    padding,\n",
        "    name=None\n",
        ")\n",
        "```\n",
        "- images: 4 维 Tensor. Shape = `[batch, in_rows, in_cols, depth]\n",
        "- sizes: 获取 patch 的大小. Shape = [1, size_rows, size_cols, 1].\n",
        "- strides: 1 维 Tensor. Shape = [1, stride_rows, stride_cols, 1]. 两个patch 中心距离.\n",
        "- rates: 1 维 Tensor. Shape = [1, rate_rows, rate_cols, 1]. 隔多少点取一个 pixel，类似 dilate 卷积.\n",
        "- padding: `VALID` patch 必须在图像内，`SAME` patch 部分可以不在图像内，超出部分填充 `0`.\n",
        "- name: A name for the operation (optional)."
      ]
    },
    {
      "cell_type": "code",
      "metadata": {
        "id": "yZTx7dj4XVgD",
        "colab_type": "code",
        "colab": {
          "base_uri": "https://localhost:8080/",
          "height": 63
        },
        "outputId": "e0b50a0b-9ab6-429d-e5bd-789005194020"
      },
      "source": [
        "import tensorflow as tf"
      ],
      "execution_count": 1,
      "outputs": [
        {
          "output_type": "display_data",
          "data": {
            "text/html": [
              "<p style=\"color: red;\">\n",
              "The default version of TensorFlow in Colab will soon switch to TensorFlow 2.x.<br>\n",
              "We recommend you <a href=\"https://www.tensorflow.org/guide/migrate\" target=\"_blank\">upgrade</a> now \n",
              "or ensure your notebook will continue to use TensorFlow 1.x via the <code>%tensorflow_version 1.x</code> magic:\n",
              "<a href=\"https://colab.research.google.com/notebooks/tensorflow_version.ipynb\" target=\"_blank\">more info</a>.</p>\n"
            ],
            "text/plain": [
              "<IPython.core.display.HTML object>"
            ]
          },
          "metadata": {
            "tags": []
          }
        }
      ]
    },
    {
      "cell_type": "code",
      "metadata": {
        "id": "Ov4j5VSKXb8i",
        "colab_type": "code",
        "colab": {
          "base_uri": "https://localhost:8080/",
          "height": 187
        },
        "outputId": "9f47c432-601e-4133-a50c-5bca8abef041"
      },
      "source": [
        "n = 10\n",
        "images = [[[[x * n + y + 1] for y in range(n)] for x in range(n)]]\n",
        "for i in range(0,10):\n",
        "  print(images[0][i])"
      ],
      "execution_count": 2,
      "outputs": [
        {
          "output_type": "stream",
          "text": [
            "[[1], [2], [3], [4], [5], [6], [7], [8], [9], [10]]\n",
            "[[11], [12], [13], [14], [15], [16], [17], [18], [19], [20]]\n",
            "[[21], [22], [23], [24], [25], [26], [27], [28], [29], [30]]\n",
            "[[31], [32], [33], [34], [35], [36], [37], [38], [39], [40]]\n",
            "[[41], [42], [43], [44], [45], [46], [47], [48], [49], [50]]\n",
            "[[51], [52], [53], [54], [55], [56], [57], [58], [59], [60]]\n",
            "[[61], [62], [63], [64], [65], [66], [67], [68], [69], [70]]\n",
            "[[71], [72], [73], [74], [75], [76], [77], [78], [79], [80]]\n",
            "[[81], [82], [83], [84], [85], [86], [87], [88], [89], [90]]\n",
            "[[91], [92], [93], [94], [95], [96], [97], [98], [99], [100]]\n"
          ],
          "name": "stdout"
        }
      ]
    },
    {
      "cell_type": "code",
      "metadata": {
        "id": "kytnfmCZbXXd",
        "colab_type": "code",
        "colab": {
          "base_uri": "https://localhost:8080/",
          "height": 207
        },
        "outputId": "1d7a568f-0823-4f85-9360-0bbe428a140e"
      },
      "source": [
        "with tf.Session() as sess:\n",
        "    print('\\nstrides 取 5:')\n",
        "    print(tf.extract_image_patches(images=images, ksizes=[1, 3, 3, 1], strides=[1, 5, 5, 1], rates=[1, 1, 1, 1], padding='VALID').eval())"
      ],
      "execution_count": 3,
      "outputs": [
        {
          "output_type": "stream",
          "text": [
            "\n",
            "strides 取 5:\n",
            "WARNING:tensorflow:From <ipython-input-3-3ce9f9aaec42>:3: calling extract_image_patches (from tensorflow.python.ops.array_ops) with ksizes is deprecated and will be removed in a future version.\n",
            "Instructions for updating:\n",
            "ksizes is deprecated, use sizes instead\n",
            "[[[[ 1  2  3 11 12 13 21 22 23]\n",
            "   [ 6  7  8 16 17 18 26 27 28]]\n",
            "\n",
            "  [[51 52 53 61 62 63 71 72 73]\n",
            "   [56 57 58 66 67 68 76 77 78]]]]\n"
          ],
          "name": "stdout"
        }
      ]
    },
    {
      "cell_type": "markdown",
      "metadata": {
        "id": "ub3iYRqUbIHC",
        "colab_type": "text"
      },
      "source": [
        "```\n",
        " *  *  *  4  5  *  *  *  9 10\n",
        " *  *  * 14 15  *  *  * 19 20\n",
        " *  *  * 24 25  *  *  * 29 30\n",
        "31 32 33 34 35 36 37 38 39 40\n",
        "41 42 43 44 45 46 47 48 49 50\n",
        " *  *  * 54 55  *  *  * 59 60\n",
        " *  *  * 64 65  *  *  * 69 70\n",
        " *  *  * 74 75  *  *  * 79 80\n",
        "81 82 83 84 85 86 87 88 89 90\n",
        "91 92 93 94 95 96 97 98 99 100\n",
        "```"
      ]
    },
    {
      "cell_type": "code",
      "metadata": {
        "id": "PRRqu-Aobd0A",
        "colab_type": "code",
        "colab": {
          "base_uri": "https://localhost:8080/",
          "height": 136
        },
        "outputId": "5970f319-9f03-4633-b6f4-eb1a8e9360a0"
      },
      "source": [
        "with tf.Session() as sess:\n",
        "    print('\\nrates 取 2:')\n",
        "    print(tf.extract_image_patches(images=images, ksizes=[1, 3, 3, 1], strides=[1, 5, 5, 1], rates=[1, 2, 2, 1], padding='VALID').eval())"
      ],
      "execution_count": 4,
      "outputs": [
        {
          "output_type": "stream",
          "text": [
            "\n",
            "rates 取 2:\n",
            "[[[[  1   3   5  21  23  25  41  43  45]\n",
            "   [  6   8  10  26  28  30  46  48  50]]\n",
            "\n",
            "  [[ 51  53  55  71  73  75  91  93  95]\n",
            "   [ 56  58  60  76  78  80  96  98 100]]]]\n"
          ],
          "name": "stdout"
        }
      ]
    },
    {
      "cell_type": "markdown",
      "metadata": {
        "id": "zGP6lIzjclq7",
        "colab_type": "text"
      },
      "source": [
        "```\n",
        "   *  2  *  4  *  x  7  x  9  x\n",
        "  11 12 13 14 15 16 17 18 19 20\n",
        "   * 22  * 24  *  x 27  x 29  x\n",
        "  31 32 33 34 35 36 37 38 39 40\n",
        "   * 42  * 44  *  x 47  x 49  x\n",
        "   + 52  + 54  +  o 57  o 59  o\n",
        "  61 62 63 64 65 66 67 68 69 70\n",
        "   + 72  + 74  +  o 77  o 79  o\n",
        "  81 82 83 84 85 86 87 88 89 90\n",
        "   + 92  + 94  +  o 97  o 99  o\n",
        "```"
      ]
    },
    {
      "cell_type": "code",
      "metadata": {
        "id": "SYOYZRm9bhfv",
        "colab_type": "code",
        "colab": {
          "base_uri": "https://localhost:8080/",
          "height": 68
        },
        "outputId": "f7bf3e2d-a807-4f07-87f5-a02dafbb83b9"
      },
      "source": [
        "with tf.Session() as sess:\n",
        "    print('\\nstrides 取 7, 图像不足以取第二个patch:')\n",
        "    print(tf.extract_image_patches(images=images, ksizes=[1, 4, 4, 1], strides=[1, 7, 7, 1], rates=[1, 1, 1, 1], padding='VALID').eval()) "
      ],
      "execution_count": 5,
      "outputs": [
        {
          "output_type": "stream",
          "text": [
            "\n",
            "strides 取 7, 图像不足以取第二个patch:\n",
            "[[[[ 1  2  3  4 11 12 13 14 21 22 23 24 31 32 33 34]]]]\n"
          ],
          "name": "stdout"
        }
      ]
    },
    {
      "cell_type": "markdown",
      "metadata": {
        "id": "seeisZxmcrB8",
        "colab_type": "text"
      },
      "source": [
        "```\n",
        " *  *  *  *  5  6  7  8  9 10\n",
        " *  *  *  * 15 16 17 18 19 20\n",
        " *  *  *  * 25 26 27 28 29 30\n",
        " *  *  *  * 35 36 37 38 39 40\n",
        "41 42 43 44 45 46 47 48 49 50\n",
        "51 52 53 54 55 56 57 58 59 60\n",
        "61 62 63 64 65 66 67 68 69 70\n",
        "71 72 73 74 75 76 77 78 79 80\n",
        "81 82 83 84 85 86 87 88 89 90\n",
        "91 92 93 94 95 96 97 98 99 100\n",
        "```"
      ]
    },
    {
      "cell_type": "code",
      "metadata": {
        "id": "zjKWreXJbk5o",
        "colab_type": "code",
        "colab": {
          "base_uri": "https://localhost:8080/",
          "height": 136
        },
        "outputId": "18a09164-c668-4ee3-8958-24e64d556f24"
      },
      "source": [
        "with tf.Session() as sess:\n",
        "    print('\\npadding 取 SAME, 不足部分填充 0:')\n",
        "    print(tf.extract_image_patches(images=images, ksizes=[1, 4, 4, 1], strides=[1, 7, 7, 1], rates=[1, 1, 1, 1], padding='SAME').eval())"
      ],
      "execution_count": 6,
      "outputs": [
        {
          "output_type": "stream",
          "text": [
            "\n",
            "padding 取 SAME, 不足部分填充 0:\n",
            "[[[[  1   2   3   4  11  12  13  14  21  22  23  24  31  32  33  34]\n",
            "   [  8   9  10   0  18  19  20   0  28  29  30   0  38  39  40   0]]\n",
            "\n",
            "  [[ 71  72  73  74  81  82  83  84  91  92  93  94   0   0   0   0]\n",
            "   [ 78  79  80   0  88  89  90   0  98  99 100   0   0   0   0   0]]]]\n"
          ],
          "name": "stdout"
        }
      ]
    },
    {
      "cell_type": "markdown",
      "metadata": {
        "id": "NFCscscMdZY4",
        "colab_type": "text"
      },
      "source": [
        "```\n",
        " *  *  *  *  5  6  7  *  *  * +0\n",
        " *  *  *  * 15 16 17  *  *  * +0\n",
        " *  *  *  * 25 26 27  *  *  * +0\n",
        " *  *  *  * 35 36 37  *  *  * +0\n",
        "41 42 43 44 45 46 47 48 49 50\n",
        "51 52 53 54 55 56 57 58 59 60\n",
        "61 62 63 64 65 66 67 68 69 70\n",
        " *  *  *  * 75 76 77  *  *  * +0\n",
        " *  *  *  * 85 86 87  *  *  * +0\n",
        " *  *  *  * 95 96 97  *  *  * +0\n",
        "+0 +0 +0 +0          +0 +0 +0 +0\n",
        "```"
      ]
    }
  ]
}