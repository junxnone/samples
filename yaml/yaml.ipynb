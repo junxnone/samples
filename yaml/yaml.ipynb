{
  "nbformat": 4,
  "nbformat_minor": 0,
  "metadata": {
    "colab": {
      "provenance": [],
      "authorship_tag": "ABX9TyNMIBfk5k/iOCGMle1bGNRk",
      "include_colab_link": true
    },
    "kernelspec": {
      "name": "python3",
      "display_name": "Python 3"
    },
    "language_info": {
      "name": "python"
    }
  },
  "cells": [
    {
      "cell_type": "markdown",
      "metadata": {
        "id": "view-in-github",
        "colab_type": "text"
      },
      "source": [
        "<a href=\"https://colab.research.google.com/github/junxnone/samples/blob/main/yaml/yaml.ipynb\" target=\"_parent\"><img src=\"https://colab.research.google.com/assets/colab-badge.svg\" alt=\"Open In Colab\"/></a>"
      ]
    },
    {
      "cell_type": "code",
      "execution_count": 1,
      "metadata": {
        "colab": {
          "base_uri": "https://localhost:8080/"
        },
        "id": "l4PbJkq1rKs8",
        "outputId": "67caf26a-82da-456f-eafa-85e195cfd54d"
      },
      "outputs": [
        {
          "output_type": "stream",
          "name": "stdout",
          "text": [
            "Looking in indexes: https://pypi.org/simple, https://us-python.pkg.dev/colab-wheels/public/simple/\n",
            "Collecting ruamel.yaml\n",
            "  Downloading ruamel.yaml-0.17.21-py3-none-any.whl (109 kB)\n",
            "\u001b[K     |████████████████████████████████| 109 kB 4.4 MB/s \n",
            "\u001b[?25hCollecting ruamel.yaml.clib>=0.2.6\n",
            "  Downloading ruamel.yaml.clib-0.2.7-cp38-cp38-manylinux_2_17_x86_64.manylinux2014_x86_64.manylinux_2_24_x86_64.whl (555 kB)\n",
            "\u001b[K     |████████████████████████████████| 555 kB 28.5 MB/s \n",
            "\u001b[?25hInstalling collected packages: ruamel.yaml.clib, ruamel.yaml\n",
            "Successfully installed ruamel.yaml-0.17.21 ruamel.yaml.clib-0.2.7\n"
          ]
        }
      ],
      "source": [
        "!pip install ruamel.yaml"
      ]
    },
    {
      "cell_type": "code",
      "source": [
        "from ruamel.yaml import YAML\n",
        "from pathlib import Path"
      ],
      "metadata": {
        "id": "pJstZpfRr1LA"
      },
      "execution_count": 4,
      "outputs": []
    },
    {
      "cell_type": "markdown",
      "source": [
        "# 写 yaml"
      ],
      "metadata": {
        "id": "JBEDJSML7u4l"
      }
    },
    {
      "cell_type": "code",
      "source": [
        "yaml=YAML()\n",
        "yaml.default_flow_style = False\n",
        "s = Path('test.yml')\n",
        "yaml.dump([{'a1': [{'a1.1': [{'a1.1.1': [{'a1.1.1.1': None}]}, {'a1.1.2': None}]}, {'a1.2': None}, {'a1.3': None}]}, {'b1': [{'b1.1': None}, {'b1.2': None}]}, {'c1': [{'c1.1': None}]}]\n",
        ", s)"
      ],
      "metadata": {
        "id": "-G8J82AVr24_"
      },
      "execution_count": 14,
      "outputs": []
    },
    {
      "cell_type": "markdown",
      "source": [
        "# 读 yaml"
      ],
      "metadata": {
        "id": "gUTBZecw7z5n"
      }
    },
    {
      "cell_type": "code",
      "source": [
        "yaml=YAML(typ='safe')\n",
        "sbc = yaml.load(s)\n"
      ],
      "metadata": {
        "id": "m6y1M1Lwsegk"
      },
      "execution_count": 17,
      "outputs": []
    },
    {
      "cell_type": "markdown",
      "source": [
        "# 遍历"
      ],
      "metadata": {
        "id": "bGXaDcPMDkRl"
      }
    },
    {
      "cell_type": "code",
      "source": [
        "def r_print(ct, levl):\n",
        "    if not isinstance(ct, (list, dict)):\n",
        "        return None\n",
        "    if isinstance(ct, list):\n",
        "        for k in ct:\n",
        "            r_print(k, levl+1)\n",
        "    if isinstance(ct, dict):\n",
        "        for k, v in ct.items():\n",
        "            #print(f'{k} - {v}')\n",
        "            print(' ' * levl + f'- {k}')\n",
        "            r_print(ct[k], levl+1)\n",
        "r_print(sbc, 0)"
      ],
      "metadata": {
        "colab": {
          "base_uri": "https://localhost:8080/"
        },
        "id": "wyFqpq_UCdAL",
        "outputId": "3c54a7e9-3960-4fa5-9793-c99c8885462d"
      },
      "execution_count": 19,
      "outputs": [
        {
          "output_type": "stream",
          "name": "stdout",
          "text": [
            " - a1\n",
            "   - a1.1\n",
            "     - a1.1.1\n",
            "       - a1.1.1.1\n",
            "     - a1.1.2\n",
            "   - a1.2\n",
            "   - a1.3\n",
            " - b1\n",
            "   - b1.1\n",
            "   - b1.2\n",
            " - c1\n",
            "   - c1.1\n"
          ]
        }
      ]
    },
    {
      "cell_type": "markdown",
      "source": [
        "# 查询"
      ],
      "metadata": {
        "id": "0yG998ZbDmPl"
      }
    },
    {
      "cell_type": "code",
      "source": [
        "def rsearch(ct, title, levl):\n",
        "    if not isinstance(ct, (list, dict)):\n",
        "        return None\n",
        "    if isinstance(ct, list):\n",
        "        for k in ct:\n",
        "            rsearch(k, title, levl+1)\n",
        "    if isinstance(ct, dict):\n",
        "        for k, v in ct.items():\n",
        "            #print(f'{k} - {v}')\n",
        "            #print(' ' * levl + f'- {k}')\n",
        "            if k == title:\n",
        "                print(v)\n",
        "            rsearch(ct[k], title, levl+1)\n",
        "            \n",
        "rsearch(sbc, 'a1.1', 0)"
      ],
      "metadata": {
        "colab": {
          "base_uri": "https://localhost:8080/"
        },
        "id": "ev2av9W-Dhvw",
        "outputId": "c5479d8e-1e1e-4830-e79b-017c88fc760e"
      },
      "execution_count": 20,
      "outputs": [
        {
          "output_type": "stream",
          "name": "stdout",
          "text": [
            "[{'a1.1.1': [{'a1.1.1.1': None}]}, {'a1.1.2': None}]\n"
          ]
        }
      ]
    }
  ]
}